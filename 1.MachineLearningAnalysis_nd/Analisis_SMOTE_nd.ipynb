{
 "cells": [
  {
   "cell_type": "markdown",
   "id": "4adc6f5a",
   "metadata": {},
   "source": [
    "Iñigo Martin Melero"
   ]
  },
  {
   "cell_type": "markdown",
   "id": "979dd326",
   "metadata": {},
   "source": [
    "## Analisis SMOTE Amat"
   ]
  },
  {
   "cell_type": "markdown",
   "id": "cdf71be4",
   "metadata": {},
   "source": [
    "### 0) Librerias"
   ]
  },
  {
   "cell_type": "code",
   "execution_count": 1,
   "id": "ff7786a8",
   "metadata": {},
   "outputs": [],
   "source": [
    "import pandas as pd\n",
    "import numpy as np\n",
    "import matplotlib.pyplot as plt\n",
    "from imblearn.over_sampling import SMOTE\n",
    "from collections import Counter\n",
    "\n",
    "from sklearn.metrics import accuracy_score\n",
    "from sklearn.metrics import f1_score\n",
    "from sklearn.metrics import cohen_kappa_score\n",
    "from sklearn.metrics import confusion_matrix\n",
    "from sklearn.metrics import precision_score\n",
    "from sklearn.metrics import recall_score\n",
    "\n",
    "from sklearn.model_selection import cross_val_predict\n",
    "from sklearn.model_selection import GridSearchCV\n",
    "from sklearn.neighbors import KNeighborsClassifier\n",
    "from sklearn.ensemble import RandomForestClassifier\n",
    "from sklearn import tree\n",
    "from sklearn.naive_bayes import GaussianNB\n",
    "from sklearn.neural_network import MLPClassifier\n",
    "from sklearn.svm import SVC\n",
    "from sklearn.discriminant_analysis import LinearDiscriminantAnalysis\n",
    "from sklearn.ensemble import GradientBoostingClassifier\n",
    "\n",
    "np.random.seed(51)"
   ]
  },
  {
   "cell_type": "markdown",
   "id": "eba8559c",
   "metadata": {},
   "source": [
    "### 1) Preprocesamiento"
   ]
  },
  {
   "cell_type": "code",
   "execution_count": 2,
   "id": "11e12fb9",
   "metadata": {},
   "outputs": [
    {
     "name": "stdout",
     "output_type": "stream",
     "text": [
      "        ID  Coef1_Springate  Coef2_Springate  Coef3_Springate  \\\n",
      "0        1           0.9525           0.0062           0.0054   \n",
      "1        2           0.6894           0.1641           0.3116   \n",
      "2        3           0.8671          -0.0479          -0.5388   \n",
      "3        4          -0.0034           0.0296          -0.2114   \n",
      "4        5           0.2916           0.0341           0.0534   \n",
      "...    ...              ...              ...              ...   \n",
      "1440  1502          -0.0555          -0.3837          -0.3051   \n",
      "1441  1503           0.0061          -0.4382          -1.0570   \n",
      "1442  1505           0.8625         -24.6623          -6.1772   \n",
      "1443  1511          -2.2275          -0.0105          -0.0031   \n",
      "1444  1512          -0.9579          -0.1787          -0.0904   \n",
      "\n",
      "      Coef4_Springate  Coef1_Amat  Coef2_Amat  Coef3_Amat  Coef4_Amat  \\\n",
      "0              3.9499      1.0056      0.0064     -0.0150     -2.3367   \n",
      "1              2.8739      1.7204      0.4234      0.1196      0.2824   \n",
      "2              2.0795      0.4260     -1.4245     -1.1645      0.8174   \n",
      "3              0.6265      0.4756      0.2109     -0.1652     -0.7833   \n",
      "4              0.3098      0.9662      0.3709      0.0299      0.0807   \n",
      "...               ...         ...         ...         ...         ...   \n",
      "1440           0.0354      0.7084     -0.2591     -0.3842      1.4825   \n",
      "1441           0.0156      0.7955     -1.6397     -0.4123      0.2515   \n",
      "1442           0.1219      0.2487     -9.1522    -24.8344      2.7135   \n",
      "1443           0.0000      0.2941     -2.3456     -0.0105      0.0045   \n",
      "1444           0.0000      0.0054     -0.9775     -0.1787      0.1828   \n",
      "\n",
      "      Resultado  \n",
      "0             1  \n",
      "1             1  \n",
      "2             1  \n",
      "3             1  \n",
      "4             1  \n",
      "...         ...  \n",
      "1440          1  \n",
      "1441          1  \n",
      "1442          1  \n",
      "1443          1  \n",
      "1444          1  \n",
      "\n",
      "[1445 rows x 10 columns]\n"
     ]
    }
   ],
   "source": [
    "df1=pd.read_csv('Bancarrota_Total_nd.csv',encoding = 'unicode_escape')\n",
    "print(df1)"
   ]
  },
  {
   "cell_type": "code",
   "execution_count": 3,
   "id": "71ed6eec",
   "metadata": {},
   "outputs": [
    {
     "data": {
      "text/plain": [
       "ID                   int64\n",
       "Coef1_Springate    float64\n",
       "Coef2_Springate    float64\n",
       "Coef3_Springate    float64\n",
       "Coef4_Springate    float64\n",
       "Coef1_Amat         float64\n",
       "Coef2_Amat         float64\n",
       "Coef3_Amat         float64\n",
       "Coef4_Amat         float64\n",
       "Resultado            int64\n",
       "dtype: object"
      ]
     },
     "execution_count": 3,
     "metadata": {},
     "output_type": "execute_result"
    }
   ],
   "source": [
    "df1.dtypes"
   ]
  },
  {
   "cell_type": "code",
   "execution_count": 4,
   "id": "f22dfe7e",
   "metadata": {},
   "outputs": [],
   "source": [
    "porcentaje_train=0.8"
   ]
  },
  {
   "cell_type": "code",
   "execution_count": 5,
   "id": "cbf72d53",
   "metadata": {},
   "outputs": [
    {
     "data": {
      "text/plain": [
       "1156"
      ]
     },
     "execution_count": 5,
     "metadata": {},
     "output_type": "execute_result"
    }
   ],
   "source": [
    "limitedf1=round(porcentaje_train*len(df1))\n",
    "limitedf1"
   ]
  },
  {
   "cell_type": "code",
   "execution_count": 6,
   "id": "322d24fe",
   "metadata": {},
   "outputs": [
    {
     "data": {
      "text/html": [
       "<div>\n",
       "<style scoped>\n",
       "    .dataframe tbody tr th:only-of-type {\n",
       "        vertical-align: middle;\n",
       "    }\n",
       "\n",
       "    .dataframe tbody tr th {\n",
       "        vertical-align: top;\n",
       "    }\n",
       "\n",
       "    .dataframe thead th {\n",
       "        text-align: right;\n",
       "    }\n",
       "</style>\n",
       "<table border=\"1\" class=\"dataframe\">\n",
       "  <thead>\n",
       "    <tr style=\"text-align: right;\">\n",
       "      <th></th>\n",
       "      <th>ID</th>\n",
       "      <th>Coef1_Springate</th>\n",
       "      <th>Coef2_Springate</th>\n",
       "      <th>Coef3_Springate</th>\n",
       "      <th>Coef4_Springate</th>\n",
       "      <th>Coef1_Amat</th>\n",
       "      <th>Coef2_Amat</th>\n",
       "      <th>Coef3_Amat</th>\n",
       "      <th>Coef4_Amat</th>\n",
       "      <th>Resultado</th>\n",
       "    </tr>\n",
       "  </thead>\n",
       "  <tbody>\n",
       "    <tr>\n",
       "      <th>0</th>\n",
       "      <td>1</td>\n",
       "      <td>0.9525</td>\n",
       "      <td>0.0062</td>\n",
       "      <td>0.0054</td>\n",
       "      <td>3.9499</td>\n",
       "      <td>1.0056</td>\n",
       "      <td>0.0064</td>\n",
       "      <td>-0.0150</td>\n",
       "      <td>-2.3367</td>\n",
       "      <td>1</td>\n",
       "    </tr>\n",
       "    <tr>\n",
       "      <th>1</th>\n",
       "      <td>2</td>\n",
       "      <td>0.6894</td>\n",
       "      <td>0.1641</td>\n",
       "      <td>0.3116</td>\n",
       "      <td>2.8739</td>\n",
       "      <td>1.7204</td>\n",
       "      <td>0.4234</td>\n",
       "      <td>0.1196</td>\n",
       "      <td>0.2824</td>\n",
       "      <td>1</td>\n",
       "    </tr>\n",
       "    <tr>\n",
       "      <th>2</th>\n",
       "      <td>3</td>\n",
       "      <td>0.8671</td>\n",
       "      <td>-0.0479</td>\n",
       "      <td>-0.5388</td>\n",
       "      <td>2.0795</td>\n",
       "      <td>0.4260</td>\n",
       "      <td>-1.4245</td>\n",
       "      <td>-1.1645</td>\n",
       "      <td>0.8174</td>\n",
       "      <td>1</td>\n",
       "    </tr>\n",
       "    <tr>\n",
       "      <th>3</th>\n",
       "      <td>4</td>\n",
       "      <td>-0.0034</td>\n",
       "      <td>0.0296</td>\n",
       "      <td>-0.2114</td>\n",
       "      <td>0.6265</td>\n",
       "      <td>0.4756</td>\n",
       "      <td>0.2109</td>\n",
       "      <td>-0.1652</td>\n",
       "      <td>-0.7833</td>\n",
       "      <td>1</td>\n",
       "    </tr>\n",
       "    <tr>\n",
       "      <th>4</th>\n",
       "      <td>5</td>\n",
       "      <td>0.2916</td>\n",
       "      <td>0.0341</td>\n",
       "      <td>0.0534</td>\n",
       "      <td>0.3098</td>\n",
       "      <td>0.9662</td>\n",
       "      <td>0.3709</td>\n",
       "      <td>0.0299</td>\n",
       "      <td>0.0807</td>\n",
       "      <td>1</td>\n",
       "    </tr>\n",
       "    <tr>\n",
       "      <th>...</th>\n",
       "      <td>...</td>\n",
       "      <td>...</td>\n",
       "      <td>...</td>\n",
       "      <td>...</td>\n",
       "      <td>...</td>\n",
       "      <td>...</td>\n",
       "      <td>...</td>\n",
       "      <td>...</td>\n",
       "      <td>...</td>\n",
       "      <td>...</td>\n",
       "    </tr>\n",
       "    <tr>\n",
       "      <th>1151</th>\n",
       "      <td>1169</td>\n",
       "      <td>-0.1073</td>\n",
       "      <td>-0.2998</td>\n",
       "      <td>-1.4365</td>\n",
       "      <td>0.5178</td>\n",
       "      <td>2.4002</td>\n",
       "      <td>0.2653</td>\n",
       "      <td>-0.2303</td>\n",
       "      <td>-0.8683</td>\n",
       "      <td>1</td>\n",
       "    </tr>\n",
       "    <tr>\n",
       "      <th>1152</th>\n",
       "      <td>1170</td>\n",
       "      <td>0.1210</td>\n",
       "      <td>0.1520</td>\n",
       "      <td>0.4226</td>\n",
       "      <td>1.4999</td>\n",
       "      <td>2.8427</td>\n",
       "      <td>0.3009</td>\n",
       "      <td>0.0441</td>\n",
       "      <td>0.1465</td>\n",
       "      <td>1</td>\n",
       "    </tr>\n",
       "    <tr>\n",
       "      <th>1153</th>\n",
       "      <td>1171</td>\n",
       "      <td>-3.6402</td>\n",
       "      <td>-42.3286</td>\n",
       "      <td>-0.9917</td>\n",
       "      <td>19.7943</td>\n",
       "      <td>0.0231</td>\n",
       "      <td>-42.2713</td>\n",
       "      <td>-42.9121</td>\n",
       "      <td>1.0152</td>\n",
       "      <td>1</td>\n",
       "    </tr>\n",
       "    <tr>\n",
       "      <th>1154</th>\n",
       "      <td>1172</td>\n",
       "      <td>0.6049</td>\n",
       "      <td>-0.0977</td>\n",
       "      <td>-0.2737</td>\n",
       "      <td>0.4939</td>\n",
       "      <td>1.7736</td>\n",
       "      <td>0.6123</td>\n",
       "      <td>-0.0977</td>\n",
       "      <td>-0.1596</td>\n",
       "      <td>1</td>\n",
       "    </tr>\n",
       "    <tr>\n",
       "      <th>1155</th>\n",
       "      <td>1173</td>\n",
       "      <td>0.0651</td>\n",
       "      <td>-0.0415</td>\n",
       "      <td>-0.2608</td>\n",
       "      <td>0.6065</td>\n",
       "      <td>2.3496</td>\n",
       "      <td>0.1695</td>\n",
       "      <td>-0.0448</td>\n",
       "      <td>-0.2644</td>\n",
       "      <td>1</td>\n",
       "    </tr>\n",
       "  </tbody>\n",
       "</table>\n",
       "<p>1156 rows × 10 columns</p>\n",
       "</div>"
      ],
      "text/plain": [
       "        ID  Coef1_Springate  Coef2_Springate  Coef3_Springate  \\\n",
       "0        1           0.9525           0.0062           0.0054   \n",
       "1        2           0.6894           0.1641           0.3116   \n",
       "2        3           0.8671          -0.0479          -0.5388   \n",
       "3        4          -0.0034           0.0296          -0.2114   \n",
       "4        5           0.2916           0.0341           0.0534   \n",
       "...    ...              ...              ...              ...   \n",
       "1151  1169          -0.1073          -0.2998          -1.4365   \n",
       "1152  1170           0.1210           0.1520           0.4226   \n",
       "1153  1171          -3.6402         -42.3286          -0.9917   \n",
       "1154  1172           0.6049          -0.0977          -0.2737   \n",
       "1155  1173           0.0651          -0.0415          -0.2608   \n",
       "\n",
       "      Coef4_Springate  Coef1_Amat  Coef2_Amat  Coef3_Amat  Coef4_Amat  \\\n",
       "0              3.9499      1.0056      0.0064     -0.0150     -2.3367   \n",
       "1              2.8739      1.7204      0.4234      0.1196      0.2824   \n",
       "2              2.0795      0.4260     -1.4245     -1.1645      0.8174   \n",
       "3              0.6265      0.4756      0.2109     -0.1652     -0.7833   \n",
       "4              0.3098      0.9662      0.3709      0.0299      0.0807   \n",
       "...               ...         ...         ...         ...         ...   \n",
       "1151           0.5178      2.4002      0.2653     -0.2303     -0.8683   \n",
       "1152           1.4999      2.8427      0.3009      0.0441      0.1465   \n",
       "1153          19.7943      0.0231    -42.2713    -42.9121      1.0152   \n",
       "1154           0.4939      1.7736      0.6123     -0.0977     -0.1596   \n",
       "1155           0.6065      2.3496      0.1695     -0.0448     -0.2644   \n",
       "\n",
       "      Resultado  \n",
       "0             1  \n",
       "1             1  \n",
       "2             1  \n",
       "3             1  \n",
       "4             1  \n",
       "...         ...  \n",
       "1151          1  \n",
       "1152          1  \n",
       "1153          1  \n",
       "1154          1  \n",
       "1155          1  \n",
       "\n",
       "[1156 rows x 10 columns]"
      ]
     },
     "execution_count": 6,
     "metadata": {},
     "output_type": "execute_result"
    }
   ],
   "source": [
    "df1_train=df1[:limitedf1]\n",
    "df1_train"
   ]
  },
  {
   "cell_type": "code",
   "execution_count": 7,
   "id": "7dfa3f70",
   "metadata": {},
   "outputs": [
    {
     "data": {
      "text/html": [
       "<div>\n",
       "<style scoped>\n",
       "    .dataframe tbody tr th:only-of-type {\n",
       "        vertical-align: middle;\n",
       "    }\n",
       "\n",
       "    .dataframe tbody tr th {\n",
       "        vertical-align: top;\n",
       "    }\n",
       "\n",
       "    .dataframe thead th {\n",
       "        text-align: right;\n",
       "    }\n",
       "</style>\n",
       "<table border=\"1\" class=\"dataframe\">\n",
       "  <thead>\n",
       "    <tr style=\"text-align: right;\">\n",
       "      <th></th>\n",
       "      <th>ID</th>\n",
       "      <th>Coef1_Springate</th>\n",
       "      <th>Coef2_Springate</th>\n",
       "      <th>Coef3_Springate</th>\n",
       "      <th>Coef4_Springate</th>\n",
       "      <th>Coef1_Amat</th>\n",
       "      <th>Coef2_Amat</th>\n",
       "      <th>Coef3_Amat</th>\n",
       "      <th>Coef4_Amat</th>\n",
       "      <th>Resultado</th>\n",
       "    </tr>\n",
       "  </thead>\n",
       "  <tbody>\n",
       "    <tr>\n",
       "      <th>1156</th>\n",
       "      <td>1174</td>\n",
       "      <td>0.4748</td>\n",
       "      <td>0.0758</td>\n",
       "      <td>0.2129</td>\n",
       "      <td>3.4304</td>\n",
       "      <td>2.8091</td>\n",
       "      <td>0.6440</td>\n",
       "      <td>0.0568</td>\n",
       "      <td>0.0883</td>\n",
       "      <td>1</td>\n",
       "    </tr>\n",
       "    <tr>\n",
       "      <th>1157</th>\n",
       "      <td>1176</td>\n",
       "      <td>-0.1940</td>\n",
       "      <td>-0.1275</td>\n",
       "      <td>-0.4370</td>\n",
       "      <td>0.2235</td>\n",
       "      <td>0.5615</td>\n",
       "      <td>0.0590</td>\n",
       "      <td>-0.1274</td>\n",
       "      <td>-2.1603</td>\n",
       "      <td>1</td>\n",
       "    </tr>\n",
       "    <tr>\n",
       "      <th>1158</th>\n",
       "      <td>1177</td>\n",
       "      <td>0.0978</td>\n",
       "      <td>0.0282</td>\n",
       "      <td>0.1630</td>\n",
       "      <td>0.4326</td>\n",
       "      <td>1.5040</td>\n",
       "      <td>0.7844</td>\n",
       "      <td>0.0209</td>\n",
       "      <td>0.0267</td>\n",
       "      <td>1</td>\n",
       "    </tr>\n",
       "    <tr>\n",
       "      <th>1159</th>\n",
       "      <td>1178</td>\n",
       "      <td>0.0217</td>\n",
       "      <td>-0.0145</td>\n",
       "      <td>-0.6856</td>\n",
       "      <td>0.0002</td>\n",
       "      <td>12.5930</td>\n",
       "      <td>0.3185</td>\n",
       "      <td>-0.0251</td>\n",
       "      <td>-0.0787</td>\n",
       "      <td>1</td>\n",
       "    </tr>\n",
       "    <tr>\n",
       "      <th>1160</th>\n",
       "      <td>1179</td>\n",
       "      <td>0.0953</td>\n",
       "      <td>-0.9579</td>\n",
       "      <td>-1.9177</td>\n",
       "      <td>2.7373</td>\n",
       "      <td>0.1924</td>\n",
       "      <td>-0.6964</td>\n",
       "      <td>-0.8234</td>\n",
       "      <td>1.1824</td>\n",
       "      <td>1</td>\n",
       "    </tr>\n",
       "    <tr>\n",
       "      <th>...</th>\n",
       "      <td>...</td>\n",
       "      <td>...</td>\n",
       "      <td>...</td>\n",
       "      <td>...</td>\n",
       "      <td>...</td>\n",
       "      <td>...</td>\n",
       "      <td>...</td>\n",
       "      <td>...</td>\n",
       "      <td>...</td>\n",
       "      <td>...</td>\n",
       "    </tr>\n",
       "    <tr>\n",
       "      <th>1440</th>\n",
       "      <td>1502</td>\n",
       "      <td>-0.0555</td>\n",
       "      <td>-0.3837</td>\n",
       "      <td>-0.3051</td>\n",
       "      <td>0.0354</td>\n",
       "      <td>0.7084</td>\n",
       "      <td>-0.2591</td>\n",
       "      <td>-0.3842</td>\n",
       "      <td>1.4825</td>\n",
       "      <td>1</td>\n",
       "    </tr>\n",
       "    <tr>\n",
       "      <th>1441</th>\n",
       "      <td>1503</td>\n",
       "      <td>0.0061</td>\n",
       "      <td>-0.4382</td>\n",
       "      <td>-1.0570</td>\n",
       "      <td>0.0156</td>\n",
       "      <td>0.7955</td>\n",
       "      <td>-1.6397</td>\n",
       "      <td>-0.4123</td>\n",
       "      <td>0.2515</td>\n",
       "      <td>1</td>\n",
       "    </tr>\n",
       "    <tr>\n",
       "      <th>1442</th>\n",
       "      <td>1505</td>\n",
       "      <td>0.8625</td>\n",
       "      <td>-24.6623</td>\n",
       "      <td>-6.1772</td>\n",
       "      <td>0.1219</td>\n",
       "      <td>0.2487</td>\n",
       "      <td>-9.1522</td>\n",
       "      <td>-24.8344</td>\n",
       "      <td>2.7135</td>\n",
       "      <td>1</td>\n",
       "    </tr>\n",
       "    <tr>\n",
       "      <th>1443</th>\n",
       "      <td>1511</td>\n",
       "      <td>-2.2275</td>\n",
       "      <td>-0.0105</td>\n",
       "      <td>-0.0031</td>\n",
       "      <td>0.0000</td>\n",
       "      <td>0.2941</td>\n",
       "      <td>-2.3456</td>\n",
       "      <td>-0.0105</td>\n",
       "      <td>0.0045</td>\n",
       "      <td>1</td>\n",
       "    </tr>\n",
       "    <tr>\n",
       "      <th>1444</th>\n",
       "      <td>1512</td>\n",
       "      <td>-0.9579</td>\n",
       "      <td>-0.1787</td>\n",
       "      <td>-0.0904</td>\n",
       "      <td>0.0000</td>\n",
       "      <td>0.0054</td>\n",
       "      <td>-0.9775</td>\n",
       "      <td>-0.1787</td>\n",
       "      <td>0.1828</td>\n",
       "      <td>1</td>\n",
       "    </tr>\n",
       "  </tbody>\n",
       "</table>\n",
       "<p>289 rows × 10 columns</p>\n",
       "</div>"
      ],
      "text/plain": [
       "        ID  Coef1_Springate  Coef2_Springate  Coef3_Springate  \\\n",
       "1156  1174           0.4748           0.0758           0.2129   \n",
       "1157  1176          -0.1940          -0.1275          -0.4370   \n",
       "1158  1177           0.0978           0.0282           0.1630   \n",
       "1159  1178           0.0217          -0.0145          -0.6856   \n",
       "1160  1179           0.0953          -0.9579          -1.9177   \n",
       "...    ...              ...              ...              ...   \n",
       "1440  1502          -0.0555          -0.3837          -0.3051   \n",
       "1441  1503           0.0061          -0.4382          -1.0570   \n",
       "1442  1505           0.8625         -24.6623          -6.1772   \n",
       "1443  1511          -2.2275          -0.0105          -0.0031   \n",
       "1444  1512          -0.9579          -0.1787          -0.0904   \n",
       "\n",
       "      Coef4_Springate  Coef1_Amat  Coef2_Amat  Coef3_Amat  Coef4_Amat  \\\n",
       "1156           3.4304      2.8091      0.6440      0.0568      0.0883   \n",
       "1157           0.2235      0.5615      0.0590     -0.1274     -2.1603   \n",
       "1158           0.4326      1.5040      0.7844      0.0209      0.0267   \n",
       "1159           0.0002     12.5930      0.3185     -0.0251     -0.0787   \n",
       "1160           2.7373      0.1924     -0.6964     -0.8234      1.1824   \n",
       "...               ...         ...         ...         ...         ...   \n",
       "1440           0.0354      0.7084     -0.2591     -0.3842      1.4825   \n",
       "1441           0.0156      0.7955     -1.6397     -0.4123      0.2515   \n",
       "1442           0.1219      0.2487     -9.1522    -24.8344      2.7135   \n",
       "1443           0.0000      0.2941     -2.3456     -0.0105      0.0045   \n",
       "1444           0.0000      0.0054     -0.9775     -0.1787      0.1828   \n",
       "\n",
       "      Resultado  \n",
       "1156          1  \n",
       "1157          1  \n",
       "1158          1  \n",
       "1159          1  \n",
       "1160          1  \n",
       "...         ...  \n",
       "1440          1  \n",
       "1441          1  \n",
       "1442          1  \n",
       "1443          1  \n",
       "1444          1  \n",
       "\n",
       "[289 rows x 10 columns]"
      ]
     },
     "execution_count": 7,
     "metadata": {},
     "output_type": "execute_result"
    }
   ],
   "source": [
    "df1_test=df1[limitedf1:]\n",
    "df1_test"
   ]
  },
  {
   "cell_type": "code",
   "execution_count": 8,
   "id": "f29c602e",
   "metadata": {},
   "outputs": [
    {
     "name": "stdout",
     "output_type": "stream",
     "text": [
      "            ID  Coef1_Springate  Coef2_Springate  Coef3_Springate  \\\n",
      "0            1          -0.1786           0.0810           0.2086   \n",
      "1            2           0.3473           0.0039           0.1439   \n",
      "2            3           0.4718           0.0385           0.0752   \n",
      "3            4           0.1373           0.0490           0.0493   \n",
      "4            5           0.0656           0.0826           0.5767   \n",
      "...        ...              ...              ...              ...   \n",
      "675939  732517           0.1232          -0.1647          -5.9479   \n",
      "675940  732532           0.1989          -2.1463          -0.7942   \n",
      "675941  732550          -0.0927           0.0000           0.0208   \n",
      "675942  732570           0.6813          -0.0064          -0.0240   \n",
      "675943  732590           0.4244          -0.0416          -0.0402   \n",
      "\n",
      "        Coef4_Springate  Coef1_Amat  Coef2_Amat  Coef3_Amat  Coef4_Amat  \\\n",
      "0                2.3157      0.9028      0.6267      0.0598      0.0954   \n",
      "1                1.8919      1.0684      0.2626      0.0774      0.2946   \n",
      "2                2.1073      1.4550      0.4008      0.0199      0.0498   \n",
      "3               11.8888      1.0009      0.0042      0.0366      8.7045   \n",
      "4                0.6623      2.1201      0.8463      0.0806      0.0953   \n",
      "...                 ...         ...         ...         ...         ...   \n",
      "675939           0.0000      9.4479      0.9574     -0.1649     -0.1722   \n",
      "675940           0.0000      0.1321     -1.7025     -1.6097      0.9455   \n",
      "675941           0.0000      1.0615      0.4367      0.0117      0.0269   \n",
      "675942           0.0000      3.6889      0.7320      0.0025      0.0034   \n",
      "675943           0.0000      0.9633     -0.0349     -0.0416      1.1897   \n",
      "\n",
      "        Resultado  \n",
      "0               2  \n",
      "1               2  \n",
      "2               2  \n",
      "3               2  \n",
      "4               2  \n",
      "...           ...  \n",
      "675939          2  \n",
      "675940          2  \n",
      "675941          2  \n",
      "675942          2  \n",
      "675943          2  \n",
      "\n",
      "[675944 rows x 10 columns]\n"
     ]
    }
   ],
   "source": [
    "df2=pd.read_csv('Activa_Total_nd.csv',encoding = 'unicode_escape')\n",
    "print(df2)"
   ]
  },
  {
   "cell_type": "code",
   "execution_count": 9,
   "id": "9e2f3cc6",
   "metadata": {},
   "outputs": [
    {
     "data": {
      "text/plain": [
       "ID                   int64\n",
       "Coef1_Springate    float64\n",
       "Coef2_Springate    float64\n",
       "Coef3_Springate    float64\n",
       "Coef4_Springate    float64\n",
       "Coef1_Amat         float64\n",
       "Coef2_Amat         float64\n",
       "Coef3_Amat         float64\n",
       "Coef4_Amat         float64\n",
       "Resultado            int64\n",
       "dtype: object"
      ]
     },
     "execution_count": 9,
     "metadata": {},
     "output_type": "execute_result"
    }
   ],
   "source": [
    "df2.dtypes"
   ]
  },
  {
   "cell_type": "code",
   "execution_count": 10,
   "id": "df95a608",
   "metadata": {},
   "outputs": [
    {
     "data": {
      "text/plain": [
       "540755"
      ]
     },
     "execution_count": 10,
     "metadata": {},
     "output_type": "execute_result"
    }
   ],
   "source": [
    "limitedf2=round(porcentaje_train*len(df2))\n",
    "limitedf2"
   ]
  },
  {
   "cell_type": "code",
   "execution_count": 11,
   "id": "f7f985ce",
   "metadata": {},
   "outputs": [
    {
     "data": {
      "text/html": [
       "<div>\n",
       "<style scoped>\n",
       "    .dataframe tbody tr th:only-of-type {\n",
       "        vertical-align: middle;\n",
       "    }\n",
       "\n",
       "    .dataframe tbody tr th {\n",
       "        vertical-align: top;\n",
       "    }\n",
       "\n",
       "    .dataframe thead th {\n",
       "        text-align: right;\n",
       "    }\n",
       "</style>\n",
       "<table border=\"1\" class=\"dataframe\">\n",
       "  <thead>\n",
       "    <tr style=\"text-align: right;\">\n",
       "      <th></th>\n",
       "      <th>ID</th>\n",
       "      <th>Coef1_Springate</th>\n",
       "      <th>Coef2_Springate</th>\n",
       "      <th>Coef3_Springate</th>\n",
       "      <th>Coef4_Springate</th>\n",
       "      <th>Coef1_Amat</th>\n",
       "      <th>Coef2_Amat</th>\n",
       "      <th>Coef3_Amat</th>\n",
       "      <th>Coef4_Amat</th>\n",
       "      <th>Resultado</th>\n",
       "    </tr>\n",
       "  </thead>\n",
       "  <tbody>\n",
       "    <tr>\n",
       "      <th>0</th>\n",
       "      <td>1</td>\n",
       "      <td>-0.1786</td>\n",
       "      <td>0.0810</td>\n",
       "      <td>0.2086</td>\n",
       "      <td>2.3157</td>\n",
       "      <td>0.9028</td>\n",
       "      <td>0.6267</td>\n",
       "      <td>0.0598</td>\n",
       "      <td>0.0954</td>\n",
       "      <td>2</td>\n",
       "    </tr>\n",
       "    <tr>\n",
       "      <th>1</th>\n",
       "      <td>2</td>\n",
       "      <td>0.3473</td>\n",
       "      <td>0.0039</td>\n",
       "      <td>0.1439</td>\n",
       "      <td>1.8919</td>\n",
       "      <td>1.0684</td>\n",
       "      <td>0.2626</td>\n",
       "      <td>0.0774</td>\n",
       "      <td>0.2946</td>\n",
       "      <td>2</td>\n",
       "    </tr>\n",
       "    <tr>\n",
       "      <th>2</th>\n",
       "      <td>3</td>\n",
       "      <td>0.4718</td>\n",
       "      <td>0.0385</td>\n",
       "      <td>0.0752</td>\n",
       "      <td>2.1073</td>\n",
       "      <td>1.4550</td>\n",
       "      <td>0.4008</td>\n",
       "      <td>0.0199</td>\n",
       "      <td>0.0498</td>\n",
       "      <td>2</td>\n",
       "    </tr>\n",
       "    <tr>\n",
       "      <th>3</th>\n",
       "      <td>4</td>\n",
       "      <td>0.1373</td>\n",
       "      <td>0.0490</td>\n",
       "      <td>0.0493</td>\n",
       "      <td>11.8888</td>\n",
       "      <td>1.0009</td>\n",
       "      <td>0.0042</td>\n",
       "      <td>0.0366</td>\n",
       "      <td>8.7045</td>\n",
       "      <td>2</td>\n",
       "    </tr>\n",
       "    <tr>\n",
       "      <th>4</th>\n",
       "      <td>5</td>\n",
       "      <td>0.0656</td>\n",
       "      <td>0.0826</td>\n",
       "      <td>0.5767</td>\n",
       "      <td>0.6623</td>\n",
       "      <td>2.1201</td>\n",
       "      <td>0.8463</td>\n",
       "      <td>0.0806</td>\n",
       "      <td>0.0953</td>\n",
       "      <td>2</td>\n",
       "    </tr>\n",
       "    <tr>\n",
       "      <th>...</th>\n",
       "      <td>...</td>\n",
       "      <td>...</td>\n",
       "      <td>...</td>\n",
       "      <td>...</td>\n",
       "      <td>...</td>\n",
       "      <td>...</td>\n",
       "      <td>...</td>\n",
       "      <td>...</td>\n",
       "      <td>...</td>\n",
       "      <td>...</td>\n",
       "    </tr>\n",
       "    <tr>\n",
       "      <th>540750</th>\n",
       "      <td>560455</td>\n",
       "      <td>0.0157</td>\n",
       "      <td>0.0146</td>\n",
       "      <td>0.3263</td>\n",
       "      <td>0.0371</td>\n",
       "      <td>1.2912</td>\n",
       "      <td>0.5212</td>\n",
       "      <td>0.0081</td>\n",
       "      <td>0.0155</td>\n",
       "      <td>2</td>\n",
       "    </tr>\n",
       "    <tr>\n",
       "      <th>540751</th>\n",
       "      <td>560456</td>\n",
       "      <td>0.0258</td>\n",
       "      <td>-0.0088</td>\n",
       "      <td>-0.7119</td>\n",
       "      <td>0.1700</td>\n",
       "      <td>2.4988</td>\n",
       "      <td>0.0089</td>\n",
       "      <td>-0.0080</td>\n",
       "      <td>-0.8908</td>\n",
       "      <td>2</td>\n",
       "    </tr>\n",
       "    <tr>\n",
       "      <th>540752</th>\n",
       "      <td>560457</td>\n",
       "      <td>0.0061</td>\n",
       "      <td>-0.0209</td>\n",
       "      <td>15.1405</td>\n",
       "      <td>0.0140</td>\n",
       "      <td>230.5532</td>\n",
       "      <td>0.9513</td>\n",
       "      <td>0.0223</td>\n",
       "      <td>0.0234</td>\n",
       "      <td>2</td>\n",
       "    </tr>\n",
       "    <tr>\n",
       "      <th>540753</th>\n",
       "      <td>560458</td>\n",
       "      <td>0.5717</td>\n",
       "      <td>0.2600</td>\n",
       "      <td>1.4611</td>\n",
       "      <td>0.7148</td>\n",
       "      <td>4.6067</td>\n",
       "      <td>0.5313</td>\n",
       "      <td>0.2090</td>\n",
       "      <td>0.3935</td>\n",
       "      <td>2</td>\n",
       "    </tr>\n",
       "    <tr>\n",
       "      <th>540754</th>\n",
       "      <td>560459</td>\n",
       "      <td>0.0399</td>\n",
       "      <td>0.0217</td>\n",
       "      <td>0.0531</td>\n",
       "      <td>0.1840</td>\n",
       "      <td>1.2452</td>\n",
       "      <td>0.4199</td>\n",
       "      <td>0.0113</td>\n",
       "      <td>0.0269</td>\n",
       "      <td>2</td>\n",
       "    </tr>\n",
       "  </tbody>\n",
       "</table>\n",
       "<p>540755 rows × 10 columns</p>\n",
       "</div>"
      ],
      "text/plain": [
       "            ID  Coef1_Springate  Coef2_Springate  Coef3_Springate  \\\n",
       "0            1          -0.1786           0.0810           0.2086   \n",
       "1            2           0.3473           0.0039           0.1439   \n",
       "2            3           0.4718           0.0385           0.0752   \n",
       "3            4           0.1373           0.0490           0.0493   \n",
       "4            5           0.0656           0.0826           0.5767   \n",
       "...        ...              ...              ...              ...   \n",
       "540750  560455           0.0157           0.0146           0.3263   \n",
       "540751  560456           0.0258          -0.0088          -0.7119   \n",
       "540752  560457           0.0061          -0.0209          15.1405   \n",
       "540753  560458           0.5717           0.2600           1.4611   \n",
       "540754  560459           0.0399           0.0217           0.0531   \n",
       "\n",
       "        Coef4_Springate  Coef1_Amat  Coef2_Amat  Coef3_Amat  Coef4_Amat  \\\n",
       "0                2.3157      0.9028      0.6267      0.0598      0.0954   \n",
       "1                1.8919      1.0684      0.2626      0.0774      0.2946   \n",
       "2                2.1073      1.4550      0.4008      0.0199      0.0498   \n",
       "3               11.8888      1.0009      0.0042      0.0366      8.7045   \n",
       "4                0.6623      2.1201      0.8463      0.0806      0.0953   \n",
       "...                 ...         ...         ...         ...         ...   \n",
       "540750           0.0371      1.2912      0.5212      0.0081      0.0155   \n",
       "540751           0.1700      2.4988      0.0089     -0.0080     -0.8908   \n",
       "540752           0.0140    230.5532      0.9513      0.0223      0.0234   \n",
       "540753           0.7148      4.6067      0.5313      0.2090      0.3935   \n",
       "540754           0.1840      1.2452      0.4199      0.0113      0.0269   \n",
       "\n",
       "        Resultado  \n",
       "0               2  \n",
       "1               2  \n",
       "2               2  \n",
       "3               2  \n",
       "4               2  \n",
       "...           ...  \n",
       "540750          2  \n",
       "540751          2  \n",
       "540752          2  \n",
       "540753          2  \n",
       "540754          2  \n",
       "\n",
       "[540755 rows x 10 columns]"
      ]
     },
     "execution_count": 11,
     "metadata": {},
     "output_type": "execute_result"
    }
   ],
   "source": [
    "df2_train=df2[:limitedf2]\n",
    "df2_train"
   ]
  },
  {
   "cell_type": "code",
   "execution_count": 12,
   "id": "cf11e0bc",
   "metadata": {},
   "outputs": [
    {
     "data": {
      "text/html": [
       "<div>\n",
       "<style scoped>\n",
       "    .dataframe tbody tr th:only-of-type {\n",
       "        vertical-align: middle;\n",
       "    }\n",
       "\n",
       "    .dataframe tbody tr th {\n",
       "        vertical-align: top;\n",
       "    }\n",
       "\n",
       "    .dataframe thead th {\n",
       "        text-align: right;\n",
       "    }\n",
       "</style>\n",
       "<table border=\"1\" class=\"dataframe\">\n",
       "  <thead>\n",
       "    <tr style=\"text-align: right;\">\n",
       "      <th></th>\n",
       "      <th>ID</th>\n",
       "      <th>Coef1_Springate</th>\n",
       "      <th>Coef2_Springate</th>\n",
       "      <th>Coef3_Springate</th>\n",
       "      <th>Coef4_Springate</th>\n",
       "      <th>Coef1_Amat</th>\n",
       "      <th>Coef2_Amat</th>\n",
       "      <th>Coef3_Amat</th>\n",
       "      <th>Coef4_Amat</th>\n",
       "      <th>Resultado</th>\n",
       "    </tr>\n",
       "  </thead>\n",
       "  <tbody>\n",
       "    <tr>\n",
       "      <th>540755</th>\n",
       "      <td>560460</td>\n",
       "      <td>-0.1669</td>\n",
       "      <td>0.0236</td>\n",
       "      <td>0.0120</td>\n",
       "      <td>0.6623</td>\n",
       "      <td>1.0110</td>\n",
       "      <td>-0.3342</td>\n",
       "      <td>0.0078</td>\n",
       "      <td>-0.0232</td>\n",
       "      <td>2</td>\n",
       "    </tr>\n",
       "    <tr>\n",
       "      <th>540756</th>\n",
       "      <td>560461</td>\n",
       "      <td>0.5826</td>\n",
       "      <td>-0.3426</td>\n",
       "      <td>-0.2562</td>\n",
       "      <td>1.9967</td>\n",
       "      <td>0.7480</td>\n",
       "      <td>-0.3370</td>\n",
       "      <td>-0.3426</td>\n",
       "      <td>1.0165</td>\n",
       "      <td>2</td>\n",
       "    </tr>\n",
       "    <tr>\n",
       "      <th>540757</th>\n",
       "      <td>560462</td>\n",
       "      <td>0.1177</td>\n",
       "      <td>-0.0301</td>\n",
       "      <td>-0.5879</td>\n",
       "      <td>0.4660</td>\n",
       "      <td>1.4747</td>\n",
       "      <td>-0.1189</td>\n",
       "      <td>-0.0450</td>\n",
       "      <td>0.3780</td>\n",
       "      <td>2</td>\n",
       "    </tr>\n",
       "    <tr>\n",
       "      <th>540758</th>\n",
       "      <td>560463</td>\n",
       "      <td>0.1464</td>\n",
       "      <td>0.3508</td>\n",
       "      <td>1.2304</td>\n",
       "      <td>0.5097</td>\n",
       "      <td>3.2814</td>\n",
       "      <td>0.7042</td>\n",
       "      <td>0.3508</td>\n",
       "      <td>0.4981</td>\n",
       "      <td>2</td>\n",
       "    </tr>\n",
       "    <tr>\n",
       "      <th>540759</th>\n",
       "      <td>560464</td>\n",
       "      <td>0.2660</td>\n",
       "      <td>0.0007</td>\n",
       "      <td>-0.0170</td>\n",
       "      <td>1.1911</td>\n",
       "      <td>0.4078</td>\n",
       "      <td>0.0066</td>\n",
       "      <td>-0.0127</td>\n",
       "      <td>-1.9132</td>\n",
       "      <td>2</td>\n",
       "    </tr>\n",
       "    <tr>\n",
       "      <th>...</th>\n",
       "      <td>...</td>\n",
       "      <td>...</td>\n",
       "      <td>...</td>\n",
       "      <td>...</td>\n",
       "      <td>...</td>\n",
       "      <td>...</td>\n",
       "      <td>...</td>\n",
       "      <td>...</td>\n",
       "      <td>...</td>\n",
       "      <td>...</td>\n",
       "    </tr>\n",
       "    <tr>\n",
       "      <th>675939</th>\n",
       "      <td>732517</td>\n",
       "      <td>0.1232</td>\n",
       "      <td>-0.1647</td>\n",
       "      <td>-5.9479</td>\n",
       "      <td>0.0000</td>\n",
       "      <td>9.4479</td>\n",
       "      <td>0.9574</td>\n",
       "      <td>-0.1649</td>\n",
       "      <td>-0.1722</td>\n",
       "      <td>2</td>\n",
       "    </tr>\n",
       "    <tr>\n",
       "      <th>675940</th>\n",
       "      <td>732532</td>\n",
       "      <td>0.1989</td>\n",
       "      <td>-2.1463</td>\n",
       "      <td>-0.7942</td>\n",
       "      <td>0.0000</td>\n",
       "      <td>0.1321</td>\n",
       "      <td>-1.7025</td>\n",
       "      <td>-1.6097</td>\n",
       "      <td>0.9455</td>\n",
       "      <td>2</td>\n",
       "    </tr>\n",
       "    <tr>\n",
       "      <th>675941</th>\n",
       "      <td>732550</td>\n",
       "      <td>-0.0927</td>\n",
       "      <td>0.0000</td>\n",
       "      <td>0.0208</td>\n",
       "      <td>0.0000</td>\n",
       "      <td>1.0615</td>\n",
       "      <td>0.4367</td>\n",
       "      <td>0.0117</td>\n",
       "      <td>0.0269</td>\n",
       "      <td>2</td>\n",
       "    </tr>\n",
       "    <tr>\n",
       "      <th>675942</th>\n",
       "      <td>732570</td>\n",
       "      <td>0.6813</td>\n",
       "      <td>-0.0064</td>\n",
       "      <td>-0.0240</td>\n",
       "      <td>0.0000</td>\n",
       "      <td>3.6889</td>\n",
       "      <td>0.7320</td>\n",
       "      <td>0.0025</td>\n",
       "      <td>0.0034</td>\n",
       "      <td>2</td>\n",
       "    </tr>\n",
       "    <tr>\n",
       "      <th>675943</th>\n",
       "      <td>732590</td>\n",
       "      <td>0.4244</td>\n",
       "      <td>-0.0416</td>\n",
       "      <td>-0.0402</td>\n",
       "      <td>0.0000</td>\n",
       "      <td>0.9633</td>\n",
       "      <td>-0.0349</td>\n",
       "      <td>-0.0416</td>\n",
       "      <td>1.1897</td>\n",
       "      <td>2</td>\n",
       "    </tr>\n",
       "  </tbody>\n",
       "</table>\n",
       "<p>135189 rows × 10 columns</p>\n",
       "</div>"
      ],
      "text/plain": [
       "            ID  Coef1_Springate  Coef2_Springate  Coef3_Springate  \\\n",
       "540755  560460          -0.1669           0.0236           0.0120   \n",
       "540756  560461           0.5826          -0.3426          -0.2562   \n",
       "540757  560462           0.1177          -0.0301          -0.5879   \n",
       "540758  560463           0.1464           0.3508           1.2304   \n",
       "540759  560464           0.2660           0.0007          -0.0170   \n",
       "...        ...              ...              ...              ...   \n",
       "675939  732517           0.1232          -0.1647          -5.9479   \n",
       "675940  732532           0.1989          -2.1463          -0.7942   \n",
       "675941  732550          -0.0927           0.0000           0.0208   \n",
       "675942  732570           0.6813          -0.0064          -0.0240   \n",
       "675943  732590           0.4244          -0.0416          -0.0402   \n",
       "\n",
       "        Coef4_Springate  Coef1_Amat  Coef2_Amat  Coef3_Amat  Coef4_Amat  \\\n",
       "540755           0.6623      1.0110     -0.3342      0.0078     -0.0232   \n",
       "540756           1.9967      0.7480     -0.3370     -0.3426      1.0165   \n",
       "540757           0.4660      1.4747     -0.1189     -0.0450      0.3780   \n",
       "540758           0.5097      3.2814      0.7042      0.3508      0.4981   \n",
       "540759           1.1911      0.4078      0.0066     -0.0127     -1.9132   \n",
       "...                 ...         ...         ...         ...         ...   \n",
       "675939           0.0000      9.4479      0.9574     -0.1649     -0.1722   \n",
       "675940           0.0000      0.1321     -1.7025     -1.6097      0.9455   \n",
       "675941           0.0000      1.0615      0.4367      0.0117      0.0269   \n",
       "675942           0.0000      3.6889      0.7320      0.0025      0.0034   \n",
       "675943           0.0000      0.9633     -0.0349     -0.0416      1.1897   \n",
       "\n",
       "        Resultado  \n",
       "540755          2  \n",
       "540756          2  \n",
       "540757          2  \n",
       "540758          2  \n",
       "540759          2  \n",
       "...           ...  \n",
       "675939          2  \n",
       "675940          2  \n",
       "675941          2  \n",
       "675942          2  \n",
       "675943          2  \n",
       "\n",
       "[135189 rows x 10 columns]"
      ]
     },
     "execution_count": 12,
     "metadata": {},
     "output_type": "execute_result"
    }
   ],
   "source": [
    "df2_test=df2[limitedf2:]\n",
    "df2_test"
   ]
  },
  {
   "cell_type": "markdown",
   "id": "2ad317f5",
   "metadata": {},
   "source": [
    "### 2) Preparacion datos para ML"
   ]
  },
  {
   "cell_type": "code",
   "execution_count": 13,
   "id": "46a88a36",
   "metadata": {},
   "outputs": [],
   "source": [
    "df3_train=pd.concat([df1_train, df2_train])\n",
    "X_train=df3_train.drop(columns=[\"Resultado\",\"ID\"])\n",
    "Y_train=df3_train.drop(columns=[\"ID\",\"Coef1_Amat\",\"Coef2_Amat\",\"Coef3_Amat\",\"Coef4_Amat\",\"Coef1_Springate\",\"Coef2_Springate\",\"Coef3_Springate\",\"Coef4_Springate\"])"
   ]
  },
  {
   "cell_type": "code",
   "execution_count": 14,
   "id": "c18dcb0c",
   "metadata": {},
   "outputs": [
    {
     "data": {
      "text/html": [
       "<div>\n",
       "<style scoped>\n",
       "    .dataframe tbody tr th:only-of-type {\n",
       "        vertical-align: middle;\n",
       "    }\n",
       "\n",
       "    .dataframe tbody tr th {\n",
       "        vertical-align: top;\n",
       "    }\n",
       "\n",
       "    .dataframe thead th {\n",
       "        text-align: right;\n",
       "    }\n",
       "</style>\n",
       "<table border=\"1\" class=\"dataframe\">\n",
       "  <thead>\n",
       "    <tr style=\"text-align: right;\">\n",
       "      <th></th>\n",
       "      <th>Coef1_Springate</th>\n",
       "      <th>Coef2_Springate</th>\n",
       "      <th>Coef3_Springate</th>\n",
       "      <th>Coef4_Springate</th>\n",
       "      <th>Coef1_Amat</th>\n",
       "      <th>Coef2_Amat</th>\n",
       "      <th>Coef3_Amat</th>\n",
       "      <th>Coef4_Amat</th>\n",
       "      <th>Resultado</th>\n",
       "    </tr>\n",
       "  </thead>\n",
       "  <tbody>\n",
       "    <tr>\n",
       "      <th>0</th>\n",
       "      <td>-0.003900</td>\n",
       "      <td>0.023700</td>\n",
       "      <td>0.030900</td>\n",
       "      <td>0.981600</td>\n",
       "      <td>1.537100</td>\n",
       "      <td>-0.125000</td>\n",
       "      <td>0.007300</td>\n",
       "      <td>-0.058500</td>\n",
       "      <td>2</td>\n",
       "    </tr>\n",
       "    <tr>\n",
       "      <th>1</th>\n",
       "      <td>-0.036800</td>\n",
       "      <td>0.192000</td>\n",
       "      <td>0.124100</td>\n",
       "      <td>2.056700</td>\n",
       "      <td>0.403700</td>\n",
       "      <td>-0.547600</td>\n",
       "      <td>0.144000</td>\n",
       "      <td>-0.263000</td>\n",
       "      <td>2</td>\n",
       "    </tr>\n",
       "    <tr>\n",
       "      <th>2</th>\n",
       "      <td>0.206859</td>\n",
       "      <td>-0.122366</td>\n",
       "      <td>-0.351874</td>\n",
       "      <td>0.882378</td>\n",
       "      <td>0.852863</td>\n",
       "      <td>0.398709</td>\n",
       "      <td>-0.114246</td>\n",
       "      <td>-0.291273</td>\n",
       "      <td>1</td>\n",
       "    </tr>\n",
       "    <tr>\n",
       "      <th>3</th>\n",
       "      <td>0.056200</td>\n",
       "      <td>-0.017300</td>\n",
       "      <td>-0.112400</td>\n",
       "      <td>0.082200</td>\n",
       "      <td>1.718300</td>\n",
       "      <td>0.732900</td>\n",
       "      <td>-0.016200</td>\n",
       "      <td>-0.022100</td>\n",
       "      <td>2</td>\n",
       "    </tr>\n",
       "    <tr>\n",
       "      <th>4</th>\n",
       "      <td>-0.441470</td>\n",
       "      <td>-2.041330</td>\n",
       "      <td>-0.853690</td>\n",
       "      <td>0.485356</td>\n",
       "      <td>0.102403</td>\n",
       "      <td>-2.265369</td>\n",
       "      <td>-2.275014</td>\n",
       "      <td>0.995709</td>\n",
       "      <td>1</td>\n",
       "    </tr>\n",
       "    <tr>\n",
       "      <th>...</th>\n",
       "      <td>...</td>\n",
       "      <td>...</td>\n",
       "      <td>...</td>\n",
       "      <td>...</td>\n",
       "      <td>...</td>\n",
       "      <td>...</td>\n",
       "      <td>...</td>\n",
       "      <td>...</td>\n",
       "      <td>...</td>\n",
       "    </tr>\n",
       "    <tr>\n",
       "      <th>1081505</th>\n",
       "      <td>0.523600</td>\n",
       "      <td>-0.013600</td>\n",
       "      <td>-0.031800</td>\n",
       "      <td>0.940900</td>\n",
       "      <td>1.319600</td>\n",
       "      <td>0.124700</td>\n",
       "      <td>-0.015900</td>\n",
       "      <td>-0.127600</td>\n",
       "      <td>2</td>\n",
       "    </tr>\n",
       "    <tr>\n",
       "      <th>1081506</th>\n",
       "      <td>0.161500</td>\n",
       "      <td>0.103600</td>\n",
       "      <td>0.299100</td>\n",
       "      <td>1.730700</td>\n",
       "      <td>1.549800</td>\n",
       "      <td>0.301100</td>\n",
       "      <td>0.059900</td>\n",
       "      <td>0.198900</td>\n",
       "      <td>2</td>\n",
       "    </tr>\n",
       "    <tr>\n",
       "      <th>1081507</th>\n",
       "      <td>0.778800</td>\n",
       "      <td>0.002800</td>\n",
       "      <td>0.004000</td>\n",
       "      <td>1.459800</td>\n",
       "      <td>1.258300</td>\n",
       "      <td>0.299600</td>\n",
       "      <td>0.001800</td>\n",
       "      <td>0.006100</td>\n",
       "      <td>2</td>\n",
       "    </tr>\n",
       "    <tr>\n",
       "      <th>1081508</th>\n",
       "      <td>0.036000</td>\n",
       "      <td>0.014900</td>\n",
       "      <td>9.598900</td>\n",
       "      <td>0.038800</td>\n",
       "      <td>6.931500</td>\n",
       "      <td>0.814000</td>\n",
       "      <td>0.196600</td>\n",
       "      <td>0.241500</td>\n",
       "      <td>2</td>\n",
       "    </tr>\n",
       "    <tr>\n",
       "      <th>1081509</th>\n",
       "      <td>0.637800</td>\n",
       "      <td>0.027200</td>\n",
       "      <td>0.063900</td>\n",
       "      <td>1.612700</td>\n",
       "      <td>2.487100</td>\n",
       "      <td>0.641600</td>\n",
       "      <td>0.015700</td>\n",
       "      <td>0.024400</td>\n",
       "      <td>2</td>\n",
       "    </tr>\n",
       "  </tbody>\n",
       "</table>\n",
       "<p>1081510 rows × 9 columns</p>\n",
       "</div>"
      ],
      "text/plain": [
       "         Coef1_Springate  Coef2_Springate  Coef3_Springate  Coef4_Springate  \\\n",
       "0              -0.003900         0.023700         0.030900         0.981600   \n",
       "1              -0.036800         0.192000         0.124100         2.056700   \n",
       "2               0.206859        -0.122366        -0.351874         0.882378   \n",
       "3               0.056200        -0.017300        -0.112400         0.082200   \n",
       "4              -0.441470        -2.041330        -0.853690         0.485356   \n",
       "...                  ...              ...              ...              ...   \n",
       "1081505         0.523600        -0.013600        -0.031800         0.940900   \n",
       "1081506         0.161500         0.103600         0.299100         1.730700   \n",
       "1081507         0.778800         0.002800         0.004000         1.459800   \n",
       "1081508         0.036000         0.014900         9.598900         0.038800   \n",
       "1081509         0.637800         0.027200         0.063900         1.612700   \n",
       "\n",
       "         Coef1_Amat  Coef2_Amat  Coef3_Amat  Coef4_Amat  Resultado  \n",
       "0          1.537100   -0.125000    0.007300   -0.058500          2  \n",
       "1          0.403700   -0.547600    0.144000   -0.263000          2  \n",
       "2          0.852863    0.398709   -0.114246   -0.291273          1  \n",
       "3          1.718300    0.732900   -0.016200   -0.022100          2  \n",
       "4          0.102403   -2.265369   -2.275014    0.995709          1  \n",
       "...             ...         ...         ...         ...        ...  \n",
       "1081505    1.319600    0.124700   -0.015900   -0.127600          2  \n",
       "1081506    1.549800    0.301100    0.059900    0.198900          2  \n",
       "1081507    1.258300    0.299600    0.001800    0.006100          2  \n",
       "1081508    6.931500    0.814000    0.196600    0.241500          2  \n",
       "1081509    2.487100    0.641600    0.015700    0.024400          2  \n",
       "\n",
       "[1081510 rows x 9 columns]"
      ]
     },
     "execution_count": 14,
     "metadata": {},
     "output_type": "execute_result"
    }
   ],
   "source": [
    "sm=SMOTE(random_state=42)\n",
    "X_SMOTE,Y_SMOTE=sm.fit_resample(X_train,Y_train)\n",
    "df3_train_SMOTE=pd.concat([X_SMOTE, Y_SMOTE],axis=1)\n",
    "df3_train_SMOTE = df3_train_SMOTE.sample(frac=1).reset_index(drop=True)\n",
    "df3_train_SMOTE"
   ]
  },
  {
   "cell_type": "code",
   "execution_count": 15,
   "id": "3216b621",
   "metadata": {},
   "outputs": [],
   "source": [
    "df3_test=pd.concat([df1_test, df2_test])\n",
    "X_test=df3_test.drop(columns=[\"Resultado\",\"ID\"])\n",
    "Y_test=df3_test.drop(columns=[\"ID\",\"Coef1_Amat\",\"Coef2_Amat\",\"Coef3_Amat\",\"Coef4_Amat\",\"Coef1_Springate\",\"Coef2_Springate\",\"Coef3_Springate\",\"Coef4_Springate\"])"
   ]
  },
  {
   "cell_type": "code",
   "execution_count": 16,
   "id": "f8ebeb4d",
   "metadata": {},
   "outputs": [],
   "source": [
    "df3_test_SMOTE=pd.concat([X_test, Y_test],axis=1)"
   ]
  },
  {
   "cell_type": "code",
   "execution_count": 17,
   "id": "ec11f8f7",
   "metadata": {},
   "outputs": [
    {
     "data": {
      "text/html": [
       "<div>\n",
       "<style scoped>\n",
       "    .dataframe tbody tr th:only-of-type {\n",
       "        vertical-align: middle;\n",
       "    }\n",
       "\n",
       "    .dataframe tbody tr th {\n",
       "        vertical-align: top;\n",
       "    }\n",
       "\n",
       "    .dataframe thead th {\n",
       "        text-align: right;\n",
       "    }\n",
       "</style>\n",
       "<table border=\"1\" class=\"dataframe\">\n",
       "  <thead>\n",
       "    <tr style=\"text-align: right;\">\n",
       "      <th></th>\n",
       "      <th>Coef1_Springate</th>\n",
       "      <th>Coef2_Springate</th>\n",
       "      <th>Coef3_Springate</th>\n",
       "      <th>Coef4_Springate</th>\n",
       "      <th>Coef1_Amat</th>\n",
       "      <th>Coef2_Amat</th>\n",
       "      <th>Coef3_Amat</th>\n",
       "      <th>Coef4_Amat</th>\n",
       "      <th>Resultado</th>\n",
       "    </tr>\n",
       "  </thead>\n",
       "  <tbody>\n",
       "    <tr>\n",
       "      <th>0</th>\n",
       "      <td>-0.003900</td>\n",
       "      <td>0.023700</td>\n",
       "      <td>0.030900</td>\n",
       "      <td>0.981600</td>\n",
       "      <td>1.537100</td>\n",
       "      <td>-0.125000</td>\n",
       "      <td>0.007300</td>\n",
       "      <td>-0.058500</td>\n",
       "      <td>2</td>\n",
       "    </tr>\n",
       "    <tr>\n",
       "      <th>1</th>\n",
       "      <td>-0.036800</td>\n",
       "      <td>0.192000</td>\n",
       "      <td>0.124100</td>\n",
       "      <td>2.056700</td>\n",
       "      <td>0.403700</td>\n",
       "      <td>-0.547600</td>\n",
       "      <td>0.144000</td>\n",
       "      <td>-0.263000</td>\n",
       "      <td>2</td>\n",
       "    </tr>\n",
       "    <tr>\n",
       "      <th>2</th>\n",
       "      <td>0.206859</td>\n",
       "      <td>-0.122366</td>\n",
       "      <td>-0.351874</td>\n",
       "      <td>0.882378</td>\n",
       "      <td>0.852863</td>\n",
       "      <td>0.398709</td>\n",
       "      <td>-0.114246</td>\n",
       "      <td>-0.291273</td>\n",
       "      <td>1</td>\n",
       "    </tr>\n",
       "    <tr>\n",
       "      <th>3</th>\n",
       "      <td>0.056200</td>\n",
       "      <td>-0.017300</td>\n",
       "      <td>-0.112400</td>\n",
       "      <td>0.082200</td>\n",
       "      <td>1.718300</td>\n",
       "      <td>0.732900</td>\n",
       "      <td>-0.016200</td>\n",
       "      <td>-0.022100</td>\n",
       "      <td>2</td>\n",
       "    </tr>\n",
       "    <tr>\n",
       "      <th>4</th>\n",
       "      <td>-0.441470</td>\n",
       "      <td>-2.041330</td>\n",
       "      <td>-0.853690</td>\n",
       "      <td>0.485356</td>\n",
       "      <td>0.102403</td>\n",
       "      <td>-2.265369</td>\n",
       "      <td>-2.275014</td>\n",
       "      <td>0.995709</td>\n",
       "      <td>1</td>\n",
       "    </tr>\n",
       "    <tr>\n",
       "      <th>...</th>\n",
       "      <td>...</td>\n",
       "      <td>...</td>\n",
       "      <td>...</td>\n",
       "      <td>...</td>\n",
       "      <td>...</td>\n",
       "      <td>...</td>\n",
       "      <td>...</td>\n",
       "      <td>...</td>\n",
       "      <td>...</td>\n",
       "    </tr>\n",
       "    <tr>\n",
       "      <th>675939</th>\n",
       "      <td>0.123200</td>\n",
       "      <td>-0.164700</td>\n",
       "      <td>-5.947900</td>\n",
       "      <td>0.000000</td>\n",
       "      <td>9.447900</td>\n",
       "      <td>0.957400</td>\n",
       "      <td>-0.164900</td>\n",
       "      <td>-0.172200</td>\n",
       "      <td>2</td>\n",
       "    </tr>\n",
       "    <tr>\n",
       "      <th>675940</th>\n",
       "      <td>0.198900</td>\n",
       "      <td>-2.146300</td>\n",
       "      <td>-0.794200</td>\n",
       "      <td>0.000000</td>\n",
       "      <td>0.132100</td>\n",
       "      <td>-1.702500</td>\n",
       "      <td>-1.609700</td>\n",
       "      <td>0.945500</td>\n",
       "      <td>2</td>\n",
       "    </tr>\n",
       "    <tr>\n",
       "      <th>675941</th>\n",
       "      <td>-0.092700</td>\n",
       "      <td>0.000000</td>\n",
       "      <td>0.020800</td>\n",
       "      <td>0.000000</td>\n",
       "      <td>1.061500</td>\n",
       "      <td>0.436700</td>\n",
       "      <td>0.011700</td>\n",
       "      <td>0.026900</td>\n",
       "      <td>2</td>\n",
       "    </tr>\n",
       "    <tr>\n",
       "      <th>675942</th>\n",
       "      <td>0.681300</td>\n",
       "      <td>-0.006400</td>\n",
       "      <td>-0.024000</td>\n",
       "      <td>0.000000</td>\n",
       "      <td>3.688900</td>\n",
       "      <td>0.732000</td>\n",
       "      <td>0.002500</td>\n",
       "      <td>0.003400</td>\n",
       "      <td>2</td>\n",
       "    </tr>\n",
       "    <tr>\n",
       "      <th>675943</th>\n",
       "      <td>0.424400</td>\n",
       "      <td>-0.041600</td>\n",
       "      <td>-0.040200</td>\n",
       "      <td>0.000000</td>\n",
       "      <td>0.963300</td>\n",
       "      <td>-0.034900</td>\n",
       "      <td>-0.041600</td>\n",
       "      <td>1.189700</td>\n",
       "      <td>2</td>\n",
       "    </tr>\n",
       "  </tbody>\n",
       "</table>\n",
       "<p>1216988 rows × 9 columns</p>\n",
       "</div>"
      ],
      "text/plain": [
       "        Coef1_Springate  Coef2_Springate  Coef3_Springate  Coef4_Springate  \\\n",
       "0             -0.003900         0.023700         0.030900         0.981600   \n",
       "1             -0.036800         0.192000         0.124100         2.056700   \n",
       "2              0.206859        -0.122366        -0.351874         0.882378   \n",
       "3              0.056200        -0.017300        -0.112400         0.082200   \n",
       "4             -0.441470        -2.041330        -0.853690         0.485356   \n",
       "...                 ...              ...              ...              ...   \n",
       "675939         0.123200        -0.164700        -5.947900         0.000000   \n",
       "675940         0.198900        -2.146300        -0.794200         0.000000   \n",
       "675941        -0.092700         0.000000         0.020800         0.000000   \n",
       "675942         0.681300        -0.006400        -0.024000         0.000000   \n",
       "675943         0.424400        -0.041600        -0.040200         0.000000   \n",
       "\n",
       "        Coef1_Amat  Coef2_Amat  Coef3_Amat  Coef4_Amat  Resultado  \n",
       "0         1.537100   -0.125000    0.007300   -0.058500          2  \n",
       "1         0.403700   -0.547600    0.144000   -0.263000          2  \n",
       "2         0.852863    0.398709   -0.114246   -0.291273          1  \n",
       "3         1.718300    0.732900   -0.016200   -0.022100          2  \n",
       "4         0.102403   -2.265369   -2.275014    0.995709          1  \n",
       "...            ...         ...         ...         ...        ...  \n",
       "675939    9.447900    0.957400   -0.164900   -0.172200          2  \n",
       "675940    0.132100   -1.702500   -1.609700    0.945500          2  \n",
       "675941    1.061500    0.436700    0.011700    0.026900          2  \n",
       "675942    3.688900    0.732000    0.002500    0.003400          2  \n",
       "675943    0.963300   -0.034900   -0.041600    1.189700          2  \n",
       "\n",
       "[1216988 rows x 9 columns]"
      ]
     },
     "execution_count": 17,
     "metadata": {},
     "output_type": "execute_result"
    }
   ],
   "source": [
    "df3_total_SMOTE=pd.concat([df3_train_SMOTE, df3_test_SMOTE])\n",
    "df3_total_SMOTE"
   ]
  },
  {
   "cell_type": "code",
   "execution_count": 18,
   "id": "925a9d07",
   "metadata": {},
   "outputs": [],
   "source": [
    "X_train_SMOTE=df3_train_SMOTE.drop(columns=[\"Resultado\"])\n",
    "Y_train_SMOTE=df3_train_SMOTE.drop(columns=[\"Coef1_Amat\",\"Coef2_Amat\",\"Coef3_Amat\",\"Coef4_Amat\",\"Coef1_Springate\",\"Coef2_Springate\",\"Coef3_Springate\",\"Coef4_Springate\"])\n",
    "X_test_SMOTE=df3_test_SMOTE.drop(columns=[\"Resultado\"])\n",
    "Y_test_SMOTE=df3_test_SMOTE.drop(columns=[\"Coef1_Amat\",\"Coef2_Amat\",\"Coef3_Amat\",\"Coef4_Amat\",\"Coef1_Springate\",\"Coef2_Springate\",\"Coef3_Springate\",\"Coef4_Springate\"])"
   ]
  },
  {
   "cell_type": "markdown",
   "id": "e7ab296a",
   "metadata": {},
   "source": [
    "### 3.1) Valores Test de Springate"
   ]
  },
  {
   "cell_type": "markdown",
   "id": "1cfa5362",
   "metadata": {},
   "source": [
    "Calculamos si está comprometida la situación de la empresa según Amat.\n",
    "\n",
    "Su formula es:\n",
    "\n",
    "Z = - 0.862 + 1.03 x Coef1 + 3.07 x Coef2 + 0.66 x Coef3 + 0.4 x Coef4\n",
    "\n",
    "Z positivo empresa bien, Z negativo empresa mal.\n",
    "\n",
    "Cogemos otro Dataframe, y multiplicamos primero y luego sumamos."
   ]
  },
  {
   "cell_type": "code",
   "execution_count": 19,
   "id": "276e53ce",
   "metadata": {},
   "outputs": [
    {
     "name": "stdout",
     "output_type": "stream",
     "text": [
      "Accuracy: 0.3324451202409247\n",
      "F1 score: 0.005673135066791271\n",
      "Kappa: 0.0014263818200839218\n",
      "Confusion matrix:\n"
     ]
    },
    {
     "data": {
      "text/plain": [
       "array([[  258,    31],\n",
       "       [90408, 44781]], dtype=int64)"
      ]
     },
     "execution_count": 19,
     "metadata": {},
     "output_type": "execute_result"
    }
   ],
   "source": [
    "formula_Spr=X_test_SMOTE\n",
    "formula_Spr=formula_Spr.drop(columns=[\"Coef1_Amat\",\"Coef2_Amat\",\"Coef3_Amat\",\"Coef4_Amat\"])\n",
    "formula_Spr.loc[:,'Coef1_Springate'] *= 1.03\n",
    "formula_Spr.loc[:,'Coef2_Springate'] *= 3.07\n",
    "formula_Spr.loc[:,'Coef3_Springate'] *= 0.66\n",
    "formula_Spr.loc[:,'Coef4_Springate'] *= 0.4\n",
    "formula_Spr[\"constant\"]=-0.862\n",
    "formula_Spr[\"Z\"] = formula_Spr.sum(axis=1)\n",
    "\n",
    "formula_Spr[\"Y_pred_Springate\"] = 2\n",
    "formula_Spr.loc[formula_Spr[\"Z\"] <= 0, \"Y_pred_Springate\"] = 1\n",
    "Y_pred_formula_Spr=formula_Spr[\"Y_pred_Springate\"]\n",
    "print(\"Accuracy: \"+str(accuracy_score(Y_test_SMOTE, Y_pred_formula_Spr)))\n",
    "print(\"F1 score: \"+str(f1_score(Y_test_SMOTE, Y_pred_formula_Spr)))\n",
    "print(\"Kappa: \"+str(cohen_kappa_score(Y_test_SMOTE, Y_pred_formula_Spr)))\n",
    "print(\"Confusion matrix:\")\n",
    "confusion_matrix(Y_test_SMOTE, Y_pred_formula_Spr)"
   ]
  },
  {
   "cell_type": "markdown",
   "id": "b1b05652",
   "metadata": {},
   "source": [
    "### 3.2) Valores Test de Grover"
   ]
  },
  {
   "cell_type": "markdown",
   "id": "ed7262e4",
   "metadata": {},
   "source": [
    "Su formula es:\n",
    "\n",
    "Z = + 0.057 + 0.02 + 1.650 x Coef1 + 3.404 x Coef2 - 0.016 x Coef3\n",
    "\n",
    "Z positivo empresa bien, Z negativo empresa mal.\n",
    "\n",
    "Cogemos otro Dataframe, y multiplicamos primero y luego sumamos."
   ]
  },
  {
   "cell_type": "code",
   "execution_count": 20,
   "id": "32feb8ad",
   "metadata": {},
   "outputs": [
    {
     "name": "stdout",
     "output_type": "stream",
     "text": [
      "Accuracy: 0.7414857024756787\n",
      "F1 score: 0.01050995903376183\n",
      "Kappa: 0.00630509889578712\n",
      "Confusion matrix:\n"
     ]
    },
    {
     "data": {
      "text/plain": [
       "array([[   186,    103],\n",
       "       [ 34920, 100269]], dtype=int64)"
      ]
     },
     "execution_count": 20,
     "metadata": {},
     "output_type": "execute_result"
    }
   ],
   "source": [
    "formula_Gro=X_test_SMOTE\n",
    "formula_Gro=formula_Gro.drop(columns=[\"Coef1_Amat\",\"Coef2_Amat\",\"Coef3_Springate\",\"Coef4_Springate\",\"Coef4_Amat\"])\n",
    "formula_Gro.loc[:,'Coef1_Springate'] *= 1.65\n",
    "formula_Gro.loc[:,'Coef2_Springate'] *= 3.404\n",
    "formula_Gro.loc[:,'Coef3_Amat'] *= -0.016\n",
    "formula_Gro[\"constant\"]=0.077\n",
    "formula_Gro[\"Z\"] = formula_Gro.sum(axis=1)\n",
    "\n",
    "formula_Gro[\"Y_pred_Grover\"] = 2\n",
    "formula_Gro.loc[formula_Gro[\"Z\"] <= 0, \"Y_pred_Grover\"] = 1\n",
    "Y_pred_formula_Gro=formula_Gro[\"Y_pred_Grover\"]\n",
    "print(\"Accuracy: \"+str(accuracy_score(Y_test_SMOTE, Y_pred_formula_Gro)))\n",
    "print(\"F1 score: \"+str(f1_score(Y_test_SMOTE, Y_pred_formula_Gro)))\n",
    "print(\"Kappa: \"+str(cohen_kappa_score(Y_test_SMOTE, Y_pred_formula_Gro)))\n",
    "print(\"Confusion matrix:\")\n",
    "confusion_matrix(Y_test_SMOTE, Y_pred_formula_Gro)"
   ]
  },
  {
   "cell_type": "markdown",
   "id": "1dba8b44",
   "metadata": {},
   "source": [
    "### 3.3) Valores Test de Amat"
   ]
  },
  {
   "cell_type": "markdown",
   "id": "f1692aa8",
   "metadata": {},
   "source": [
    "Calculamos si está comprometida la situación de la empresa según Amat.\n",
    "\n",
    "Su formula es:\n",
    "\n",
    "Z = - 3.9 + 1.28 x Coef1 + 6.1 x Coef2 + 6.5 x Coef3 + 4.8 x Coef4\n",
    "\n",
    "Z positivo empresa bien, Z negativo empresa mal.\n",
    "\n",
    "Cogemos otro Dataframe, y multiplicamos primero y luego sumamos."
   ]
  },
  {
   "cell_type": "code",
   "execution_count": 21,
   "id": "c0293c1c",
   "metadata": {},
   "outputs": [
    {
     "name": "stdout",
     "output_type": "stream",
     "text": [
      "Accuracy: 0.5960303517914348\n",
      "F1 score: 0.007399749714347897\n",
      "Kappa: 0.0031691865927028218\n",
      "Confusion matrix:\n"
     ]
    },
    {
     "data": {
      "text/plain": [
       "array([[  204,    85],\n",
       "       [54644, 80545]], dtype=int64)"
      ]
     },
     "execution_count": 21,
     "metadata": {},
     "output_type": "execute_result"
    }
   ],
   "source": [
    "formula_Ama=X_test_SMOTE\n",
    "formula_Ama=formula_Ama.drop(columns=[\"Coef1_Springate\",\"Coef2_Springate\",\"Coef3_Springate\",\"Coef4_Springate\"])\n",
    "formula_Ama.loc[:,'Coef1_Amat'] *= 1.28\n",
    "formula_Ama.loc[:,'Coef2_Amat'] *= 6.1\n",
    "formula_Ama.loc[:,'Coef3_Amat'] *= 6.5\n",
    "formula_Ama.loc[:,'Coef4_Amat'] *= 4.8\n",
    "formula_Ama[\"constant\"]=-3.9\n",
    "formula_Ama[\"Z\"] = formula_Ama.sum(axis=1)\n",
    "\n",
    "formula_Ama[\"Y_pred_Amat\"] = 2\n",
    "formula_Ama.loc[formula_Ama[\"Z\"] <= 0, \"Y_pred_Amat\"] = 1\n",
    "Y_pred_formula_Ama=formula_Ama[\"Y_pred_Amat\"]\n",
    "print(\"Accuracy: \"+str(accuracy_score(Y_test_SMOTE, Y_pred_formula_Ama)))\n",
    "print(\"F1 score: \"+str(f1_score(Y_test_SMOTE, Y_pred_formula_Ama)))\n",
    "print(\"Kappa: \"+str(cohen_kappa_score(Y_test_SMOTE, Y_pred_formula_Ama)))\n",
    "print(\"Confusion matrix:\")\n",
    "confusion_matrix(Y_test_SMOTE, Y_pred_formula_Ama)"
   ]
  },
  {
   "cell_type": "markdown",
   "id": "e6176ccf",
   "metadata": {},
   "source": [
    "### 3.4) Combinado"
   ]
  },
  {
   "cell_type": "code",
   "execution_count": 22,
   "id": "2b14830d",
   "metadata": {},
   "outputs": [
    {
     "name": "stderr",
     "output_type": "stream",
     "text": [
      "IOPub data rate exceeded.\n",
      "The notebook server will temporarily stop sending output\n",
      "to the client in order to avoid crashing it.\n",
      "To change this limit, set the config variable\n",
      "`--NotebookApp.iopub_data_rate_limit`.\n",
      "\n",
      "Current values:\n",
      "NotebookApp.iopub_data_rate_limit=1000000.0 (bytes/sec)\n",
      "NotebookApp.rate_limit_window=3.0 (secs)\n",
      "\n"
     ]
    }
   ],
   "source": [
    "labels_total=pd.concat([Y_test_SMOTE,Y_pred_formula_Spr, Y_pred_formula_Gro,Y_pred_formula_Ama], axis=1)\n",
    "print(labels_total.to_string())"
   ]
  },
  {
   "cell_type": "code",
   "execution_count": 23,
   "id": "d3c8373a",
   "metadata": {},
   "outputs": [],
   "source": [
    "bancarrota=labels_total.loc[(labels_total['Resultado']==1)]"
   ]
  },
  {
   "cell_type": "code",
   "execution_count": 24,
   "id": "173b0328",
   "metadata": {},
   "outputs": [
    {
     "name": "stdout",
     "output_type": "stream",
     "text": [
      "272\n",
      "152\n"
     ]
    }
   ],
   "source": [
    "at_least_1_bancarrota=sum(bancarrota.sum(axis=1)<7)\n",
    "print(at_least_1_bancarrota)\n",
    "all_match_bancarrota=sum(bancarrota.sum(axis=1)==4)\n",
    "print(all_match_bancarrota)"
   ]
  },
  {
   "cell_type": "markdown",
   "id": "50190b9c",
   "metadata": {},
   "source": [
    "### 4) Modelos ML"
   ]
  },
  {
   "cell_type": "markdown",
   "id": "14ada749",
   "metadata": {},
   "source": [
    "### 4.1) Estudio con Springate"
   ]
  },
  {
   "cell_type": "code",
   "execution_count": 25,
   "id": "7ffd5534",
   "metadata": {},
   "outputs": [
    {
     "data": {
      "text/html": [
       "<div>\n",
       "<style scoped>\n",
       "    .dataframe tbody tr th:only-of-type {\n",
       "        vertical-align: middle;\n",
       "    }\n",
       "\n",
       "    .dataframe tbody tr th {\n",
       "        vertical-align: top;\n",
       "    }\n",
       "\n",
       "    .dataframe thead th {\n",
       "        text-align: right;\n",
       "    }\n",
       "</style>\n",
       "<table border=\"1\" class=\"dataframe\">\n",
       "  <thead>\n",
       "    <tr style=\"text-align: right;\">\n",
       "      <th></th>\n",
       "      <th>Coef1_Springate</th>\n",
       "      <th>Coef2_Springate</th>\n",
       "      <th>Coef3_Springate</th>\n",
       "      <th>Coef4_Springate</th>\n",
       "    </tr>\n",
       "  </thead>\n",
       "  <tbody>\n",
       "    <tr>\n",
       "      <th>0</th>\n",
       "      <td>-0.003900</td>\n",
       "      <td>0.023700</td>\n",
       "      <td>0.030900</td>\n",
       "      <td>0.981600</td>\n",
       "    </tr>\n",
       "    <tr>\n",
       "      <th>1</th>\n",
       "      <td>-0.036800</td>\n",
       "      <td>0.192000</td>\n",
       "      <td>0.124100</td>\n",
       "      <td>2.056700</td>\n",
       "    </tr>\n",
       "    <tr>\n",
       "      <th>2</th>\n",
       "      <td>0.206859</td>\n",
       "      <td>-0.122366</td>\n",
       "      <td>-0.351874</td>\n",
       "      <td>0.882378</td>\n",
       "    </tr>\n",
       "    <tr>\n",
       "      <th>3</th>\n",
       "      <td>0.056200</td>\n",
       "      <td>-0.017300</td>\n",
       "      <td>-0.112400</td>\n",
       "      <td>0.082200</td>\n",
       "    </tr>\n",
       "    <tr>\n",
       "      <th>4</th>\n",
       "      <td>-0.441470</td>\n",
       "      <td>-2.041330</td>\n",
       "      <td>-0.853690</td>\n",
       "      <td>0.485356</td>\n",
       "    </tr>\n",
       "    <tr>\n",
       "      <th>...</th>\n",
       "      <td>...</td>\n",
       "      <td>...</td>\n",
       "      <td>...</td>\n",
       "      <td>...</td>\n",
       "    </tr>\n",
       "    <tr>\n",
       "      <th>1081505</th>\n",
       "      <td>0.523600</td>\n",
       "      <td>-0.013600</td>\n",
       "      <td>-0.031800</td>\n",
       "      <td>0.940900</td>\n",
       "    </tr>\n",
       "    <tr>\n",
       "      <th>1081506</th>\n",
       "      <td>0.161500</td>\n",
       "      <td>0.103600</td>\n",
       "      <td>0.299100</td>\n",
       "      <td>1.730700</td>\n",
       "    </tr>\n",
       "    <tr>\n",
       "      <th>1081507</th>\n",
       "      <td>0.778800</td>\n",
       "      <td>0.002800</td>\n",
       "      <td>0.004000</td>\n",
       "      <td>1.459800</td>\n",
       "    </tr>\n",
       "    <tr>\n",
       "      <th>1081508</th>\n",
       "      <td>0.036000</td>\n",
       "      <td>0.014900</td>\n",
       "      <td>9.598900</td>\n",
       "      <td>0.038800</td>\n",
       "    </tr>\n",
       "    <tr>\n",
       "      <th>1081509</th>\n",
       "      <td>0.637800</td>\n",
       "      <td>0.027200</td>\n",
       "      <td>0.063900</td>\n",
       "      <td>1.612700</td>\n",
       "    </tr>\n",
       "  </tbody>\n",
       "</table>\n",
       "<p>1081510 rows × 4 columns</p>\n",
       "</div>"
      ],
      "text/plain": [
       "         Coef1_Springate  Coef2_Springate  Coef3_Springate  Coef4_Springate\n",
       "0              -0.003900         0.023700         0.030900         0.981600\n",
       "1              -0.036800         0.192000         0.124100         2.056700\n",
       "2               0.206859        -0.122366        -0.351874         0.882378\n",
       "3               0.056200        -0.017300        -0.112400         0.082200\n",
       "4              -0.441470        -2.041330        -0.853690         0.485356\n",
       "...                  ...              ...              ...              ...\n",
       "1081505         0.523600        -0.013600        -0.031800         0.940900\n",
       "1081506         0.161500         0.103600         0.299100         1.730700\n",
       "1081507         0.778800         0.002800         0.004000         1.459800\n",
       "1081508         0.036000         0.014900         9.598900         0.038800\n",
       "1081509         0.637800         0.027200         0.063900         1.612700\n",
       "\n",
       "[1081510 rows x 4 columns]"
      ]
     },
     "execution_count": 25,
     "metadata": {},
     "output_type": "execute_result"
    }
   ],
   "source": [
    "X_train_SMOTE_Springate=X_train_SMOTE.drop(columns=[\"Coef1_Amat\",\"Coef2_Amat\",\"Coef3_Amat\",\"Coef4_Amat\"])\n",
    "X_train_SMOTE_Springate"
   ]
  },
  {
   "cell_type": "code",
   "execution_count": 26,
   "id": "5bfeb7f4",
   "metadata": {},
   "outputs": [
    {
     "data": {
      "text/html": [
       "<div>\n",
       "<style scoped>\n",
       "    .dataframe tbody tr th:only-of-type {\n",
       "        vertical-align: middle;\n",
       "    }\n",
       "\n",
       "    .dataframe tbody tr th {\n",
       "        vertical-align: top;\n",
       "    }\n",
       "\n",
       "    .dataframe thead th {\n",
       "        text-align: right;\n",
       "    }\n",
       "</style>\n",
       "<table border=\"1\" class=\"dataframe\">\n",
       "  <thead>\n",
       "    <tr style=\"text-align: right;\">\n",
       "      <th></th>\n",
       "      <th>Coef1_Springate</th>\n",
       "      <th>Coef2_Springate</th>\n",
       "      <th>Coef3_Springate</th>\n",
       "      <th>Coef4_Springate</th>\n",
       "    </tr>\n",
       "  </thead>\n",
       "  <tbody>\n",
       "    <tr>\n",
       "      <th>1156</th>\n",
       "      <td>0.4748</td>\n",
       "      <td>0.0758</td>\n",
       "      <td>0.2129</td>\n",
       "      <td>3.4304</td>\n",
       "    </tr>\n",
       "    <tr>\n",
       "      <th>1157</th>\n",
       "      <td>-0.1940</td>\n",
       "      <td>-0.1275</td>\n",
       "      <td>-0.4370</td>\n",
       "      <td>0.2235</td>\n",
       "    </tr>\n",
       "    <tr>\n",
       "      <th>1158</th>\n",
       "      <td>0.0978</td>\n",
       "      <td>0.0282</td>\n",
       "      <td>0.1630</td>\n",
       "      <td>0.4326</td>\n",
       "    </tr>\n",
       "    <tr>\n",
       "      <th>1159</th>\n",
       "      <td>0.0217</td>\n",
       "      <td>-0.0145</td>\n",
       "      <td>-0.6856</td>\n",
       "      <td>0.0002</td>\n",
       "    </tr>\n",
       "    <tr>\n",
       "      <th>1160</th>\n",
       "      <td>0.0953</td>\n",
       "      <td>-0.9579</td>\n",
       "      <td>-1.9177</td>\n",
       "      <td>2.7373</td>\n",
       "    </tr>\n",
       "    <tr>\n",
       "      <th>...</th>\n",
       "      <td>...</td>\n",
       "      <td>...</td>\n",
       "      <td>...</td>\n",
       "      <td>...</td>\n",
       "    </tr>\n",
       "    <tr>\n",
       "      <th>675939</th>\n",
       "      <td>0.1232</td>\n",
       "      <td>-0.1647</td>\n",
       "      <td>-5.9479</td>\n",
       "      <td>0.0000</td>\n",
       "    </tr>\n",
       "    <tr>\n",
       "      <th>675940</th>\n",
       "      <td>0.1989</td>\n",
       "      <td>-2.1463</td>\n",
       "      <td>-0.7942</td>\n",
       "      <td>0.0000</td>\n",
       "    </tr>\n",
       "    <tr>\n",
       "      <th>675941</th>\n",
       "      <td>-0.0927</td>\n",
       "      <td>0.0000</td>\n",
       "      <td>0.0208</td>\n",
       "      <td>0.0000</td>\n",
       "    </tr>\n",
       "    <tr>\n",
       "      <th>675942</th>\n",
       "      <td>0.6813</td>\n",
       "      <td>-0.0064</td>\n",
       "      <td>-0.0240</td>\n",
       "      <td>0.0000</td>\n",
       "    </tr>\n",
       "    <tr>\n",
       "      <th>675943</th>\n",
       "      <td>0.4244</td>\n",
       "      <td>-0.0416</td>\n",
       "      <td>-0.0402</td>\n",
       "      <td>0.0000</td>\n",
       "    </tr>\n",
       "  </tbody>\n",
       "</table>\n",
       "<p>135478 rows × 4 columns</p>\n",
       "</div>"
      ],
      "text/plain": [
       "        Coef1_Springate  Coef2_Springate  Coef3_Springate  Coef4_Springate\n",
       "1156             0.4748           0.0758           0.2129           3.4304\n",
       "1157            -0.1940          -0.1275          -0.4370           0.2235\n",
       "1158             0.0978           0.0282           0.1630           0.4326\n",
       "1159             0.0217          -0.0145          -0.6856           0.0002\n",
       "1160             0.0953          -0.9579          -1.9177           2.7373\n",
       "...                 ...              ...              ...              ...\n",
       "675939           0.1232          -0.1647          -5.9479           0.0000\n",
       "675940           0.1989          -2.1463          -0.7942           0.0000\n",
       "675941          -0.0927           0.0000           0.0208           0.0000\n",
       "675942           0.6813          -0.0064          -0.0240           0.0000\n",
       "675943           0.4244          -0.0416          -0.0402           0.0000\n",
       "\n",
       "[135478 rows x 4 columns]"
      ]
     },
     "execution_count": 26,
     "metadata": {},
     "output_type": "execute_result"
    }
   ],
   "source": [
    "X_test_SMOTE_Springate=X_test_SMOTE.drop(columns=[\"Coef1_Amat\",\"Coef2_Amat\",\"Coef3_Amat\",\"Coef4_Amat\"])\n",
    "X_test_SMOTE_Springate"
   ]
  },
  {
   "cell_type": "markdown",
   "id": "8649daad",
   "metadata": {},
   "source": [
    "K Nearest Neighbours"
   ]
  },
  {
   "cell_type": "code",
   "execution_count": 27,
   "id": "e84ed2d0",
   "metadata": {},
   "outputs": [
    {
     "name": "stderr",
     "output_type": "stream",
     "text": [
      "C:\\Users\\inima\\anaconda3\\envs\\lamda_ssl\\lib\\site-packages\\sklearn\\neighbors\\_classification.py:198: DataConversionWarning: A column-vector y was passed when a 1d array was expected. Please change the shape of y to (n_samples,), for example using ravel().\n",
      "  return self._fit(X, y)\n"
     ]
    }
   ],
   "source": [
    "knn = KNeighborsClassifier()\n",
    "knn.fit(X_train_SMOTE_Springate, Y_train_SMOTE)\n",
    "y_pred = knn.predict(X_test_SMOTE_Springate)"
   ]
  },
  {
   "cell_type": "code",
   "execution_count": 28,
   "id": "8b6d51ef",
   "metadata": {},
   "outputs": [
    {
     "name": "stdout",
     "output_type": "stream",
     "text": [
      "Accuracy: 0.8472371898020343\n",
      "F1 score: 0.008812260536398468\n",
      "Kappa: 0.004624392388091869\n",
      "Confusion matrix:\n"
     ]
    },
    {
     "data": {
      "text/plain": [
       "array([[    92,    197],\n",
       "       [ 20499, 114690]], dtype=int64)"
      ]
     },
     "execution_count": 28,
     "metadata": {},
     "output_type": "execute_result"
    }
   ],
   "source": [
    "print(\"Accuracy: \"+str(accuracy_score(Y_test_SMOTE, y_pred)))\n",
    "print(\"F1 score: \"+str(f1_score(Y_test_SMOTE, y_pred)))\n",
    "print(\"Kappa: \"+str(cohen_kappa_score(Y_test_SMOTE, y_pred)))\n",
    "print(\"Confusion matrix:\")\n",
    "confusion_matrix(Y_test_SMOTE, y_pred)"
   ]
  },
  {
   "cell_type": "markdown",
   "id": "c87ac378",
   "metadata": {},
   "source": [
    "Random Forest"
   ]
  },
  {
   "cell_type": "code",
   "execution_count": 29,
   "id": "188fa616",
   "metadata": {},
   "outputs": [
    {
     "name": "stderr",
     "output_type": "stream",
     "text": [
      "C:\\Users\\inima\\anaconda3\\envs\\lamda_ssl\\lib\\site-packages\\ipykernel_launcher.py:2: DataConversionWarning: A column-vector y was passed when a 1d array was expected. Please change the shape of y to (n_samples,), for example using ravel().\n",
      "  \n"
     ]
    }
   ],
   "source": [
    "rf = RandomForestClassifier()\n",
    "rf.fit(X_train_SMOTE_Springate, Y_train_SMOTE)\n",
    "y_pred = rf.predict(X_test_SMOTE_Springate)"
   ]
  },
  {
   "cell_type": "code",
   "execution_count": 30,
   "id": "c4df7e07",
   "metadata": {},
   "outputs": [
    {
     "name": "stdout",
     "output_type": "stream",
     "text": [
      "Accuracy: 0.932180870694873\n",
      "F1 score: 0.011830501183050119\n",
      "Kappa: 0.0077286816868509245\n",
      "Confusion matrix:\n"
     ]
    },
    {
     "data": {
      "text/plain": [
       "array([[    55,    234],\n",
       "       [  8954, 126235]], dtype=int64)"
      ]
     },
     "execution_count": 30,
     "metadata": {},
     "output_type": "execute_result"
    }
   ],
   "source": [
    "print(\"Accuracy: \"+str(accuracy_score(Y_test_SMOTE, y_pred)))\n",
    "print(\"F1 score: \"+str(f1_score(Y_test_SMOTE, y_pred)))\n",
    "print(\"Kappa: \"+str(cohen_kappa_score(Y_test_SMOTE, y_pred)))\n",
    "print(\"Confusion matrix:\")\n",
    "confusion_matrix(Y_test_SMOTE, y_pred)"
   ]
  },
  {
   "cell_type": "markdown",
   "id": "85b45447",
   "metadata": {},
   "source": [
    "Decision Forest"
   ]
  },
  {
   "cell_type": "code",
   "execution_count": 31,
   "id": "42f7c221",
   "metadata": {},
   "outputs": [],
   "source": [
    "clf = tree.DecisionTreeClassifier()\n",
    "clf.fit(X_train_SMOTE_Springate, Y_train_SMOTE)\n",
    "y_pred = clf.predict(X_test_SMOTE_Springate)"
   ]
  },
  {
   "cell_type": "code",
   "execution_count": 32,
   "id": "9de23e39",
   "metadata": {},
   "outputs": [
    {
     "name": "stdout",
     "output_type": "stream",
     "text": [
      "Accuracy: 0.9209908619849717\n",
      "F1 score: 0.010720887245841035\n",
      "Kappa: 0.006595854679267266\n",
      "Confusion matrix:\n"
     ]
    },
    {
     "data": {
      "text/plain": [
       "array([[    58,    231],\n",
       "       [ 10473, 124716]], dtype=int64)"
      ]
     },
     "execution_count": 32,
     "metadata": {},
     "output_type": "execute_result"
    }
   ],
   "source": [
    "print(\"Accuracy: \"+str(accuracy_score(Y_test_SMOTE, y_pred)))\n",
    "print(\"F1 score: \"+str(f1_score(Y_test_SMOTE, y_pred)))\n",
    "print(\"Kappa: \"+str(cohen_kappa_score(Y_test_SMOTE, y_pred)))\n",
    "print(\"Confusion matrix:\")\n",
    "confusion_matrix(Y_test_SMOTE, y_pred)"
   ]
  },
  {
   "cell_type": "markdown",
   "id": "1314c92b",
   "metadata": {},
   "source": [
    "Naive Bayes"
   ]
  },
  {
   "cell_type": "code",
   "execution_count": 33,
   "id": "6fd99155",
   "metadata": {},
   "outputs": [
    {
     "name": "stderr",
     "output_type": "stream",
     "text": [
      "C:\\Users\\inima\\anaconda3\\envs\\lamda_ssl\\lib\\site-packages\\sklearn\\utils\\validation.py:993: DataConversionWarning: A column-vector y was passed when a 1d array was expected. Please change the shape of y to (n_samples, ), for example using ravel().\n",
      "  y = column_or_1d(y, warn=True)\n"
     ]
    }
   ],
   "source": [
    "gnb = GaussianNB()\n",
    "gnb.fit(X_train_SMOTE_Springate, Y_train_SMOTE)\n",
    "y_pred = gnb.predict(X_test_SMOTE_Springate)"
   ]
  },
  {
   "cell_type": "code",
   "execution_count": 34,
   "id": "c55ad721",
   "metadata": {},
   "outputs": [
    {
     "name": "stdout",
     "output_type": "stream",
     "text": [
      "Accuracy: 0.006776007912723837\n",
      "F1 score: 0.0041444641799881585\n",
      "Kappa: -0.00011326829159230556\n",
      "Confusion matrix:\n"
     ]
    },
    {
     "data": {
      "text/plain": [
       "array([[   280,      9],\n",
       "       [134551,    638]], dtype=int64)"
      ]
     },
     "execution_count": 34,
     "metadata": {},
     "output_type": "execute_result"
    }
   ],
   "source": [
    "print(\"Accuracy: \"+str(accuracy_score(Y_test_SMOTE, y_pred)))\n",
    "print(\"F1 score: \"+str(f1_score(Y_test_SMOTE, y_pred)))\n",
    "print(\"Kappa: \"+str(cohen_kappa_score(Y_test_SMOTE, y_pred)))\n",
    "print(\"Confusion matrix:\")\n",
    "confusion_matrix(Y_test_SMOTE, y_pred)"
   ]
  },
  {
   "cell_type": "markdown",
   "id": "53e93cdb",
   "metadata": {},
   "source": [
    "Multi-layer Perceptron Classifier Neural newtork"
   ]
  },
  {
   "cell_type": "code",
   "execution_count": 35,
   "id": "56f72e1e",
   "metadata": {},
   "outputs": [
    {
     "name": "stderr",
     "output_type": "stream",
     "text": [
      "C:\\Users\\inima\\anaconda3\\envs\\lamda_ssl\\lib\\site-packages\\sklearn\\neural_network\\_multilayer_perceptron.py:1109: DataConversionWarning: A column-vector y was passed when a 1d array was expected. Please change the shape of y to (n_samples, ), for example using ravel().\n",
      "  y = column_or_1d(y, warn=True)\n"
     ]
    }
   ],
   "source": [
    "mlp = MLPClassifier()\n",
    "mlp.fit(X_train_SMOTE_Springate, Y_train_SMOTE)\n",
    "y_pred = mlp.predict(X_test_SMOTE_Springate)"
   ]
  },
  {
   "cell_type": "code",
   "execution_count": 36,
   "id": "da0ce827",
   "metadata": {},
   "outputs": [
    {
     "name": "stdout",
     "output_type": "stream",
     "text": [
      "Accuracy: 0.6486883479236482\n",
      "F1 score: 0.007755331790606041\n",
      "Kappa: 0.003529629239893639\n",
      "Confusion matrix:\n"
     ]
    },
    {
     "data": {
      "text/plain": [
       "array([[  186,   103],\n",
       "       [47492, 87697]], dtype=int64)"
      ]
     },
     "execution_count": 36,
     "metadata": {},
     "output_type": "execute_result"
    }
   ],
   "source": [
    "print(\"Accuracy: \"+str(accuracy_score(Y_test_SMOTE, y_pred)))\n",
    "print(\"F1 score: \"+str(f1_score(Y_test_SMOTE, y_pred)))\n",
    "print(\"Kappa: \"+str(cohen_kappa_score(Y_test_SMOTE, y_pred)))\n",
    "print(\"Confusion matrix:\")\n",
    "confusion_matrix(Y_test_SMOTE, y_pred)"
   ]
  },
  {
   "cell_type": "markdown",
   "id": "15d995b7",
   "metadata": {},
   "source": [
    "Linear Discriminant Analysis"
   ]
  },
  {
   "cell_type": "code",
   "execution_count": 37,
   "id": "84399547",
   "metadata": {},
   "outputs": [
    {
     "name": "stderr",
     "output_type": "stream",
     "text": [
      "C:\\Users\\inima\\anaconda3\\envs\\lamda_ssl\\lib\\site-packages\\sklearn\\utils\\validation.py:993: DataConversionWarning: A column-vector y was passed when a 1d array was expected. Please change the shape of y to (n_samples, ), for example using ravel().\n",
      "  y = column_or_1d(y, warn=True)\n"
     ]
    }
   ],
   "source": [
    "lda = LinearDiscriminantAnalysis()\n",
    "lda.fit(X_train_SMOTE_Springate, Y_train_SMOTE)\n",
    "y_pred = lda.predict(X_test_SMOTE_Springate)"
   ]
  },
  {
   "cell_type": "code",
   "execution_count": 38,
   "id": "47c2b5ef",
   "metadata": {},
   "outputs": [
    {
     "name": "stdout",
     "output_type": "stream",
     "text": [
      "Accuracy: 0.6543719275454317\n",
      "F1 score: 0.005183878986169242\n",
      "Kappa: 0.0009477173388702242\n",
      "Confusion matrix:\n"
     ]
    },
    {
     "data": {
      "text/plain": [
       "array([[  122,   167],\n",
       "       [46658, 88531]], dtype=int64)"
      ]
     },
     "execution_count": 38,
     "metadata": {},
     "output_type": "execute_result"
    }
   ],
   "source": [
    "print(\"Accuracy: \"+str(accuracy_score(Y_test_SMOTE, y_pred)))\n",
    "print(\"F1 score: \"+str(f1_score(Y_test_SMOTE, y_pred)))\n",
    "print(\"Kappa: \"+str(cohen_kappa_score(Y_test_SMOTE, y_pred)))\n",
    "print(\"Confusion matrix:\")\n",
    "confusion_matrix(Y_test_SMOTE, y_pred)"
   ]
  },
  {
   "cell_type": "markdown",
   "id": "693ac58a",
   "metadata": {},
   "source": [
    "### 4.2) Estudio con Grover"
   ]
  },
  {
   "cell_type": "code",
   "execution_count": 39,
   "id": "d677bd80",
   "metadata": {},
   "outputs": [
    {
     "data": {
      "text/html": [
       "<div>\n",
       "<style scoped>\n",
       "    .dataframe tbody tr th:only-of-type {\n",
       "        vertical-align: middle;\n",
       "    }\n",
       "\n",
       "    .dataframe tbody tr th {\n",
       "        vertical-align: top;\n",
       "    }\n",
       "\n",
       "    .dataframe thead th {\n",
       "        text-align: right;\n",
       "    }\n",
       "</style>\n",
       "<table border=\"1\" class=\"dataframe\">\n",
       "  <thead>\n",
       "    <tr style=\"text-align: right;\">\n",
       "      <th></th>\n",
       "      <th>Coef1_Springate</th>\n",
       "      <th>Coef2_Springate</th>\n",
       "      <th>Coef3_Amat</th>\n",
       "    </tr>\n",
       "  </thead>\n",
       "  <tbody>\n",
       "    <tr>\n",
       "      <th>0</th>\n",
       "      <td>-0.003900</td>\n",
       "      <td>0.023700</td>\n",
       "      <td>0.007300</td>\n",
       "    </tr>\n",
       "    <tr>\n",
       "      <th>1</th>\n",
       "      <td>-0.036800</td>\n",
       "      <td>0.192000</td>\n",
       "      <td>0.144000</td>\n",
       "    </tr>\n",
       "    <tr>\n",
       "      <th>2</th>\n",
       "      <td>0.206859</td>\n",
       "      <td>-0.122366</td>\n",
       "      <td>-0.114246</td>\n",
       "    </tr>\n",
       "    <tr>\n",
       "      <th>3</th>\n",
       "      <td>0.056200</td>\n",
       "      <td>-0.017300</td>\n",
       "      <td>-0.016200</td>\n",
       "    </tr>\n",
       "    <tr>\n",
       "      <th>4</th>\n",
       "      <td>-0.441470</td>\n",
       "      <td>-2.041330</td>\n",
       "      <td>-2.275014</td>\n",
       "    </tr>\n",
       "    <tr>\n",
       "      <th>...</th>\n",
       "      <td>...</td>\n",
       "      <td>...</td>\n",
       "      <td>...</td>\n",
       "    </tr>\n",
       "    <tr>\n",
       "      <th>1081505</th>\n",
       "      <td>0.523600</td>\n",
       "      <td>-0.013600</td>\n",
       "      <td>-0.015900</td>\n",
       "    </tr>\n",
       "    <tr>\n",
       "      <th>1081506</th>\n",
       "      <td>0.161500</td>\n",
       "      <td>0.103600</td>\n",
       "      <td>0.059900</td>\n",
       "    </tr>\n",
       "    <tr>\n",
       "      <th>1081507</th>\n",
       "      <td>0.778800</td>\n",
       "      <td>0.002800</td>\n",
       "      <td>0.001800</td>\n",
       "    </tr>\n",
       "    <tr>\n",
       "      <th>1081508</th>\n",
       "      <td>0.036000</td>\n",
       "      <td>0.014900</td>\n",
       "      <td>0.196600</td>\n",
       "    </tr>\n",
       "    <tr>\n",
       "      <th>1081509</th>\n",
       "      <td>0.637800</td>\n",
       "      <td>0.027200</td>\n",
       "      <td>0.015700</td>\n",
       "    </tr>\n",
       "  </tbody>\n",
       "</table>\n",
       "<p>1081510 rows × 3 columns</p>\n",
       "</div>"
      ],
      "text/plain": [
       "         Coef1_Springate  Coef2_Springate  Coef3_Amat\n",
       "0              -0.003900         0.023700    0.007300\n",
       "1              -0.036800         0.192000    0.144000\n",
       "2               0.206859        -0.122366   -0.114246\n",
       "3               0.056200        -0.017300   -0.016200\n",
       "4              -0.441470        -2.041330   -2.275014\n",
       "...                  ...              ...         ...\n",
       "1081505         0.523600        -0.013600   -0.015900\n",
       "1081506         0.161500         0.103600    0.059900\n",
       "1081507         0.778800         0.002800    0.001800\n",
       "1081508         0.036000         0.014900    0.196600\n",
       "1081509         0.637800         0.027200    0.015700\n",
       "\n",
       "[1081510 rows x 3 columns]"
      ]
     },
     "execution_count": 39,
     "metadata": {},
     "output_type": "execute_result"
    }
   ],
   "source": [
    "X_train_SMOTE_Grover=X_train_SMOTE.drop(columns=[\"Coef1_Amat\",\"Coef2_Amat\",\"Coef3_Springate\",\"Coef4_Springate\",\"Coef4_Amat\"])\n",
    "X_train_SMOTE_Grover"
   ]
  },
  {
   "cell_type": "code",
   "execution_count": 40,
   "id": "6e21b981",
   "metadata": {},
   "outputs": [
    {
     "data": {
      "text/html": [
       "<div>\n",
       "<style scoped>\n",
       "    .dataframe tbody tr th:only-of-type {\n",
       "        vertical-align: middle;\n",
       "    }\n",
       "\n",
       "    .dataframe tbody tr th {\n",
       "        vertical-align: top;\n",
       "    }\n",
       "\n",
       "    .dataframe thead th {\n",
       "        text-align: right;\n",
       "    }\n",
       "</style>\n",
       "<table border=\"1\" class=\"dataframe\">\n",
       "  <thead>\n",
       "    <tr style=\"text-align: right;\">\n",
       "      <th></th>\n",
       "      <th>Coef1_Springate</th>\n",
       "      <th>Coef2_Springate</th>\n",
       "      <th>Coef3_Amat</th>\n",
       "    </tr>\n",
       "  </thead>\n",
       "  <tbody>\n",
       "    <tr>\n",
       "      <th>1156</th>\n",
       "      <td>0.4748</td>\n",
       "      <td>0.0758</td>\n",
       "      <td>0.0568</td>\n",
       "    </tr>\n",
       "    <tr>\n",
       "      <th>1157</th>\n",
       "      <td>-0.1940</td>\n",
       "      <td>-0.1275</td>\n",
       "      <td>-0.1274</td>\n",
       "    </tr>\n",
       "    <tr>\n",
       "      <th>1158</th>\n",
       "      <td>0.0978</td>\n",
       "      <td>0.0282</td>\n",
       "      <td>0.0209</td>\n",
       "    </tr>\n",
       "    <tr>\n",
       "      <th>1159</th>\n",
       "      <td>0.0217</td>\n",
       "      <td>-0.0145</td>\n",
       "      <td>-0.0251</td>\n",
       "    </tr>\n",
       "    <tr>\n",
       "      <th>1160</th>\n",
       "      <td>0.0953</td>\n",
       "      <td>-0.9579</td>\n",
       "      <td>-0.8234</td>\n",
       "    </tr>\n",
       "    <tr>\n",
       "      <th>...</th>\n",
       "      <td>...</td>\n",
       "      <td>...</td>\n",
       "      <td>...</td>\n",
       "    </tr>\n",
       "    <tr>\n",
       "      <th>675939</th>\n",
       "      <td>0.1232</td>\n",
       "      <td>-0.1647</td>\n",
       "      <td>-0.1649</td>\n",
       "    </tr>\n",
       "    <tr>\n",
       "      <th>675940</th>\n",
       "      <td>0.1989</td>\n",
       "      <td>-2.1463</td>\n",
       "      <td>-1.6097</td>\n",
       "    </tr>\n",
       "    <tr>\n",
       "      <th>675941</th>\n",
       "      <td>-0.0927</td>\n",
       "      <td>0.0000</td>\n",
       "      <td>0.0117</td>\n",
       "    </tr>\n",
       "    <tr>\n",
       "      <th>675942</th>\n",
       "      <td>0.6813</td>\n",
       "      <td>-0.0064</td>\n",
       "      <td>0.0025</td>\n",
       "    </tr>\n",
       "    <tr>\n",
       "      <th>675943</th>\n",
       "      <td>0.4244</td>\n",
       "      <td>-0.0416</td>\n",
       "      <td>-0.0416</td>\n",
       "    </tr>\n",
       "  </tbody>\n",
       "</table>\n",
       "<p>135478 rows × 3 columns</p>\n",
       "</div>"
      ],
      "text/plain": [
       "        Coef1_Springate  Coef2_Springate  Coef3_Amat\n",
       "1156             0.4748           0.0758      0.0568\n",
       "1157            -0.1940          -0.1275     -0.1274\n",
       "1158             0.0978           0.0282      0.0209\n",
       "1159             0.0217          -0.0145     -0.0251\n",
       "1160             0.0953          -0.9579     -0.8234\n",
       "...                 ...              ...         ...\n",
       "675939           0.1232          -0.1647     -0.1649\n",
       "675940           0.1989          -2.1463     -1.6097\n",
       "675941          -0.0927           0.0000      0.0117\n",
       "675942           0.6813          -0.0064      0.0025\n",
       "675943           0.4244          -0.0416     -0.0416\n",
       "\n",
       "[135478 rows x 3 columns]"
      ]
     },
     "execution_count": 40,
     "metadata": {},
     "output_type": "execute_result"
    }
   ],
   "source": [
    "X_test_SMOTE_Grover=X_test_SMOTE.drop(columns=[\"Coef1_Amat\",\"Coef2_Amat\",\"Coef3_Springate\",\"Coef4_Springate\",\"Coef4_Amat\"])\n",
    "X_test_SMOTE_Grover"
   ]
  },
  {
   "cell_type": "markdown",
   "id": "102c8221",
   "metadata": {},
   "source": [
    "K Nearest Neighbours"
   ]
  },
  {
   "cell_type": "code",
   "execution_count": 41,
   "id": "8e191193",
   "metadata": {},
   "outputs": [
    {
     "name": "stderr",
     "output_type": "stream",
     "text": [
      "C:\\Users\\inima\\anaconda3\\envs\\lamda_ssl\\lib\\site-packages\\sklearn\\neighbors\\_classification.py:198: DataConversionWarning: A column-vector y was passed when a 1d array was expected. Please change the shape of y to (n_samples,), for example using ravel().\n",
      "  return self._fit(X, y)\n"
     ]
    }
   ],
   "source": [
    "knn = KNeighborsClassifier()\n",
    "knn.fit(X_train_SMOTE_Grover, Y_train_SMOTE)\n",
    "y_pred = knn.predict(X_test_SMOTE_Grover)"
   ]
  },
  {
   "cell_type": "code",
   "execution_count": 42,
   "id": "5adf2704",
   "metadata": {},
   "outputs": [
    {
     "name": "stdout",
     "output_type": "stream",
     "text": [
      "Accuracy: 0.7499520217304655\n",
      "F1 score: 0.008371875182951818\n",
      "Kappa: 0.004159186589036468\n",
      "Confusion matrix:\n"
     ]
    },
    {
     "data": {
      "text/plain": [
       "array([[   143,    146],\n",
       "       [ 33730, 101459]], dtype=int64)"
      ]
     },
     "execution_count": 42,
     "metadata": {},
     "output_type": "execute_result"
    }
   ],
   "source": [
    "print(\"Accuracy: \"+str(accuracy_score(Y_test_SMOTE, y_pred)))\n",
    "print(\"F1 score: \"+str(f1_score(Y_test_SMOTE, y_pred)))\n",
    "print(\"Kappa: \"+str(cohen_kappa_score(Y_test_SMOTE, y_pred)))\n",
    "print(\"Confusion matrix:\")\n",
    "confusion_matrix(Y_test_SMOTE, y_pred)"
   ]
  },
  {
   "cell_type": "markdown",
   "id": "5fc3f29d",
   "metadata": {},
   "source": [
    "Random Forest"
   ]
  },
  {
   "cell_type": "code",
   "execution_count": 43,
   "id": "4667113d",
   "metadata": {},
   "outputs": [
    {
     "name": "stderr",
     "output_type": "stream",
     "text": [
      "C:\\Users\\inima\\anaconda3\\envs\\lamda_ssl\\lib\\site-packages\\ipykernel_launcher.py:2: DataConversionWarning: A column-vector y was passed when a 1d array was expected. Please change the shape of y to (n_samples,), for example using ravel().\n",
      "  \n"
     ]
    }
   ],
   "source": [
    "rf = RandomForestClassifier()\n",
    "rf.fit(X_train_SMOTE_Grover, Y_train_SMOTE)\n",
    "y_pred = rf.predict(X_test_SMOTE_Grover)"
   ]
  },
  {
   "cell_type": "code",
   "execution_count": 44,
   "id": "f3534575",
   "metadata": {},
   "outputs": [
    {
     "name": "stdout",
     "output_type": "stream",
     "text": [
      "Accuracy: 0.8194024121997667\n",
      "F1 score: 0.01099478556125955\n",
      "Kappa: 0.006806951588128718\n",
      "Confusion matrix:\n"
     ]
    },
    {
     "data": {
      "text/plain": [
       "array([[   136,    153],\n",
       "       [ 24314, 110875]], dtype=int64)"
      ]
     },
     "execution_count": 44,
     "metadata": {},
     "output_type": "execute_result"
    }
   ],
   "source": [
    "print(\"Accuracy: \"+str(accuracy_score(Y_test_SMOTE, y_pred)))\n",
    "print(\"F1 score: \"+str(f1_score(Y_test_SMOTE, y_pred)))\n",
    "print(\"Kappa: \"+str(cohen_kappa_score(Y_test_SMOTE, y_pred)))\n",
    "print(\"Confusion matrix:\")\n",
    "confusion_matrix(Y_test_SMOTE, y_pred)"
   ]
  },
  {
   "cell_type": "markdown",
   "id": "a44f6ca8",
   "metadata": {},
   "source": [
    "Decision Forest"
   ]
  },
  {
   "cell_type": "code",
   "execution_count": 45,
   "id": "7cfeb67b",
   "metadata": {},
   "outputs": [],
   "source": [
    "clf = tree.DecisionTreeClassifier()\n",
    "clf.fit(X_train_SMOTE_Grover, Y_train_SMOTE)\n",
    "y_pred = clf.predict(X_test_SMOTE_Grover)"
   ]
  },
  {
   "cell_type": "code",
   "execution_count": 46,
   "id": "189be209",
   "metadata": {},
   "outputs": [
    {
     "name": "stdout",
     "output_type": "stream",
     "text": [
      "Accuracy: 0.8122351968585305\n",
      "F1 score: 0.009346522314822026\n",
      "Kappa: 0.005149888111478318\n",
      "Confusion matrix:\n"
     ]
    },
    {
     "data": {
      "text/plain": [
       "array([[   120,    169],\n",
       "       [ 25269, 109920]], dtype=int64)"
      ]
     },
     "execution_count": 46,
     "metadata": {},
     "output_type": "execute_result"
    }
   ],
   "source": [
    "print(\"Accuracy: \"+str(accuracy_score(Y_test_SMOTE, y_pred)))\n",
    "print(\"F1 score: \"+str(f1_score(Y_test_SMOTE, y_pred)))\n",
    "print(\"Kappa: \"+str(cohen_kappa_score(Y_test_SMOTE, y_pred)))\n",
    "print(\"Confusion matrix:\")\n",
    "confusion_matrix(Y_test_SMOTE, y_pred)"
   ]
  },
  {
   "cell_type": "markdown",
   "id": "a8f2f032",
   "metadata": {},
   "source": [
    "Naive Bayes"
   ]
  },
  {
   "cell_type": "code",
   "execution_count": 47,
   "id": "09694678",
   "metadata": {},
   "outputs": [
    {
     "name": "stderr",
     "output_type": "stream",
     "text": [
      "C:\\Users\\inima\\anaconda3\\envs\\lamda_ssl\\lib\\site-packages\\sklearn\\utils\\validation.py:993: DataConversionWarning: A column-vector y was passed when a 1d array was expected. Please change the shape of y to (n_samples, ), for example using ravel().\n",
      "  y = column_or_1d(y, warn=True)\n"
     ]
    }
   ],
   "source": [
    "gnb = GaussianNB()\n",
    "gnb.fit(X_train_SMOTE_Grover, Y_train_SMOTE)\n",
    "y_pred = gnb.predict(X_test_SMOTE_Grover)"
   ]
  },
  {
   "cell_type": "code",
   "execution_count": 48,
   "id": "7eed1888",
   "metadata": {},
   "outputs": [
    {
     "name": "stdout",
     "output_type": "stream",
     "text": [
      "Accuracy: 0.00596406796675475\n",
      "F1 score: 0.004082175977281804\n",
      "Kappa: -0.00017582971835428118\n",
      "Confusion matrix:\n"
     ]
    },
    {
     "data": {
      "text/plain": [
       "array([[   276,     13],\n",
       "       [134657,    532]], dtype=int64)"
      ]
     },
     "execution_count": 48,
     "metadata": {},
     "output_type": "execute_result"
    }
   ],
   "source": [
    "print(\"Accuracy: \"+str(accuracy_score(Y_test_SMOTE, y_pred)))\n",
    "print(\"F1 score: \"+str(f1_score(Y_test_SMOTE, y_pred)))\n",
    "print(\"Kappa: \"+str(cohen_kappa_score(Y_test_SMOTE, y_pred)))\n",
    "print(\"Confusion matrix:\")\n",
    "confusion_matrix(Y_test_SMOTE, y_pred)"
   ]
  },
  {
   "cell_type": "markdown",
   "id": "0c27a103",
   "metadata": {},
   "source": [
    "Multi-layer Perceptron Classifier Neural newtork"
   ]
  },
  {
   "cell_type": "code",
   "execution_count": 49,
   "id": "c70d9c9b",
   "metadata": {},
   "outputs": [
    {
     "name": "stderr",
     "output_type": "stream",
     "text": [
      "C:\\Users\\inima\\anaconda3\\envs\\lamda_ssl\\lib\\site-packages\\sklearn\\neural_network\\_multilayer_perceptron.py:1109: DataConversionWarning: A column-vector y was passed when a 1d array was expected. Please change the shape of y to (n_samples, ), for example using ravel().\n",
      "  y = column_or_1d(y, warn=True)\n"
     ]
    }
   ],
   "source": [
    "mlp = MLPClassifier()\n",
    "mlp.fit(X_train_SMOTE_Grover, Y_train_SMOTE)\n",
    "y_pred = mlp.predict(X_test_SMOTE_Grover)"
   ]
  },
  {
   "cell_type": "code",
   "execution_count": 50,
   "id": "7cc22767",
   "metadata": {},
   "outputs": [
    {
     "name": "stdout",
     "output_type": "stream",
     "text": [
      "Accuracy: 0.6791065708085445\n",
      "F1 score: 0.009071845368344275\n",
      "Kappa: 0.004854147295253131\n",
      "Confusion matrix:\n"
     ]
    },
    {
     "data": {
      "text/plain": [
       "array([[  199,    90],\n",
       "       [43384, 91805]], dtype=int64)"
      ]
     },
     "execution_count": 50,
     "metadata": {},
     "output_type": "execute_result"
    }
   ],
   "source": [
    "print(\"Accuracy: \"+str(accuracy_score(Y_test_SMOTE, y_pred)))\n",
    "print(\"F1 score: \"+str(f1_score(Y_test_SMOTE, y_pred)))\n",
    "print(\"Kappa: \"+str(cohen_kappa_score(Y_test_SMOTE, y_pred)))\n",
    "print(\"Confusion matrix:\")\n",
    "confusion_matrix(Y_test_SMOTE, y_pred)"
   ]
  },
  {
   "cell_type": "markdown",
   "id": "99d63b2c",
   "metadata": {},
   "source": [
    "Linear Discriminant Analysis"
   ]
  },
  {
   "cell_type": "code",
   "execution_count": 51,
   "id": "35ad12cc",
   "metadata": {},
   "outputs": [
    {
     "name": "stderr",
     "output_type": "stream",
     "text": [
      "C:\\Users\\inima\\anaconda3\\envs\\lamda_ssl\\lib\\site-packages\\sklearn\\utils\\validation.py:993: DataConversionWarning: A column-vector y was passed when a 1d array was expected. Please change the shape of y to (n_samples, ), for example using ravel().\n",
      "  y = column_or_1d(y, warn=True)\n"
     ]
    }
   ],
   "source": [
    "lda = LinearDiscriminantAnalysis()\n",
    "lda.fit(X_train_SMOTE_Grover, Y_train_SMOTE)\n",
    "y_pred = lda.predict(X_test_SMOTE_Grover)"
   ]
  },
  {
   "cell_type": "code",
   "execution_count": 52,
   "id": "6bcc8f32",
   "metadata": {},
   "outputs": [
    {
     "name": "stdout",
     "output_type": "stream",
     "text": [
      "Accuracy: 0.6774310220109538\n",
      "F1 score: 0.005235482916391614\n",
      "Kappa: 0.0010014182259732163\n",
      "Confusion matrix:\n"
     ]
    },
    {
     "data": {
      "text/plain": [
       "array([[  115,   174],\n",
       "       [43527, 91662]], dtype=int64)"
      ]
     },
     "execution_count": 52,
     "metadata": {},
     "output_type": "execute_result"
    }
   ],
   "source": [
    "print(\"Accuracy: \"+str(accuracy_score(Y_test_SMOTE, y_pred)))\n",
    "print(\"F1 score: \"+str(f1_score(Y_test_SMOTE, y_pred)))\n",
    "print(\"Kappa: \"+str(cohen_kappa_score(Y_test_SMOTE, y_pred)))\n",
    "print(\"Confusion matrix:\")\n",
    "confusion_matrix(Y_test_SMOTE, y_pred)"
   ]
  },
  {
   "cell_type": "markdown",
   "id": "e9466098",
   "metadata": {},
   "source": [
    "### 4.3) Estudio con Amat"
   ]
  },
  {
   "cell_type": "code",
   "execution_count": 53,
   "id": "fb76cd06",
   "metadata": {},
   "outputs": [
    {
     "data": {
      "text/html": [
       "<div>\n",
       "<style scoped>\n",
       "    .dataframe tbody tr th:only-of-type {\n",
       "        vertical-align: middle;\n",
       "    }\n",
       "\n",
       "    .dataframe tbody tr th {\n",
       "        vertical-align: top;\n",
       "    }\n",
       "\n",
       "    .dataframe thead th {\n",
       "        text-align: right;\n",
       "    }\n",
       "</style>\n",
       "<table border=\"1\" class=\"dataframe\">\n",
       "  <thead>\n",
       "    <tr style=\"text-align: right;\">\n",
       "      <th></th>\n",
       "      <th>Coef1_Amat</th>\n",
       "      <th>Coef2_Amat</th>\n",
       "      <th>Coef3_Amat</th>\n",
       "      <th>Coef4_Amat</th>\n",
       "    </tr>\n",
       "  </thead>\n",
       "  <tbody>\n",
       "    <tr>\n",
       "      <th>0</th>\n",
       "      <td>1.537100</td>\n",
       "      <td>-0.125000</td>\n",
       "      <td>0.007300</td>\n",
       "      <td>-0.058500</td>\n",
       "    </tr>\n",
       "    <tr>\n",
       "      <th>1</th>\n",
       "      <td>0.403700</td>\n",
       "      <td>-0.547600</td>\n",
       "      <td>0.144000</td>\n",
       "      <td>-0.263000</td>\n",
       "    </tr>\n",
       "    <tr>\n",
       "      <th>2</th>\n",
       "      <td>0.852863</td>\n",
       "      <td>0.398709</td>\n",
       "      <td>-0.114246</td>\n",
       "      <td>-0.291273</td>\n",
       "    </tr>\n",
       "    <tr>\n",
       "      <th>3</th>\n",
       "      <td>1.718300</td>\n",
       "      <td>0.732900</td>\n",
       "      <td>-0.016200</td>\n",
       "      <td>-0.022100</td>\n",
       "    </tr>\n",
       "    <tr>\n",
       "      <th>4</th>\n",
       "      <td>0.102403</td>\n",
       "      <td>-2.265369</td>\n",
       "      <td>-2.275014</td>\n",
       "      <td>0.995709</td>\n",
       "    </tr>\n",
       "    <tr>\n",
       "      <th>...</th>\n",
       "      <td>...</td>\n",
       "      <td>...</td>\n",
       "      <td>...</td>\n",
       "      <td>...</td>\n",
       "    </tr>\n",
       "    <tr>\n",
       "      <th>1081505</th>\n",
       "      <td>1.319600</td>\n",
       "      <td>0.124700</td>\n",
       "      <td>-0.015900</td>\n",
       "      <td>-0.127600</td>\n",
       "    </tr>\n",
       "    <tr>\n",
       "      <th>1081506</th>\n",
       "      <td>1.549800</td>\n",
       "      <td>0.301100</td>\n",
       "      <td>0.059900</td>\n",
       "      <td>0.198900</td>\n",
       "    </tr>\n",
       "    <tr>\n",
       "      <th>1081507</th>\n",
       "      <td>1.258300</td>\n",
       "      <td>0.299600</td>\n",
       "      <td>0.001800</td>\n",
       "      <td>0.006100</td>\n",
       "    </tr>\n",
       "    <tr>\n",
       "      <th>1081508</th>\n",
       "      <td>6.931500</td>\n",
       "      <td>0.814000</td>\n",
       "      <td>0.196600</td>\n",
       "      <td>0.241500</td>\n",
       "    </tr>\n",
       "    <tr>\n",
       "      <th>1081509</th>\n",
       "      <td>2.487100</td>\n",
       "      <td>0.641600</td>\n",
       "      <td>0.015700</td>\n",
       "      <td>0.024400</td>\n",
       "    </tr>\n",
       "  </tbody>\n",
       "</table>\n",
       "<p>1081510 rows × 4 columns</p>\n",
       "</div>"
      ],
      "text/plain": [
       "         Coef1_Amat  Coef2_Amat  Coef3_Amat  Coef4_Amat\n",
       "0          1.537100   -0.125000    0.007300   -0.058500\n",
       "1          0.403700   -0.547600    0.144000   -0.263000\n",
       "2          0.852863    0.398709   -0.114246   -0.291273\n",
       "3          1.718300    0.732900   -0.016200   -0.022100\n",
       "4          0.102403   -2.265369   -2.275014    0.995709\n",
       "...             ...         ...         ...         ...\n",
       "1081505    1.319600    0.124700   -0.015900   -0.127600\n",
       "1081506    1.549800    0.301100    0.059900    0.198900\n",
       "1081507    1.258300    0.299600    0.001800    0.006100\n",
       "1081508    6.931500    0.814000    0.196600    0.241500\n",
       "1081509    2.487100    0.641600    0.015700    0.024400\n",
       "\n",
       "[1081510 rows x 4 columns]"
      ]
     },
     "execution_count": 53,
     "metadata": {},
     "output_type": "execute_result"
    }
   ],
   "source": [
    "X_train_SMOTE_Amat=X_train_SMOTE.drop(columns=[\"Coef1_Springate\",\"Coef2_Springate\",\"Coef3_Springate\",\"Coef4_Springate\"])\n",
    "X_train_SMOTE_Amat"
   ]
  },
  {
   "cell_type": "code",
   "execution_count": 54,
   "id": "011db4b9",
   "metadata": {},
   "outputs": [
    {
     "data": {
      "text/html": [
       "<div>\n",
       "<style scoped>\n",
       "    .dataframe tbody tr th:only-of-type {\n",
       "        vertical-align: middle;\n",
       "    }\n",
       "\n",
       "    .dataframe tbody tr th {\n",
       "        vertical-align: top;\n",
       "    }\n",
       "\n",
       "    .dataframe thead th {\n",
       "        text-align: right;\n",
       "    }\n",
       "</style>\n",
       "<table border=\"1\" class=\"dataframe\">\n",
       "  <thead>\n",
       "    <tr style=\"text-align: right;\">\n",
       "      <th></th>\n",
       "      <th>Coef1_Amat</th>\n",
       "      <th>Coef2_Amat</th>\n",
       "      <th>Coef3_Amat</th>\n",
       "      <th>Coef4_Amat</th>\n",
       "    </tr>\n",
       "  </thead>\n",
       "  <tbody>\n",
       "    <tr>\n",
       "      <th>1156</th>\n",
       "      <td>2.8091</td>\n",
       "      <td>0.6440</td>\n",
       "      <td>0.0568</td>\n",
       "      <td>0.0883</td>\n",
       "    </tr>\n",
       "    <tr>\n",
       "      <th>1157</th>\n",
       "      <td>0.5615</td>\n",
       "      <td>0.0590</td>\n",
       "      <td>-0.1274</td>\n",
       "      <td>-2.1603</td>\n",
       "    </tr>\n",
       "    <tr>\n",
       "      <th>1158</th>\n",
       "      <td>1.5040</td>\n",
       "      <td>0.7844</td>\n",
       "      <td>0.0209</td>\n",
       "      <td>0.0267</td>\n",
       "    </tr>\n",
       "    <tr>\n",
       "      <th>1159</th>\n",
       "      <td>12.5930</td>\n",
       "      <td>0.3185</td>\n",
       "      <td>-0.0251</td>\n",
       "      <td>-0.0787</td>\n",
       "    </tr>\n",
       "    <tr>\n",
       "      <th>1160</th>\n",
       "      <td>0.1924</td>\n",
       "      <td>-0.6964</td>\n",
       "      <td>-0.8234</td>\n",
       "      <td>1.1824</td>\n",
       "    </tr>\n",
       "    <tr>\n",
       "      <th>...</th>\n",
       "      <td>...</td>\n",
       "      <td>...</td>\n",
       "      <td>...</td>\n",
       "      <td>...</td>\n",
       "    </tr>\n",
       "    <tr>\n",
       "      <th>675939</th>\n",
       "      <td>9.4479</td>\n",
       "      <td>0.9574</td>\n",
       "      <td>-0.1649</td>\n",
       "      <td>-0.1722</td>\n",
       "    </tr>\n",
       "    <tr>\n",
       "      <th>675940</th>\n",
       "      <td>0.1321</td>\n",
       "      <td>-1.7025</td>\n",
       "      <td>-1.6097</td>\n",
       "      <td>0.9455</td>\n",
       "    </tr>\n",
       "    <tr>\n",
       "      <th>675941</th>\n",
       "      <td>1.0615</td>\n",
       "      <td>0.4367</td>\n",
       "      <td>0.0117</td>\n",
       "      <td>0.0269</td>\n",
       "    </tr>\n",
       "    <tr>\n",
       "      <th>675942</th>\n",
       "      <td>3.6889</td>\n",
       "      <td>0.7320</td>\n",
       "      <td>0.0025</td>\n",
       "      <td>0.0034</td>\n",
       "    </tr>\n",
       "    <tr>\n",
       "      <th>675943</th>\n",
       "      <td>0.9633</td>\n",
       "      <td>-0.0349</td>\n",
       "      <td>-0.0416</td>\n",
       "      <td>1.1897</td>\n",
       "    </tr>\n",
       "  </tbody>\n",
       "</table>\n",
       "<p>135478 rows × 4 columns</p>\n",
       "</div>"
      ],
      "text/plain": [
       "        Coef1_Amat  Coef2_Amat  Coef3_Amat  Coef4_Amat\n",
       "1156        2.8091      0.6440      0.0568      0.0883\n",
       "1157        0.5615      0.0590     -0.1274     -2.1603\n",
       "1158        1.5040      0.7844      0.0209      0.0267\n",
       "1159       12.5930      0.3185     -0.0251     -0.0787\n",
       "1160        0.1924     -0.6964     -0.8234      1.1824\n",
       "...            ...         ...         ...         ...\n",
       "675939      9.4479      0.9574     -0.1649     -0.1722\n",
       "675940      0.1321     -1.7025     -1.6097      0.9455\n",
       "675941      1.0615      0.4367      0.0117      0.0269\n",
       "675942      3.6889      0.7320      0.0025      0.0034\n",
       "675943      0.9633     -0.0349     -0.0416      1.1897\n",
       "\n",
       "[135478 rows x 4 columns]"
      ]
     },
     "execution_count": 54,
     "metadata": {},
     "output_type": "execute_result"
    }
   ],
   "source": [
    "X_test_SMOTE_Amat=X_test_SMOTE.drop(columns=[\"Coef1_Springate\",\"Coef2_Springate\",\"Coef3_Springate\",\"Coef4_Springate\"])\n",
    "X_test_SMOTE_Amat"
   ]
  },
  {
   "cell_type": "markdown",
   "id": "aa06af04",
   "metadata": {},
   "source": [
    "K Nearest Neighbours"
   ]
  },
  {
   "cell_type": "code",
   "execution_count": 55,
   "id": "89b38e59",
   "metadata": {},
   "outputs": [
    {
     "name": "stderr",
     "output_type": "stream",
     "text": [
      "C:\\Users\\inima\\anaconda3\\envs\\lamda_ssl\\lib\\site-packages\\sklearn\\neighbors\\_classification.py:198: DataConversionWarning: A column-vector y was passed when a 1d array was expected. Please change the shape of y to (n_samples,), for example using ravel().\n",
      "  return self._fit(X, y)\n"
     ]
    }
   ],
   "source": [
    "knn = KNeighborsClassifier()\n",
    "knn.fit(X_train_SMOTE_Amat, Y_train_SMOTE)\n",
    "y_pred = knn.predict(X_test_SMOTE_Amat)"
   ]
  },
  {
   "cell_type": "code",
   "execution_count": 56,
   "id": "8e30999e",
   "metadata": {},
   "outputs": [
    {
     "name": "stdout",
     "output_type": "stream",
     "text": [
      "Accuracy: 0.8507506753864096\n",
      "F1 score: 0.010666405714844895\n",
      "Kappa: 0.00648764564948856\n",
      "Confusion matrix:\n"
     ]
    },
    {
     "data": {
      "text/plain": [
       "array([[   109,    180],\n",
       "       [ 20040, 115149]], dtype=int64)"
      ]
     },
     "execution_count": 56,
     "metadata": {},
     "output_type": "execute_result"
    }
   ],
   "source": [
    "print(\"Accuracy: \"+str(accuracy_score(Y_test_SMOTE, y_pred)))\n",
    "print(\"F1 score: \"+str(f1_score(Y_test_SMOTE, y_pred)))\n",
    "print(\"Kappa: \"+str(cohen_kappa_score(Y_test_SMOTE, y_pred)))\n",
    "print(\"Confusion matrix:\")\n",
    "confusion_matrix(Y_test_SMOTE, y_pred)"
   ]
  },
  {
   "cell_type": "markdown",
   "id": "05b4a504",
   "metadata": {},
   "source": [
    "Random Forest"
   ]
  },
  {
   "cell_type": "code",
   "execution_count": 57,
   "id": "e088619f",
   "metadata": {},
   "outputs": [
    {
     "name": "stderr",
     "output_type": "stream",
     "text": [
      "C:\\Users\\inima\\anaconda3\\envs\\lamda_ssl\\lib\\site-packages\\ipykernel_launcher.py:2: DataConversionWarning: A column-vector y was passed when a 1d array was expected. Please change the shape of y to (n_samples,), for example using ravel().\n",
      "  \n"
     ]
    }
   ],
   "source": [
    "rf = RandomForestClassifier()\n",
    "rf.fit(X_train_SMOTE_Amat, Y_train_SMOTE)\n",
    "y_pred = rf.predict(X_test_SMOTE_Amat)"
   ]
  },
  {
   "cell_type": "code",
   "execution_count": 58,
   "id": "11f33a1c",
   "metadata": {},
   "outputs": [
    {
     "name": "stdout",
     "output_type": "stream",
     "text": [
      "Accuracy: 0.9303576964525606\n",
      "F1 score: 0.013178537809852526\n",
      "Kappa: 0.009078684322106345\n",
      "Confusion matrix:\n"
     ]
    },
    {
     "data": {
      "text/plain": [
       "array([[    63,    226],\n",
       "       [  9209, 125980]], dtype=int64)"
      ]
     },
     "execution_count": 58,
     "metadata": {},
     "output_type": "execute_result"
    }
   ],
   "source": [
    "print(\"Accuracy: \"+str(accuracy_score(Y_test_SMOTE, y_pred)))\n",
    "print(\"F1 score: \"+str(f1_score(Y_test_SMOTE, y_pred)))\n",
    "print(\"Kappa: \"+str(cohen_kappa_score(Y_test_SMOTE, y_pred)))\n",
    "print(\"Confusion matrix:\")\n",
    "confusion_matrix(Y_test_SMOTE, y_pred)"
   ]
  },
  {
   "cell_type": "markdown",
   "id": "d1f68263",
   "metadata": {},
   "source": [
    "Decision Forest"
   ]
  },
  {
   "cell_type": "code",
   "execution_count": 59,
   "id": "d10712f4",
   "metadata": {},
   "outputs": [],
   "source": [
    "clf = tree.DecisionTreeClassifier()\n",
    "clf.fit(X_train_SMOTE_Amat, Y_train_SMOTE)\n",
    "y_pred = clf.predict(X_test_SMOTE_Amat)"
   ]
  },
  {
   "cell_type": "code",
   "execution_count": 60,
   "id": "a0c893b6",
   "metadata": {},
   "outputs": [
    {
     "name": "stdout",
     "output_type": "stream",
     "text": [
      "Accuracy: 0.9261282274612852\n",
      "F1 score: 0.011067193675889327\n",
      "Kappa: 0.006951465155976555\n",
      "Confusion matrix:\n"
     ]
    },
    {
     "data": {
      "text/plain": [
       "array([[    56,    233],\n",
       "       [  9775, 125414]], dtype=int64)"
      ]
     },
     "execution_count": 60,
     "metadata": {},
     "output_type": "execute_result"
    }
   ],
   "source": [
    "print(\"Accuracy: \"+str(accuracy_score(Y_test_SMOTE, y_pred)))\n",
    "print(\"F1 score: \"+str(f1_score(Y_test_SMOTE, y_pred)))\n",
    "print(\"Kappa: \"+str(cohen_kappa_score(Y_test_SMOTE, y_pred)))\n",
    "print(\"Confusion matrix:\")\n",
    "confusion_matrix(Y_test_SMOTE, y_pred)"
   ]
  },
  {
   "cell_type": "markdown",
   "id": "ac0f4ff1",
   "metadata": {},
   "source": [
    "Naive Bayes"
   ]
  },
  {
   "cell_type": "code",
   "execution_count": 61,
   "id": "c49e579b",
   "metadata": {},
   "outputs": [
    {
     "name": "stderr",
     "output_type": "stream",
     "text": [
      "C:\\Users\\inima\\anaconda3\\envs\\lamda_ssl\\lib\\site-packages\\sklearn\\utils\\validation.py:993: DataConversionWarning: A column-vector y was passed when a 1d array was expected. Please change the shape of y to (n_samples, ), for example using ravel().\n",
      "  y = column_or_1d(y, warn=True)\n"
     ]
    }
   ],
   "source": [
    "gnb = GaussianNB()\n",
    "gnb.fit(X_train_SMOTE_Amat, Y_train_SMOTE)\n",
    "y_pred = gnb.predict(X_test_SMOTE_Amat)"
   ]
  },
  {
   "cell_type": "code",
   "execution_count": 62,
   "id": "a309cdc8",
   "metadata": {},
   "outputs": [
    {
     "name": "stdout",
     "output_type": "stream",
     "text": [
      "Accuracy: 0.035607257266862515\n",
      "F1 score: 0.004298190796994315\n",
      "Kappa: 4.138807585152282e-05\n",
      "Confusion matrix:\n"
     ]
    },
    {
     "data": {
      "text/plain": [
       "array([[   282,      7],\n",
       "       [130647,   4542]], dtype=int64)"
      ]
     },
     "execution_count": 62,
     "metadata": {},
     "output_type": "execute_result"
    }
   ],
   "source": [
    "print(\"Accuracy: \"+str(accuracy_score(Y_test_SMOTE, y_pred)))\n",
    "print(\"F1 score: \"+str(f1_score(Y_test_SMOTE, y_pred)))\n",
    "print(\"Kappa: \"+str(cohen_kappa_score(Y_test_SMOTE, y_pred)))\n",
    "print(\"Confusion matrix:\")\n",
    "confusion_matrix(Y_test_SMOTE, y_pred)"
   ]
  },
  {
   "cell_type": "markdown",
   "id": "ceb4bf80",
   "metadata": {},
   "source": [
    "Multi-layer Perceptron Classifier Neural newtork"
   ]
  },
  {
   "cell_type": "code",
   "execution_count": 63,
   "id": "2a81c8ab",
   "metadata": {},
   "outputs": [
    {
     "name": "stderr",
     "output_type": "stream",
     "text": [
      "C:\\Users\\inima\\anaconda3\\envs\\lamda_ssl\\lib\\site-packages\\sklearn\\neural_network\\_multilayer_perceptron.py:1109: DataConversionWarning: A column-vector y was passed when a 1d array was expected. Please change the shape of y to (n_samples, ), for example using ravel().\n",
      "  y = column_or_1d(y, warn=True)\n"
     ]
    }
   ],
   "source": [
    "mlp = MLPClassifier()\n",
    "mlp.fit(X_train_SMOTE_Amat, Y_train_SMOTE)\n",
    "y_pred = mlp.predict(X_test_SMOTE_Amat)"
   ]
  },
  {
   "cell_type": "code",
   "execution_count": 64,
   "id": "66979c66",
   "metadata": {},
   "outputs": [
    {
     "name": "stdout",
     "output_type": "stream",
     "text": [
      "Accuracy: 0.6209495268604497\n",
      "F1 score: 0.00811233654607614\n",
      "Kappa: 0.003886264066659928\n",
      "Confusion matrix:\n"
     ]
    },
    {
     "data": {
      "text/plain": [
       "array([[  210,    79],\n",
       "       [51274, 83915]], dtype=int64)"
      ]
     },
     "execution_count": 64,
     "metadata": {},
     "output_type": "execute_result"
    }
   ],
   "source": [
    "print(\"Accuracy: \"+str(accuracy_score(Y_test_SMOTE, y_pred)))\n",
    "print(\"F1 score: \"+str(f1_score(Y_test_SMOTE, y_pred)))\n",
    "print(\"Kappa: \"+str(cohen_kappa_score(Y_test_SMOTE, y_pred)))\n",
    "print(\"Confusion matrix:\")\n",
    "confusion_matrix(Y_test_SMOTE, y_pred)"
   ]
  },
  {
   "cell_type": "markdown",
   "id": "0cc73971",
   "metadata": {},
   "source": [
    "Linear Discriminant Analysis"
   ]
  },
  {
   "cell_type": "code",
   "execution_count": 65,
   "id": "fdfd5bc5",
   "metadata": {},
   "outputs": [
    {
     "name": "stderr",
     "output_type": "stream",
     "text": [
      "C:\\Users\\inima\\anaconda3\\envs\\lamda_ssl\\lib\\site-packages\\sklearn\\utils\\validation.py:993: DataConversionWarning: A column-vector y was passed when a 1d array was expected. Please change the shape of y to (n_samples, ), for example using ravel().\n",
      "  y = column_or_1d(y, warn=True)\n"
     ]
    }
   ],
   "source": [
    "lda = LinearDiscriminantAnalysis()\n",
    "lda.fit(X_train_SMOTE_Amat, Y_train_SMOTE)\n",
    "y_pred = lda.predict(X_test_SMOTE_Amat)"
   ]
  },
  {
   "cell_type": "code",
   "execution_count": 66,
   "id": "2672bf14",
   "metadata": {},
   "outputs": [
    {
     "name": "stdout",
     "output_type": "stream",
     "text": [
      "Accuracy: 0.4761068217718006\n",
      "F1 score: 0.00493494840735756\n",
      "Kappa: 0.0006887858610012954\n",
      "Confusion matrix:\n"
     ]
    },
    {
     "data": {
      "text/plain": [
       "array([[  176,   113],\n",
       "       [70863, 64326]], dtype=int64)"
      ]
     },
     "execution_count": 66,
     "metadata": {},
     "output_type": "execute_result"
    }
   ],
   "source": [
    "print(\"Accuracy: \"+str(accuracy_score(Y_test_SMOTE, y_pred)))\n",
    "print(\"F1 score: \"+str(f1_score(Y_test_SMOTE, y_pred)))\n",
    "print(\"Kappa: \"+str(cohen_kappa_score(Y_test_SMOTE, y_pred)))\n",
    "print(\"Confusion matrix:\")\n",
    "confusion_matrix(Y_test_SMOTE, y_pred)"
   ]
  },
  {
   "cell_type": "markdown",
   "id": "3b94d8e7",
   "metadata": {},
   "source": [
    "### 4.4) Estudio con todo"
   ]
  },
  {
   "cell_type": "markdown",
   "id": "63c1c47d",
   "metadata": {},
   "source": [
    "K Nearest Neighbours"
   ]
  },
  {
   "cell_type": "code",
   "execution_count": 67,
   "id": "427aa4ef",
   "metadata": {},
   "outputs": [
    {
     "name": "stderr",
     "output_type": "stream",
     "text": [
      "C:\\Users\\inima\\anaconda3\\envs\\lamda_ssl\\lib\\site-packages\\sklearn\\neighbors\\_classification.py:198: DataConversionWarning: A column-vector y was passed when a 1d array was expected. Please change the shape of y to (n_samples,), for example using ravel().\n",
      "  return self._fit(X, y)\n"
     ]
    }
   ],
   "source": [
    "knn = KNeighborsClassifier()\n",
    "knn.fit(X_train_SMOTE, Y_train_SMOTE)\n",
    "y_pred = knn.predict(X_test_SMOTE)"
   ]
  },
  {
   "cell_type": "code",
   "execution_count": 68,
   "id": "efd9aa4b",
   "metadata": {},
   "outputs": [
    {
     "name": "stdout",
     "output_type": "stream",
     "text": [
      "Accuracy: 0.9308743855090863\n",
      "F1 score: 0.013067762672568236\n",
      "Kappa: 0.008968422721866931\n",
      "Confusion matrix:\n"
     ]
    },
    {
     "data": {
      "text/plain": [
       "array([[    62,    227],\n",
       "       [  9138, 126051]], dtype=int64)"
      ]
     },
     "execution_count": 68,
     "metadata": {},
     "output_type": "execute_result"
    }
   ],
   "source": [
    "print(\"Accuracy: \"+str(accuracy_score(Y_test_SMOTE, y_pred)))\n",
    "print(\"F1 score: \"+str(f1_score(Y_test_SMOTE, y_pred)))\n",
    "print(\"Kappa: \"+str(cohen_kappa_score(Y_test_SMOTE, y_pred)))\n",
    "print(\"Confusion matrix:\")\n",
    "confusion_matrix(Y_test_SMOTE, y_pred)\n"
   ]
  },
  {
   "cell_type": "markdown",
   "id": "9f76a86d",
   "metadata": {},
   "source": [
    "Random Forest"
   ]
  },
  {
   "cell_type": "code",
   "execution_count": 69,
   "id": "96c3126a",
   "metadata": {},
   "outputs": [
    {
     "name": "stderr",
     "output_type": "stream",
     "text": [
      "C:\\Users\\inima\\anaconda3\\envs\\lamda_ssl\\lib\\site-packages\\ipykernel_launcher.py:2: DataConversionWarning: A column-vector y was passed when a 1d array was expected. Please change the shape of y to (n_samples,), for example using ravel().\n",
      "  \n"
     ]
    }
   ],
   "source": [
    "rf = RandomForestClassifier()\n",
    "rf.fit(X_train_SMOTE, Y_train_SMOTE)\n",
    "y_pred = rf.predict(X_test_SMOTE)"
   ]
  },
  {
   "cell_type": "code",
   "execution_count": 70,
   "id": "f72b75ef",
   "metadata": {},
   "outputs": [
    {
     "name": "stdout",
     "output_type": "stream",
     "text": [
      "Accuracy: 0.9850603049941687\n",
      "F1 score: 0.02598652550529355\n",
      "Kappa: 0.022395760904084794\n",
      "Confusion matrix:\n"
     ]
    },
    {
     "data": {
      "text/plain": [
       "array([[    27,    262],\n",
       "       [  1762, 133427]], dtype=int64)"
      ]
     },
     "execution_count": 70,
     "metadata": {},
     "output_type": "execute_result"
    }
   ],
   "source": [
    "print(\"Accuracy: \"+str(accuracy_score(Y_test_SMOTE, y_pred)))\n",
    "print(\"F1 score: \"+str(f1_score(Y_test_SMOTE, y_pred)))\n",
    "print(\"Kappa: \"+str(cohen_kappa_score(Y_test_SMOTE, y_pred)))\n",
    "print(\"Confusion matrix:\")\n",
    "confusion_matrix(Y_test_SMOTE, y_pred)\n"
   ]
  },
  {
   "cell_type": "markdown",
   "id": "66641bcf",
   "metadata": {},
   "source": [
    "Decision Forest"
   ]
  },
  {
   "cell_type": "code",
   "execution_count": 71,
   "id": "8abd7502",
   "metadata": {},
   "outputs": [],
   "source": [
    "clf = tree.DecisionTreeClassifier()\n",
    "clf.fit(X_train_SMOTE, Y_train_SMOTE)\n",
    "y_pred = clf.predict(X_test_SMOTE)"
   ]
  },
  {
   "cell_type": "code",
   "execution_count": 72,
   "id": "3c02c849",
   "metadata": {},
   "outputs": [
    {
     "name": "stdout",
     "output_type": "stream",
     "text": [
      "Accuracy: 0.9657066091911601\n",
      "F1 score: 0.01316907391673747\n",
      "Kappa: 0.009201436498864068\n",
      "Confusion matrix:\n"
     ]
    },
    {
     "data": {
      "text/plain": [
       "array([[    31,    258],\n",
       "       [  4388, 130801]], dtype=int64)"
      ]
     },
     "execution_count": 72,
     "metadata": {},
     "output_type": "execute_result"
    }
   ],
   "source": [
    "print(\"Accuracy: \"+str(accuracy_score(Y_test_SMOTE, y_pred)))\n",
    "print(\"F1 score: \"+str(f1_score(Y_test_SMOTE, y_pred)))\n",
    "print(\"Kappa: \"+str(cohen_kappa_score(Y_test_SMOTE, y_pred)))\n",
    "print(\"Confusion matrix:\")\n",
    "confusion_matrix(Y_test_SMOTE, y_pred)"
   ]
  },
  {
   "cell_type": "markdown",
   "id": "18e7e8f2",
   "metadata": {},
   "source": [
    "Naive Bayes"
   ]
  },
  {
   "cell_type": "code",
   "execution_count": 73,
   "id": "9f9707d2",
   "metadata": {},
   "outputs": [
    {
     "name": "stderr",
     "output_type": "stream",
     "text": [
      "C:\\Users\\inima\\anaconda3\\envs\\lamda_ssl\\lib\\site-packages\\sklearn\\utils\\validation.py:993: DataConversionWarning: A column-vector y was passed when a 1d array was expected. Please change the shape of y to (n_samples, ), for example using ravel().\n",
      "  y = column_or_1d(y, warn=True)\n"
     ]
    }
   ],
   "source": [
    "gnb = GaussianNB()\n",
    "gnb.fit(X_train_SMOTE, Y_train_SMOTE)\n",
    "y_pred = gnb.predict(X_test_SMOTE)"
   ]
  },
  {
   "cell_type": "code",
   "execution_count": 74,
   "id": "0ab838a8",
   "metadata": {},
   "outputs": [
    {
     "name": "stdout",
     "output_type": "stream",
     "text": [
      "Accuracy: 0.030831574130117067\n",
      "F1 score: 0.004246896352977756\n",
      "Kappa: -1.0171677732762063e-05\n",
      "Confusion matrix:\n"
     ]
    },
    {
     "data": {
      "text/plain": [
       "array([[   280,      9],\n",
       "       [131292,   3897]], dtype=int64)"
      ]
     },
     "execution_count": 74,
     "metadata": {},
     "output_type": "execute_result"
    }
   ],
   "source": [
    "print(\"Accuracy: \"+str(accuracy_score(Y_test_SMOTE, y_pred)))\n",
    "print(\"F1 score: \"+str(f1_score(Y_test_SMOTE, y_pred)))\n",
    "print(\"Kappa: \"+str(cohen_kappa_score(Y_test_SMOTE, y_pred)))\n",
    "print(\"Confusion matrix:\")\n",
    "confusion_matrix(Y_test_SMOTE, y_pred)"
   ]
  },
  {
   "cell_type": "markdown",
   "id": "92013898",
   "metadata": {},
   "source": [
    "Multi-layer Perceptron Classifier Neural newtork"
   ]
  },
  {
   "cell_type": "code",
   "execution_count": 75,
   "id": "df68c3e6",
   "metadata": {},
   "outputs": [
    {
     "name": "stderr",
     "output_type": "stream",
     "text": [
      "C:\\Users\\inima\\anaconda3\\envs\\lamda_ssl\\lib\\site-packages\\sklearn\\neural_network\\_multilayer_perceptron.py:1109: DataConversionWarning: A column-vector y was passed when a 1d array was expected. Please change the shape of y to (n_samples, ), for example using ravel().\n",
      "  y = column_or_1d(y, warn=True)\n"
     ]
    }
   ],
   "source": [
    "mlp = MLPClassifier()\n",
    "mlp.fit(X_train_SMOTE, Y_train_SMOTE)\n",
    "y_pred = mlp.predict(X_test_SMOTE)"
   ]
  },
  {
   "cell_type": "code",
   "execution_count": 76,
   "id": "f6bad622",
   "metadata": {},
   "outputs": [
    {
     "name": "stdout",
     "output_type": "stream",
     "text": [
      "Accuracy: 0.77091483488094\n",
      "F1 score: 0.010142246603304204\n",
      "Kappa: 0.005940305792212941\n",
      "Confusion matrix:\n"
     ]
    },
    {
     "data": {
      "text/plain": [
       "array([[   159,    130],\n",
       "       [ 30906, 104283]], dtype=int64)"
      ]
     },
     "execution_count": 76,
     "metadata": {},
     "output_type": "execute_result"
    }
   ],
   "source": [
    "print(\"Accuracy: \"+str(accuracy_score(Y_test_SMOTE, y_pred)))\n",
    "print(\"F1 score: \"+str(f1_score(Y_test_SMOTE, y_pred)))\n",
    "print(\"Kappa: \"+str(cohen_kappa_score(Y_test_SMOTE, y_pred)))\n",
    "print(\"Confusion matrix:\")\n",
    "confusion_matrix(Y_test_SMOTE, y_pred)"
   ]
  },
  {
   "cell_type": "markdown",
   "id": "ed00ca53",
   "metadata": {},
   "source": [
    "Linear Discriminant Analysis"
   ]
  },
  {
   "cell_type": "code",
   "execution_count": 77,
   "id": "5ba76ca2",
   "metadata": {},
   "outputs": [
    {
     "name": "stderr",
     "output_type": "stream",
     "text": [
      "C:\\Users\\inima\\anaconda3\\envs\\lamda_ssl\\lib\\site-packages\\sklearn\\utils\\validation.py:993: DataConversionWarning: A column-vector y was passed when a 1d array was expected. Please change the shape of y to (n_samples, ), for example using ravel().\n",
      "  y = column_or_1d(y, warn=True)\n"
     ]
    }
   ],
   "source": [
    "lda = LinearDiscriminantAnalysis()\n",
    "lda.fit(X_train_SMOTE, Y_train_SMOTE)\n",
    "y_pred = lda.predict(X_test_SMOTE)"
   ]
  },
  {
   "cell_type": "code",
   "execution_count": 78,
   "id": "156a0c90",
   "metadata": {},
   "outputs": [
    {
     "name": "stdout",
     "output_type": "stream",
     "text": [
      "Accuracy: 0.7022690030853718\n",
      "F1 score: 0.005669772716067643\n",
      "Kappa: 0.0014398911952022697\n",
      "Confusion matrix:\n"
     ]
    },
    {
     "data": {
      "text/plain": [
       "array([[  115,   174],\n",
       "       [40162, 95027]], dtype=int64)"
      ]
     },
     "execution_count": 78,
     "metadata": {},
     "output_type": "execute_result"
    }
   ],
   "source": [
    "print(\"Accuracy: \"+str(accuracy_score(Y_test_SMOTE, y_pred)))\n",
    "print(\"F1 score: \"+str(f1_score(Y_test_SMOTE, y_pred)))\n",
    "print(\"Kappa: \"+str(cohen_kappa_score(Y_test_SMOTE, y_pred)))\n",
    "print(\"Confusion matrix:\")\n",
    "confusion_matrix(Y_test_SMOTE, y_pred)"
   ]
  }
 ],
 "metadata": {
  "kernelspec": {
   "display_name": "Python [conda env:lamda_ssl]",
   "language": "python",
   "name": "conda-env-lamda_ssl-py"
  },
  "language_info": {
   "codemirror_mode": {
    "name": "ipython",
    "version": 3
   },
   "file_extension": ".py",
   "mimetype": "text/x-python",
   "name": "python",
   "nbconvert_exporter": "python",
   "pygments_lexer": "ipython3",
   "version": "3.7.13"
  }
 },
 "nbformat": 4,
 "nbformat_minor": 5
}
