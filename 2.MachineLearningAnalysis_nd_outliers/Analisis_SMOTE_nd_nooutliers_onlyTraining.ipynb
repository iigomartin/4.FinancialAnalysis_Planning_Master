{
 "cells": [
  {
   "cell_type": "markdown",
   "id": "4adc6f5a",
   "metadata": {},
   "source": [
    "Iñigo Martin Melero"
   ]
  },
  {
   "cell_type": "markdown",
   "id": "979dd326",
   "metadata": {},
   "source": [
    "## Analisis SMOTE"
   ]
  },
  {
   "cell_type": "markdown",
   "id": "cdf71be4",
   "metadata": {},
   "source": [
    "### 0) Librerias"
   ]
  },
  {
   "cell_type": "code",
   "execution_count": 1,
   "id": "ff7786a8",
   "metadata": {},
   "outputs": [],
   "source": [
    "import pandas as pd\n",
    "import numpy as np\n",
    "import matplotlib.pyplot as plt\n",
    "from imblearn.over_sampling import SMOTE\n",
    "from collections import Counter\n",
    "\n",
    "from sklearn.metrics import accuracy_score\n",
    "from sklearn.metrics import f1_score\n",
    "from sklearn.metrics import cohen_kappa_score\n",
    "from sklearn.metrics import confusion_matrix\n",
    "from sklearn.metrics import precision_score\n",
    "from sklearn.metrics import recall_score\n",
    "\n",
    "from sklearn.model_selection import cross_val_predict\n",
    "from sklearn.model_selection import GridSearchCV\n",
    "from sklearn.neighbors import KNeighborsClassifier\n",
    "from sklearn.ensemble import RandomForestClassifier\n",
    "from sklearn import tree\n",
    "from sklearn.naive_bayes import GaussianNB\n",
    "from sklearn.neural_network import MLPClassifier\n",
    "from sklearn.svm import SVC\n",
    "from sklearn.discriminant_analysis import LinearDiscriminantAnalysis\n",
    "from sklearn.ensemble import GradientBoostingClassifier\n",
    "\n",
    "np.random.seed(51)"
   ]
  },
  {
   "cell_type": "markdown",
   "id": "eba8559c",
   "metadata": {},
   "source": [
    "### 1) Preprocesamiento"
   ]
  },
  {
   "cell_type": "code",
   "execution_count": 2,
   "id": "11e12fb9",
   "metadata": {},
   "outputs": [
    {
     "name": "stdout",
     "output_type": "stream",
     "text": [
      "       ID  Coef1_Springate  Coef2_Springate  Coef3_Springate  Coef4_Springate  \\\n",
      "0       2           0.6894           0.1641           0.3116           2.8739   \n",
      "1       4          -0.0034           0.0296          -0.2114           0.6265   \n",
      "2       5           0.2916           0.0341           0.0534           0.3098   \n",
      "3       6           0.3450          -0.1234          -0.1481           0.4249   \n",
      "4       7           0.0593          -0.3758          -0.7022           0.0811   \n",
      "..    ...              ...              ...              ...              ...   \n",
      "837  1493          -0.3422          -0.1538          -0.2613           0.0100   \n",
      "838  1496           0.0247          -0.1097          -0.0973           0.1505   \n",
      "839  1497          -0.0206          -0.0668          -0.0340           0.0016   \n",
      "840  1499           0.0964          -0.2809          -0.3393           0.0100   \n",
      "841  1502          -0.0555          -0.3837          -0.3051           0.0354   \n",
      "\n",
      "     Coef1_Amat  Coef2_Amat  Coef3_Amat  Coef4_Amat  Resultado  \n",
      "0        1.7204      0.4234      0.1196      0.2824          1  \n",
      "1        0.4756      0.2109     -0.1652     -0.7833          1  \n",
      "2        0.9662      0.3709      0.0299      0.0807          1  \n",
      "3        0.7613     -0.3175     -0.1566      0.4933          1  \n",
      "4        0.1077     -0.2699     -0.3977      1.4737          1  \n",
      "..          ...         ...         ...         ...        ...  \n",
      "837      0.1495     -0.2978     -0.1422      0.4773          1  \n",
      "838      0.0879     -0.1280     -0.0823      0.6432          1  \n",
      "839      0.2716     -1.1209     -0.0501      0.0447          1  \n",
      "840      0.5816     -0.1982     -0.2204      1.1124          1  \n",
      "841      0.7084     -0.2591     -0.3842      1.4825          1  \n",
      "\n",
      "[842 rows x 10 columns]\n"
     ]
    }
   ],
   "source": [
    "df1=pd.read_csv('Bancarrota_total_nd_nooutliers.csv',encoding = 'unicode_escape')\n",
    "print(df1)"
   ]
  },
  {
   "cell_type": "code",
   "execution_count": 3,
   "id": "71ed6eec",
   "metadata": {},
   "outputs": [
    {
     "data": {
      "text/plain": [
       "ID                   int64\n",
       "Coef1_Springate    float64\n",
       "Coef2_Springate    float64\n",
       "Coef3_Springate    float64\n",
       "Coef4_Springate    float64\n",
       "Coef1_Amat         float64\n",
       "Coef2_Amat         float64\n",
       "Coef3_Amat         float64\n",
       "Coef4_Amat         float64\n",
       "Resultado            int64\n",
       "dtype: object"
      ]
     },
     "execution_count": 3,
     "metadata": {},
     "output_type": "execute_result"
    }
   ],
   "source": [
    "df1.dtypes"
   ]
  },
  {
   "cell_type": "code",
   "execution_count": 4,
   "id": "f22dfe7e",
   "metadata": {},
   "outputs": [],
   "source": [
    "porcentaje_train=0.8"
   ]
  },
  {
   "cell_type": "code",
   "execution_count": 5,
   "id": "cbf72d53",
   "metadata": {},
   "outputs": [
    {
     "data": {
      "text/plain": [
       "674"
      ]
     },
     "execution_count": 5,
     "metadata": {},
     "output_type": "execute_result"
    }
   ],
   "source": [
    "limitedf1=round(porcentaje_train*len(df1))\n",
    "limitedf1"
   ]
  },
  {
   "cell_type": "code",
   "execution_count": 6,
   "id": "322d24fe",
   "metadata": {},
   "outputs": [
    {
     "data": {
      "text/html": [
       "<div>\n",
       "<style scoped>\n",
       "    .dataframe tbody tr th:only-of-type {\n",
       "        vertical-align: middle;\n",
       "    }\n",
       "\n",
       "    .dataframe tbody tr th {\n",
       "        vertical-align: top;\n",
       "    }\n",
       "\n",
       "    .dataframe thead th {\n",
       "        text-align: right;\n",
       "    }\n",
       "</style>\n",
       "<table border=\"1\" class=\"dataframe\">\n",
       "  <thead>\n",
       "    <tr style=\"text-align: right;\">\n",
       "      <th></th>\n",
       "      <th>ID</th>\n",
       "      <th>Coef1_Springate</th>\n",
       "      <th>Coef2_Springate</th>\n",
       "      <th>Coef3_Springate</th>\n",
       "      <th>Coef4_Springate</th>\n",
       "      <th>Coef1_Amat</th>\n",
       "      <th>Coef2_Amat</th>\n",
       "      <th>Coef3_Amat</th>\n",
       "      <th>Coef4_Amat</th>\n",
       "      <th>Resultado</th>\n",
       "    </tr>\n",
       "  </thead>\n",
       "  <tbody>\n",
       "    <tr>\n",
       "      <th>0</th>\n",
       "      <td>2</td>\n",
       "      <td>0.6894</td>\n",
       "      <td>0.1641</td>\n",
       "      <td>0.3116</td>\n",
       "      <td>2.8739</td>\n",
       "      <td>1.7204</td>\n",
       "      <td>0.4234</td>\n",
       "      <td>0.1196</td>\n",
       "      <td>0.2824</td>\n",
       "      <td>1</td>\n",
       "    </tr>\n",
       "    <tr>\n",
       "      <th>1</th>\n",
       "      <td>4</td>\n",
       "      <td>-0.0034</td>\n",
       "      <td>0.0296</td>\n",
       "      <td>-0.2114</td>\n",
       "      <td>0.6265</td>\n",
       "      <td>0.4756</td>\n",
       "      <td>0.2109</td>\n",
       "      <td>-0.1652</td>\n",
       "      <td>-0.7833</td>\n",
       "      <td>1</td>\n",
       "    </tr>\n",
       "    <tr>\n",
       "      <th>2</th>\n",
       "      <td>5</td>\n",
       "      <td>0.2916</td>\n",
       "      <td>0.0341</td>\n",
       "      <td>0.0534</td>\n",
       "      <td>0.3098</td>\n",
       "      <td>0.9662</td>\n",
       "      <td>0.3709</td>\n",
       "      <td>0.0299</td>\n",
       "      <td>0.0807</td>\n",
       "      <td>1</td>\n",
       "    </tr>\n",
       "    <tr>\n",
       "      <th>3</th>\n",
       "      <td>6</td>\n",
       "      <td>0.3450</td>\n",
       "      <td>-0.1234</td>\n",
       "      <td>-0.1481</td>\n",
       "      <td>0.4249</td>\n",
       "      <td>0.7613</td>\n",
       "      <td>-0.3175</td>\n",
       "      <td>-0.1566</td>\n",
       "      <td>0.4933</td>\n",
       "      <td>1</td>\n",
       "    </tr>\n",
       "    <tr>\n",
       "      <th>4</th>\n",
       "      <td>7</td>\n",
       "      <td>0.0593</td>\n",
       "      <td>-0.3758</td>\n",
       "      <td>-0.7022</td>\n",
       "      <td>0.0811</td>\n",
       "      <td>0.1077</td>\n",
       "      <td>-0.2699</td>\n",
       "      <td>-0.3977</td>\n",
       "      <td>1.4737</td>\n",
       "      <td>1</td>\n",
       "    </tr>\n",
       "    <tr>\n",
       "      <th>...</th>\n",
       "      <td>...</td>\n",
       "      <td>...</td>\n",
       "      <td>...</td>\n",
       "      <td>...</td>\n",
       "      <td>...</td>\n",
       "      <td>...</td>\n",
       "      <td>...</td>\n",
       "      <td>...</td>\n",
       "      <td>...</td>\n",
       "      <td>...</td>\n",
       "    </tr>\n",
       "    <tr>\n",
       "      <th>669</th>\n",
       "      <td>1071</td>\n",
       "      <td>-0.0003</td>\n",
       "      <td>-0.0624</td>\n",
       "      <td>-0.1357</td>\n",
       "      <td>0.0415</td>\n",
       "      <td>0.0003</td>\n",
       "      <td>0.2014</td>\n",
       "      <td>-0.0634</td>\n",
       "      <td>-0.3148</td>\n",
       "      <td>1</td>\n",
       "    </tr>\n",
       "    <tr>\n",
       "      <th>670</th>\n",
       "      <td>1072</td>\n",
       "      <td>0.4101</td>\n",
       "      <td>-0.2810</td>\n",
       "      <td>-0.8405</td>\n",
       "      <td>0.4119</td>\n",
       "      <td>1.5439</td>\n",
       "      <td>0.3125</td>\n",
       "      <td>-0.2256</td>\n",
       "      <td>-0.7217</td>\n",
       "      <td>1</td>\n",
       "    </tr>\n",
       "    <tr>\n",
       "      <th>671</th>\n",
       "      <td>1073</td>\n",
       "      <td>-0.4541</td>\n",
       "      <td>-0.0913</td>\n",
       "      <td>-0.1203</td>\n",
       "      <td>0.1065</td>\n",
       "      <td>0.9844</td>\n",
       "      <td>0.0554</td>\n",
       "      <td>-0.0718</td>\n",
       "      <td>-1.2955</td>\n",
       "      <td>1</td>\n",
       "    </tr>\n",
       "    <tr>\n",
       "      <th>672</th>\n",
       "      <td>1074</td>\n",
       "      <td>-0.0797</td>\n",
       "      <td>0.1413</td>\n",
       "      <td>0.6807</td>\n",
       "      <td>0.8580</td>\n",
       "      <td>3.5118</td>\n",
       "      <td>-1.1137</td>\n",
       "      <td>0.0854</td>\n",
       "      <td>-0.0767</td>\n",
       "      <td>1</td>\n",
       "    </tr>\n",
       "    <tr>\n",
       "      <th>673</th>\n",
       "      <td>1075</td>\n",
       "      <td>0.3346</td>\n",
       "      <td>-0.0854</td>\n",
       "      <td>-0.1359</td>\n",
       "      <td>1.3399</td>\n",
       "      <td>1.1207</td>\n",
       "      <td>0.0836</td>\n",
       "      <td>-0.0701</td>\n",
       "      <td>-0.8382</td>\n",
       "      <td>1</td>\n",
       "    </tr>\n",
       "  </tbody>\n",
       "</table>\n",
       "<p>674 rows × 10 columns</p>\n",
       "</div>"
      ],
      "text/plain": [
       "       ID  Coef1_Springate  Coef2_Springate  Coef3_Springate  Coef4_Springate  \\\n",
       "0       2           0.6894           0.1641           0.3116           2.8739   \n",
       "1       4          -0.0034           0.0296          -0.2114           0.6265   \n",
       "2       5           0.2916           0.0341           0.0534           0.3098   \n",
       "3       6           0.3450          -0.1234          -0.1481           0.4249   \n",
       "4       7           0.0593          -0.3758          -0.7022           0.0811   \n",
       "..    ...              ...              ...              ...              ...   \n",
       "669  1071          -0.0003          -0.0624          -0.1357           0.0415   \n",
       "670  1072           0.4101          -0.2810          -0.8405           0.4119   \n",
       "671  1073          -0.4541          -0.0913          -0.1203           0.1065   \n",
       "672  1074          -0.0797           0.1413           0.6807           0.8580   \n",
       "673  1075           0.3346          -0.0854          -0.1359           1.3399   \n",
       "\n",
       "     Coef1_Amat  Coef2_Amat  Coef3_Amat  Coef4_Amat  Resultado  \n",
       "0        1.7204      0.4234      0.1196      0.2824          1  \n",
       "1        0.4756      0.2109     -0.1652     -0.7833          1  \n",
       "2        0.9662      0.3709      0.0299      0.0807          1  \n",
       "3        0.7613     -0.3175     -0.1566      0.4933          1  \n",
       "4        0.1077     -0.2699     -0.3977      1.4737          1  \n",
       "..          ...         ...         ...         ...        ...  \n",
       "669      0.0003      0.2014     -0.0634     -0.3148          1  \n",
       "670      1.5439      0.3125     -0.2256     -0.7217          1  \n",
       "671      0.9844      0.0554     -0.0718     -1.2955          1  \n",
       "672      3.5118     -1.1137      0.0854     -0.0767          1  \n",
       "673      1.1207      0.0836     -0.0701     -0.8382          1  \n",
       "\n",
       "[674 rows x 10 columns]"
      ]
     },
     "execution_count": 6,
     "metadata": {},
     "output_type": "execute_result"
    }
   ],
   "source": [
    "df1_train=df1[:limitedf1]\n",
    "df1_train"
   ]
  },
  {
   "cell_type": "code",
   "execution_count": 7,
   "id": "7dfa3f70",
   "metadata": {},
   "outputs": [
    {
     "data": {
      "text/html": [
       "<div>\n",
       "<style scoped>\n",
       "    .dataframe tbody tr th:only-of-type {\n",
       "        vertical-align: middle;\n",
       "    }\n",
       "\n",
       "    .dataframe tbody tr th {\n",
       "        vertical-align: top;\n",
       "    }\n",
       "\n",
       "    .dataframe thead th {\n",
       "        text-align: right;\n",
       "    }\n",
       "</style>\n",
       "<table border=\"1\" class=\"dataframe\">\n",
       "  <thead>\n",
       "    <tr style=\"text-align: right;\">\n",
       "      <th></th>\n",
       "      <th>ID</th>\n",
       "      <th>Coef1_Springate</th>\n",
       "      <th>Coef2_Springate</th>\n",
       "      <th>Coef3_Springate</th>\n",
       "      <th>Coef4_Springate</th>\n",
       "      <th>Coef1_Amat</th>\n",
       "      <th>Coef2_Amat</th>\n",
       "      <th>Coef3_Amat</th>\n",
       "      <th>Coef4_Amat</th>\n",
       "      <th>Resultado</th>\n",
       "    </tr>\n",
       "  </thead>\n",
       "  <tbody>\n",
       "    <tr>\n",
       "      <th>674</th>\n",
       "      <td>1076</td>\n",
       "      <td>0.6084</td>\n",
       "      <td>-0.3628</td>\n",
       "      <td>-0.2173</td>\n",
       "      <td>0.5857</td>\n",
       "      <td>0.4065</td>\n",
       "      <td>-0.6763</td>\n",
       "      <td>-0.2731</td>\n",
       "      <td>0.4039</td>\n",
       "      <td>1</td>\n",
       "    </tr>\n",
       "    <tr>\n",
       "      <th>675</th>\n",
       "      <td>1078</td>\n",
       "      <td>0.1225</td>\n",
       "      <td>0.0733</td>\n",
       "      <td>0.1669</td>\n",
       "      <td>2.6911</td>\n",
       "      <td>1.1318</td>\n",
       "      <td>0.5834</td>\n",
       "      <td>0.0469</td>\n",
       "      <td>0.0804</td>\n",
       "      <td>1</td>\n",
       "    </tr>\n",
       "    <tr>\n",
       "      <th>676</th>\n",
       "      <td>1079</td>\n",
       "      <td>0.0473</td>\n",
       "      <td>-0.0602</td>\n",
       "      <td>-0.1312</td>\n",
       "      <td>0.0743</td>\n",
       "      <td>0.2080</td>\n",
       "      <td>0.1653</td>\n",
       "      <td>-0.0751</td>\n",
       "      <td>-0.4541</td>\n",
       "      <td>1</td>\n",
       "    </tr>\n",
       "    <tr>\n",
       "      <th>677</th>\n",
       "      <td>1080</td>\n",
       "      <td>-0.0577</td>\n",
       "      <td>-0.1091</td>\n",
       "      <td>-0.3469</td>\n",
       "      <td>0.6132</td>\n",
       "      <td>2.3731</td>\n",
       "      <td>0.2095</td>\n",
       "      <td>-0.1095</td>\n",
       "      <td>-0.5226</td>\n",
       "      <td>1</td>\n",
       "    </tr>\n",
       "    <tr>\n",
       "      <th>678</th>\n",
       "      <td>1081</td>\n",
       "      <td>0.0582</td>\n",
       "      <td>0.0702</td>\n",
       "      <td>0.0354</td>\n",
       "      <td>0.7831</td>\n",
       "      <td>0.6438</td>\n",
       "      <td>0.5311</td>\n",
       "      <td>0.0156</td>\n",
       "      <td>0.0293</td>\n",
       "      <td>1</td>\n",
       "    </tr>\n",
       "    <tr>\n",
       "      <th>...</th>\n",
       "      <td>...</td>\n",
       "      <td>...</td>\n",
       "      <td>...</td>\n",
       "      <td>...</td>\n",
       "      <td>...</td>\n",
       "      <td>...</td>\n",
       "      <td>...</td>\n",
       "      <td>...</td>\n",
       "      <td>...</td>\n",
       "      <td>...</td>\n",
       "    </tr>\n",
       "    <tr>\n",
       "      <th>837</th>\n",
       "      <td>1493</td>\n",
       "      <td>-0.3422</td>\n",
       "      <td>-0.1538</td>\n",
       "      <td>-0.2613</td>\n",
       "      <td>0.0100</td>\n",
       "      <td>0.1495</td>\n",
       "      <td>-0.2978</td>\n",
       "      <td>-0.1422</td>\n",
       "      <td>0.4773</td>\n",
       "      <td>1</td>\n",
       "    </tr>\n",
       "    <tr>\n",
       "      <th>838</th>\n",
       "      <td>1496</td>\n",
       "      <td>0.0247</td>\n",
       "      <td>-0.1097</td>\n",
       "      <td>-0.0973</td>\n",
       "      <td>0.1505</td>\n",
       "      <td>0.0879</td>\n",
       "      <td>-0.1280</td>\n",
       "      <td>-0.0823</td>\n",
       "      <td>0.6432</td>\n",
       "      <td>1</td>\n",
       "    </tr>\n",
       "    <tr>\n",
       "      <th>839</th>\n",
       "      <td>1497</td>\n",
       "      <td>-0.0206</td>\n",
       "      <td>-0.0668</td>\n",
       "      <td>-0.0340</td>\n",
       "      <td>0.0016</td>\n",
       "      <td>0.2716</td>\n",
       "      <td>-1.1209</td>\n",
       "      <td>-0.0501</td>\n",
       "      <td>0.0447</td>\n",
       "      <td>1</td>\n",
       "    </tr>\n",
       "    <tr>\n",
       "      <th>840</th>\n",
       "      <td>1499</td>\n",
       "      <td>0.0964</td>\n",
       "      <td>-0.2809</td>\n",
       "      <td>-0.3393</td>\n",
       "      <td>0.0100</td>\n",
       "      <td>0.5816</td>\n",
       "      <td>-0.1982</td>\n",
       "      <td>-0.2204</td>\n",
       "      <td>1.1124</td>\n",
       "      <td>1</td>\n",
       "    </tr>\n",
       "    <tr>\n",
       "      <th>841</th>\n",
       "      <td>1502</td>\n",
       "      <td>-0.0555</td>\n",
       "      <td>-0.3837</td>\n",
       "      <td>-0.3051</td>\n",
       "      <td>0.0354</td>\n",
       "      <td>0.7084</td>\n",
       "      <td>-0.2591</td>\n",
       "      <td>-0.3842</td>\n",
       "      <td>1.4825</td>\n",
       "      <td>1</td>\n",
       "    </tr>\n",
       "  </tbody>\n",
       "</table>\n",
       "<p>168 rows × 10 columns</p>\n",
       "</div>"
      ],
      "text/plain": [
       "       ID  Coef1_Springate  Coef2_Springate  Coef3_Springate  Coef4_Springate  \\\n",
       "674  1076           0.6084          -0.3628          -0.2173           0.5857   \n",
       "675  1078           0.1225           0.0733           0.1669           2.6911   \n",
       "676  1079           0.0473          -0.0602          -0.1312           0.0743   \n",
       "677  1080          -0.0577          -0.1091          -0.3469           0.6132   \n",
       "678  1081           0.0582           0.0702           0.0354           0.7831   \n",
       "..    ...              ...              ...              ...              ...   \n",
       "837  1493          -0.3422          -0.1538          -0.2613           0.0100   \n",
       "838  1496           0.0247          -0.1097          -0.0973           0.1505   \n",
       "839  1497          -0.0206          -0.0668          -0.0340           0.0016   \n",
       "840  1499           0.0964          -0.2809          -0.3393           0.0100   \n",
       "841  1502          -0.0555          -0.3837          -0.3051           0.0354   \n",
       "\n",
       "     Coef1_Amat  Coef2_Amat  Coef3_Amat  Coef4_Amat  Resultado  \n",
       "674      0.4065     -0.6763     -0.2731      0.4039          1  \n",
       "675      1.1318      0.5834      0.0469      0.0804          1  \n",
       "676      0.2080      0.1653     -0.0751     -0.4541          1  \n",
       "677      2.3731      0.2095     -0.1095     -0.5226          1  \n",
       "678      0.6438      0.5311      0.0156      0.0293          1  \n",
       "..          ...         ...         ...         ...        ...  \n",
       "837      0.1495     -0.2978     -0.1422      0.4773          1  \n",
       "838      0.0879     -0.1280     -0.0823      0.6432          1  \n",
       "839      0.2716     -1.1209     -0.0501      0.0447          1  \n",
       "840      0.5816     -0.1982     -0.2204      1.1124          1  \n",
       "841      0.7084     -0.2591     -0.3842      1.4825          1  \n",
       "\n",
       "[168 rows x 10 columns]"
      ]
     },
     "execution_count": 7,
     "metadata": {},
     "output_type": "execute_result"
    }
   ],
   "source": [
    "df1_test=df1[limitedf1:]\n",
    "df1_test"
   ]
  },
  {
   "cell_type": "code",
   "execution_count": 8,
   "id": "f29c602e",
   "metadata": {},
   "outputs": [
    {
     "name": "stdout",
     "output_type": "stream",
     "text": [
      "            ID  Coef1_Springate  Coef2_Springate  Coef3_Springate  \\\n",
      "0            1          -0.1786           0.0810           0.2086   \n",
      "1            2           0.3473           0.0039           0.1439   \n",
      "2            3           0.4718           0.0385           0.0752   \n",
      "3            5           0.0656           0.0826           0.5767   \n",
      "4            7           0.3031           0.0006           0.0030   \n",
      "...        ...              ...              ...              ...   \n",
      "388140  732492           0.0111          -0.0076          -0.0069   \n",
      "388141  732493           0.8986          -0.0367          -0.2176   \n",
      "388142  732499           0.0051          -0.0130          -0.0203   \n",
      "388143  732550          -0.0927           0.0000           0.0208   \n",
      "388144  732570           0.6813          -0.0064          -0.0240   \n",
      "\n",
      "        Coef4_Springate  Coef1_Amat  Coef2_Amat  Coef3_Amat  Coef4_Amat  \\\n",
      "0                2.3157      0.9028      0.6267      0.0598      0.0954   \n",
      "1                1.8919      1.0684      0.2626      0.0774      0.2946   \n",
      "2                2.1073      1.4550      0.4008      0.0199      0.0498   \n",
      "3                0.6623      2.1201      0.8463      0.0806      0.0953   \n",
      "4                1.0532      1.1328      0.0219      0.0013      0.0573   \n",
      "...                 ...         ...         ...         ...         ...   \n",
      "388140           0.0000      0.9596     -0.0421     -0.0072      0.1714   \n",
      "388141           0.0000      3.7207     -0.1153     -0.0585      0.5071   \n",
      "388142           0.0000      0.0189      0.3601     -0.0130     -0.0360   \n",
      "388143           0.0000      1.0615      0.4367      0.0117      0.0269   \n",
      "388144           0.0000      3.6889      0.7320      0.0025      0.0034   \n",
      "\n",
      "        Resultado  \n",
      "0               2  \n",
      "1               2  \n",
      "2               2  \n",
      "3               2  \n",
      "4               2  \n",
      "...           ...  \n",
      "388140          2  \n",
      "388141          2  \n",
      "388142          2  \n",
      "388143          2  \n",
      "388144          2  \n",
      "\n",
      "[388145 rows x 10 columns]\n"
     ]
    }
   ],
   "source": [
    "df2=pd.read_csv('Activa_total_nd_nooutliers.csv',encoding = 'unicode_escape')\n",
    "print(df2)"
   ]
  },
  {
   "cell_type": "code",
   "execution_count": 9,
   "id": "9e2f3cc6",
   "metadata": {},
   "outputs": [
    {
     "data": {
      "text/plain": [
       "ID                   int64\n",
       "Coef1_Springate    float64\n",
       "Coef2_Springate    float64\n",
       "Coef3_Springate    float64\n",
       "Coef4_Springate    float64\n",
       "Coef1_Amat         float64\n",
       "Coef2_Amat         float64\n",
       "Coef3_Amat         float64\n",
       "Coef4_Amat         float64\n",
       "Resultado            int64\n",
       "dtype: object"
      ]
     },
     "execution_count": 9,
     "metadata": {},
     "output_type": "execute_result"
    }
   ],
   "source": [
    "df2.dtypes"
   ]
  },
  {
   "cell_type": "code",
   "execution_count": 10,
   "id": "df95a608",
   "metadata": {},
   "outputs": [
    {
     "data": {
      "text/plain": [
       "310516"
      ]
     },
     "execution_count": 10,
     "metadata": {},
     "output_type": "execute_result"
    }
   ],
   "source": [
    "limitedf2=round(porcentaje_train*len(df2))\n",
    "limitedf2"
   ]
  },
  {
   "cell_type": "code",
   "execution_count": 11,
   "id": "f7f985ce",
   "metadata": {},
   "outputs": [
    {
     "data": {
      "text/html": [
       "<div>\n",
       "<style scoped>\n",
       "    .dataframe tbody tr th:only-of-type {\n",
       "        vertical-align: middle;\n",
       "    }\n",
       "\n",
       "    .dataframe tbody tr th {\n",
       "        vertical-align: top;\n",
       "    }\n",
       "\n",
       "    .dataframe thead th {\n",
       "        text-align: right;\n",
       "    }\n",
       "</style>\n",
       "<table border=\"1\" class=\"dataframe\">\n",
       "  <thead>\n",
       "    <tr style=\"text-align: right;\">\n",
       "      <th></th>\n",
       "      <th>ID</th>\n",
       "      <th>Coef1_Springate</th>\n",
       "      <th>Coef2_Springate</th>\n",
       "      <th>Coef3_Springate</th>\n",
       "      <th>Coef4_Springate</th>\n",
       "      <th>Coef1_Amat</th>\n",
       "      <th>Coef2_Amat</th>\n",
       "      <th>Coef3_Amat</th>\n",
       "      <th>Coef4_Amat</th>\n",
       "      <th>Resultado</th>\n",
       "    </tr>\n",
       "  </thead>\n",
       "  <tbody>\n",
       "    <tr>\n",
       "      <th>0</th>\n",
       "      <td>1</td>\n",
       "      <td>-0.1786</td>\n",
       "      <td>0.0810</td>\n",
       "      <td>0.2086</td>\n",
       "      <td>2.3157</td>\n",
       "      <td>0.9028</td>\n",
       "      <td>0.6267</td>\n",
       "      <td>0.0598</td>\n",
       "      <td>0.0954</td>\n",
       "      <td>2</td>\n",
       "    </tr>\n",
       "    <tr>\n",
       "      <th>1</th>\n",
       "      <td>2</td>\n",
       "      <td>0.3473</td>\n",
       "      <td>0.0039</td>\n",
       "      <td>0.1439</td>\n",
       "      <td>1.8919</td>\n",
       "      <td>1.0684</td>\n",
       "      <td>0.2626</td>\n",
       "      <td>0.0774</td>\n",
       "      <td>0.2946</td>\n",
       "      <td>2</td>\n",
       "    </tr>\n",
       "    <tr>\n",
       "      <th>2</th>\n",
       "      <td>3</td>\n",
       "      <td>0.4718</td>\n",
       "      <td>0.0385</td>\n",
       "      <td>0.0752</td>\n",
       "      <td>2.1073</td>\n",
       "      <td>1.4550</td>\n",
       "      <td>0.4008</td>\n",
       "      <td>0.0199</td>\n",
       "      <td>0.0498</td>\n",
       "      <td>2</td>\n",
       "    </tr>\n",
       "    <tr>\n",
       "      <th>3</th>\n",
       "      <td>5</td>\n",
       "      <td>0.0656</td>\n",
       "      <td>0.0826</td>\n",
       "      <td>0.5767</td>\n",
       "      <td>0.6623</td>\n",
       "      <td>2.1201</td>\n",
       "      <td>0.8463</td>\n",
       "      <td>0.0806</td>\n",
       "      <td>0.0953</td>\n",
       "      <td>2</td>\n",
       "    </tr>\n",
       "    <tr>\n",
       "      <th>4</th>\n",
       "      <td>7</td>\n",
       "      <td>0.3031</td>\n",
       "      <td>0.0006</td>\n",
       "      <td>0.0030</td>\n",
       "      <td>1.0532</td>\n",
       "      <td>1.1328</td>\n",
       "      <td>0.0219</td>\n",
       "      <td>0.0013</td>\n",
       "      <td>0.0573</td>\n",
       "      <td>2</td>\n",
       "    </tr>\n",
       "    <tr>\n",
       "      <th>...</th>\n",
       "      <td>...</td>\n",
       "      <td>...</td>\n",
       "      <td>...</td>\n",
       "      <td>...</td>\n",
       "      <td>...</td>\n",
       "      <td>...</td>\n",
       "      <td>...</td>\n",
       "      <td>...</td>\n",
       "      <td>...</td>\n",
       "      <td>...</td>\n",
       "    </tr>\n",
       "    <tr>\n",
       "      <th>310511</th>\n",
       "      <td>510759</td>\n",
       "      <td>0.1624</td>\n",
       "      <td>0.0324</td>\n",
       "      <td>0.0028</td>\n",
       "      <td>0.9055</td>\n",
       "      <td>1.9388</td>\n",
       "      <td>0.3441</td>\n",
       "      <td>-0.0120</td>\n",
       "      <td>-0.0349</td>\n",
       "      <td>2</td>\n",
       "    </tr>\n",
       "    <tr>\n",
       "      <th>310512</th>\n",
       "      <td>510761</td>\n",
       "      <td>0.5481</td>\n",
       "      <td>0.0658</td>\n",
       "      <td>0.1927</td>\n",
       "      <td>2.4296</td>\n",
       "      <td>2.6813</td>\n",
       "      <td>0.6583</td>\n",
       "      <td>0.0494</td>\n",
       "      <td>0.0750</td>\n",
       "      <td>2</td>\n",
       "    </tr>\n",
       "    <tr>\n",
       "      <th>310513</th>\n",
       "      <td>510762</td>\n",
       "      <td>0.2481</td>\n",
       "      <td>0.0123</td>\n",
       "      <td>0.0318</td>\n",
       "      <td>2.4477</td>\n",
       "      <td>3.0912</td>\n",
       "      <td>0.5524</td>\n",
       "      <td>0.0059</td>\n",
       "      <td>0.0106</td>\n",
       "      <td>2</td>\n",
       "    </tr>\n",
       "    <tr>\n",
       "      <th>310514</th>\n",
       "      <td>510764</td>\n",
       "      <td>0.0755</td>\n",
       "      <td>0.0939</td>\n",
       "      <td>1.1422</td>\n",
       "      <td>0.7479</td>\n",
       "      <td>6.4856</td>\n",
       "      <td>0.5255</td>\n",
       "      <td>0.0613</td>\n",
       "      <td>0.1165</td>\n",
       "      <td>2</td>\n",
       "    </tr>\n",
       "    <tr>\n",
       "      <th>310515</th>\n",
       "      <td>510766</td>\n",
       "      <td>0.7501</td>\n",
       "      <td>0.0324</td>\n",
       "      <td>0.0772</td>\n",
       "      <td>2.8015</td>\n",
       "      <td>2.9166</td>\n",
       "      <td>0.4412</td>\n",
       "      <td>0.0193</td>\n",
       "      <td>0.0438</td>\n",
       "      <td>2</td>\n",
       "    </tr>\n",
       "  </tbody>\n",
       "</table>\n",
       "<p>310516 rows × 10 columns</p>\n",
       "</div>"
      ],
      "text/plain": [
       "            ID  Coef1_Springate  Coef2_Springate  Coef3_Springate  \\\n",
       "0            1          -0.1786           0.0810           0.2086   \n",
       "1            2           0.3473           0.0039           0.1439   \n",
       "2            3           0.4718           0.0385           0.0752   \n",
       "3            5           0.0656           0.0826           0.5767   \n",
       "4            7           0.3031           0.0006           0.0030   \n",
       "...        ...              ...              ...              ...   \n",
       "310511  510759           0.1624           0.0324           0.0028   \n",
       "310512  510761           0.5481           0.0658           0.1927   \n",
       "310513  510762           0.2481           0.0123           0.0318   \n",
       "310514  510764           0.0755           0.0939           1.1422   \n",
       "310515  510766           0.7501           0.0324           0.0772   \n",
       "\n",
       "        Coef4_Springate  Coef1_Amat  Coef2_Amat  Coef3_Amat  Coef4_Amat  \\\n",
       "0                2.3157      0.9028      0.6267      0.0598      0.0954   \n",
       "1                1.8919      1.0684      0.2626      0.0774      0.2946   \n",
       "2                2.1073      1.4550      0.4008      0.0199      0.0498   \n",
       "3                0.6623      2.1201      0.8463      0.0806      0.0953   \n",
       "4                1.0532      1.1328      0.0219      0.0013      0.0573   \n",
       "...                 ...         ...         ...         ...         ...   \n",
       "310511           0.9055      1.9388      0.3441     -0.0120     -0.0349   \n",
       "310512           2.4296      2.6813      0.6583      0.0494      0.0750   \n",
       "310513           2.4477      3.0912      0.5524      0.0059      0.0106   \n",
       "310514           0.7479      6.4856      0.5255      0.0613      0.1165   \n",
       "310515           2.8015      2.9166      0.4412      0.0193      0.0438   \n",
       "\n",
       "        Resultado  \n",
       "0               2  \n",
       "1               2  \n",
       "2               2  \n",
       "3               2  \n",
       "4               2  \n",
       "...           ...  \n",
       "310511          2  \n",
       "310512          2  \n",
       "310513          2  \n",
       "310514          2  \n",
       "310515          2  \n",
       "\n",
       "[310516 rows x 10 columns]"
      ]
     },
     "execution_count": 11,
     "metadata": {},
     "output_type": "execute_result"
    }
   ],
   "source": [
    "df2_train=df2[:limitedf2]\n",
    "df2_train"
   ]
  },
  {
   "cell_type": "code",
   "execution_count": 12,
   "id": "cf11e0bc",
   "metadata": {},
   "outputs": [
    {
     "data": {
      "text/html": [
       "<div>\n",
       "<style scoped>\n",
       "    .dataframe tbody tr th:only-of-type {\n",
       "        vertical-align: middle;\n",
       "    }\n",
       "\n",
       "    .dataframe tbody tr th {\n",
       "        vertical-align: top;\n",
       "    }\n",
       "\n",
       "    .dataframe thead th {\n",
       "        text-align: right;\n",
       "    }\n",
       "</style>\n",
       "<table border=\"1\" class=\"dataframe\">\n",
       "  <thead>\n",
       "    <tr style=\"text-align: right;\">\n",
       "      <th></th>\n",
       "      <th>ID</th>\n",
       "      <th>Coef1_Springate</th>\n",
       "      <th>Coef2_Springate</th>\n",
       "      <th>Coef3_Springate</th>\n",
       "      <th>Coef4_Springate</th>\n",
       "      <th>Coef1_Amat</th>\n",
       "      <th>Coef2_Amat</th>\n",
       "      <th>Coef3_Amat</th>\n",
       "      <th>Coef4_Amat</th>\n",
       "      <th>Resultado</th>\n",
       "    </tr>\n",
       "  </thead>\n",
       "  <tbody>\n",
       "    <tr>\n",
       "      <th>310516</th>\n",
       "      <td>510768</td>\n",
       "      <td>0.1113</td>\n",
       "      <td>0.0026</td>\n",
       "      <td>0.0032</td>\n",
       "      <td>4.0011</td>\n",
       "      <td>1.2416</td>\n",
       "      <td>0.2112</td>\n",
       "      <td>0.0019</td>\n",
       "      <td>0.0091</td>\n",
       "      <td>2</td>\n",
       "    </tr>\n",
       "    <tr>\n",
       "      <th>310517</th>\n",
       "      <td>510770</td>\n",
       "      <td>-0.0817</td>\n",
       "      <td>0.0541</td>\n",
       "      <td>0.1332</td>\n",
       "      <td>3.7004</td>\n",
       "      <td>1.6666</td>\n",
       "      <td>0.5993</td>\n",
       "      <td>0.0343</td>\n",
       "      <td>0.0572</td>\n",
       "      <td>2</td>\n",
       "    </tr>\n",
       "    <tr>\n",
       "      <th>310518</th>\n",
       "      <td>510771</td>\n",
       "      <td>0.0540</td>\n",
       "      <td>0.0084</td>\n",
       "      <td>0.3318</td>\n",
       "      <td>0.3122</td>\n",
       "      <td>6.0255</td>\n",
       "      <td>0.9748</td>\n",
       "      <td>0.0063</td>\n",
       "      <td>0.0064</td>\n",
       "      <td>2</td>\n",
       "    </tr>\n",
       "    <tr>\n",
       "      <th>310519</th>\n",
       "      <td>510782</td>\n",
       "      <td>-0.1438</td>\n",
       "      <td>0.1316</td>\n",
       "      <td>0.2109</td>\n",
       "      <td>0.8806</td>\n",
       "      <td>0.8229</td>\n",
       "      <td>0.3638</td>\n",
       "      <td>0.1316</td>\n",
       "      <td>0.3618</td>\n",
       "      <td>2</td>\n",
       "    </tr>\n",
       "    <tr>\n",
       "      <th>310520</th>\n",
       "      <td>510783</td>\n",
       "      <td>0.5868</td>\n",
       "      <td>0.0284</td>\n",
       "      <td>0.0602</td>\n",
       "      <td>0.1589</td>\n",
       "      <td>1.6683</td>\n",
       "      <td>0.5282</td>\n",
       "      <td>0.0213</td>\n",
       "      <td>0.0404</td>\n",
       "      <td>2</td>\n",
       "    </tr>\n",
       "    <tr>\n",
       "      <th>...</th>\n",
       "      <td>...</td>\n",
       "      <td>...</td>\n",
       "      <td>...</td>\n",
       "      <td>...</td>\n",
       "      <td>...</td>\n",
       "      <td>...</td>\n",
       "      <td>...</td>\n",
       "      <td>...</td>\n",
       "      <td>...</td>\n",
       "      <td>...</td>\n",
       "    </tr>\n",
       "    <tr>\n",
       "      <th>388140</th>\n",
       "      <td>732492</td>\n",
       "      <td>0.0111</td>\n",
       "      <td>-0.0076</td>\n",
       "      <td>-0.0069</td>\n",
       "      <td>0.0000</td>\n",
       "      <td>0.9596</td>\n",
       "      <td>-0.0421</td>\n",
       "      <td>-0.0072</td>\n",
       "      <td>0.1714</td>\n",
       "      <td>2</td>\n",
       "    </tr>\n",
       "    <tr>\n",
       "      <th>388141</th>\n",
       "      <td>732493</td>\n",
       "      <td>0.8986</td>\n",
       "      <td>-0.0367</td>\n",
       "      <td>-0.2176</td>\n",
       "      <td>0.0000</td>\n",
       "      <td>3.7207</td>\n",
       "      <td>-0.1153</td>\n",
       "      <td>-0.0585</td>\n",
       "      <td>0.5071</td>\n",
       "      <td>2</td>\n",
       "    </tr>\n",
       "    <tr>\n",
       "      <th>388142</th>\n",
       "      <td>732499</td>\n",
       "      <td>0.0051</td>\n",
       "      <td>-0.0130</td>\n",
       "      <td>-0.0203</td>\n",
       "      <td>0.0000</td>\n",
       "      <td>0.0189</td>\n",
       "      <td>0.3601</td>\n",
       "      <td>-0.0130</td>\n",
       "      <td>-0.0360</td>\n",
       "      <td>2</td>\n",
       "    </tr>\n",
       "    <tr>\n",
       "      <th>388143</th>\n",
       "      <td>732550</td>\n",
       "      <td>-0.0927</td>\n",
       "      <td>0.0000</td>\n",
       "      <td>0.0208</td>\n",
       "      <td>0.0000</td>\n",
       "      <td>1.0615</td>\n",
       "      <td>0.4367</td>\n",
       "      <td>0.0117</td>\n",
       "      <td>0.0269</td>\n",
       "      <td>2</td>\n",
       "    </tr>\n",
       "    <tr>\n",
       "      <th>388144</th>\n",
       "      <td>732570</td>\n",
       "      <td>0.6813</td>\n",
       "      <td>-0.0064</td>\n",
       "      <td>-0.0240</td>\n",
       "      <td>0.0000</td>\n",
       "      <td>3.6889</td>\n",
       "      <td>0.7320</td>\n",
       "      <td>0.0025</td>\n",
       "      <td>0.0034</td>\n",
       "      <td>2</td>\n",
       "    </tr>\n",
       "  </tbody>\n",
       "</table>\n",
       "<p>77629 rows × 10 columns</p>\n",
       "</div>"
      ],
      "text/plain": [
       "            ID  Coef1_Springate  Coef2_Springate  Coef3_Springate  \\\n",
       "310516  510768           0.1113           0.0026           0.0032   \n",
       "310517  510770          -0.0817           0.0541           0.1332   \n",
       "310518  510771           0.0540           0.0084           0.3318   \n",
       "310519  510782          -0.1438           0.1316           0.2109   \n",
       "310520  510783           0.5868           0.0284           0.0602   \n",
       "...        ...              ...              ...              ...   \n",
       "388140  732492           0.0111          -0.0076          -0.0069   \n",
       "388141  732493           0.8986          -0.0367          -0.2176   \n",
       "388142  732499           0.0051          -0.0130          -0.0203   \n",
       "388143  732550          -0.0927           0.0000           0.0208   \n",
       "388144  732570           0.6813          -0.0064          -0.0240   \n",
       "\n",
       "        Coef4_Springate  Coef1_Amat  Coef2_Amat  Coef3_Amat  Coef4_Amat  \\\n",
       "310516           4.0011      1.2416      0.2112      0.0019      0.0091   \n",
       "310517           3.7004      1.6666      0.5993      0.0343      0.0572   \n",
       "310518           0.3122      6.0255      0.9748      0.0063      0.0064   \n",
       "310519           0.8806      0.8229      0.3638      0.1316      0.3618   \n",
       "310520           0.1589      1.6683      0.5282      0.0213      0.0404   \n",
       "...                 ...         ...         ...         ...         ...   \n",
       "388140           0.0000      0.9596     -0.0421     -0.0072      0.1714   \n",
       "388141           0.0000      3.7207     -0.1153     -0.0585      0.5071   \n",
       "388142           0.0000      0.0189      0.3601     -0.0130     -0.0360   \n",
       "388143           0.0000      1.0615      0.4367      0.0117      0.0269   \n",
       "388144           0.0000      3.6889      0.7320      0.0025      0.0034   \n",
       "\n",
       "        Resultado  \n",
       "310516          2  \n",
       "310517          2  \n",
       "310518          2  \n",
       "310519          2  \n",
       "310520          2  \n",
       "...           ...  \n",
       "388140          2  \n",
       "388141          2  \n",
       "388142          2  \n",
       "388143          2  \n",
       "388144          2  \n",
       "\n",
       "[77629 rows x 10 columns]"
      ]
     },
     "execution_count": 12,
     "metadata": {},
     "output_type": "execute_result"
    }
   ],
   "source": [
    "df2_test=df2[limitedf2:]\n",
    "df2_test"
   ]
  },
  {
   "cell_type": "markdown",
   "id": "2ad317f5",
   "metadata": {},
   "source": [
    "### 2) Preparacion datos para ML"
   ]
  },
  {
   "cell_type": "code",
   "execution_count": 13,
   "id": "46a88a36",
   "metadata": {},
   "outputs": [],
   "source": [
    "df3_train=pd.concat([df1_train, df2_train])\n",
    "X_train=df3_train.drop(columns=[\"Resultado\",\"ID\"])\n",
    "Y_train=df3_train.drop(columns=[\"ID\",\"Coef1_Amat\",\"Coef2_Amat\",\"Coef3_Amat\",\"Coef4_Amat\",\"Coef1_Springate\",\"Coef2_Springate\",\"Coef3_Springate\",\"Coef4_Springate\"])"
   ]
  },
  {
   "cell_type": "code",
   "execution_count": 14,
   "id": "c18dcb0c",
   "metadata": {},
   "outputs": [
    {
     "data": {
      "text/html": [
       "<div>\n",
       "<style scoped>\n",
       "    .dataframe tbody tr th:only-of-type {\n",
       "        vertical-align: middle;\n",
       "    }\n",
       "\n",
       "    .dataframe tbody tr th {\n",
       "        vertical-align: top;\n",
       "    }\n",
       "\n",
       "    .dataframe thead th {\n",
       "        text-align: right;\n",
       "    }\n",
       "</style>\n",
       "<table border=\"1\" class=\"dataframe\">\n",
       "  <thead>\n",
       "    <tr style=\"text-align: right;\">\n",
       "      <th></th>\n",
       "      <th>Coef1_Springate</th>\n",
       "      <th>Coef2_Springate</th>\n",
       "      <th>Coef3_Springate</th>\n",
       "      <th>Coef4_Springate</th>\n",
       "      <th>Coef1_Amat</th>\n",
       "      <th>Coef2_Amat</th>\n",
       "      <th>Coef3_Amat</th>\n",
       "      <th>Coef4_Amat</th>\n",
       "      <th>Resultado</th>\n",
       "    </tr>\n",
       "  </thead>\n",
       "  <tbody>\n",
       "    <tr>\n",
       "      <th>0</th>\n",
       "      <td>0.033857</td>\n",
       "      <td>0.005717</td>\n",
       "      <td>-0.415464</td>\n",
       "      <td>0.245682</td>\n",
       "      <td>0.332314</td>\n",
       "      <td>0.265841</td>\n",
       "      <td>-0.089677</td>\n",
       "      <td>-0.341928</td>\n",
       "      <td>1</td>\n",
       "    </tr>\n",
       "    <tr>\n",
       "      <th>1</th>\n",
       "      <td>0.593800</td>\n",
       "      <td>0.002800</td>\n",
       "      <td>-0.049100</td>\n",
       "      <td>2.051700</td>\n",
       "      <td>2.305900</td>\n",
       "      <td>0.136100</td>\n",
       "      <td>-0.020900</td>\n",
       "      <td>-0.153900</td>\n",
       "      <td>2</td>\n",
       "    </tr>\n",
       "    <tr>\n",
       "      <th>2</th>\n",
       "      <td>0.436200</td>\n",
       "      <td>0.135000</td>\n",
       "      <td>0.361900</td>\n",
       "      <td>2.504800</td>\n",
       "      <td>2.082800</td>\n",
       "      <td>0.404400</td>\n",
       "      <td>0.212800</td>\n",
       "      <td>0.526300</td>\n",
       "      <td>2</td>\n",
       "    </tr>\n",
       "    <tr>\n",
       "      <th>3</th>\n",
       "      <td>0.055439</td>\n",
       "      <td>0.022579</td>\n",
       "      <td>0.021515</td>\n",
       "      <td>0.710773</td>\n",
       "      <td>1.405784</td>\n",
       "      <td>0.151975</td>\n",
       "      <td>0.007902</td>\n",
       "      <td>0.061273</td>\n",
       "      <td>1</td>\n",
       "    </tr>\n",
       "    <tr>\n",
       "      <th>4</th>\n",
       "      <td>0.506600</td>\n",
       "      <td>0.071000</td>\n",
       "      <td>0.158000</td>\n",
       "      <td>0.693100</td>\n",
       "      <td>1.934100</td>\n",
       "      <td>0.451600</td>\n",
       "      <td>0.044300</td>\n",
       "      <td>0.098200</td>\n",
       "      <td>2</td>\n",
       "    </tr>\n",
       "    <tr>\n",
       "      <th>...</th>\n",
       "      <td>...</td>\n",
       "      <td>...</td>\n",
       "      <td>...</td>\n",
       "      <td>...</td>\n",
       "      <td>...</td>\n",
       "      <td>...</td>\n",
       "      <td>...</td>\n",
       "      <td>...</td>\n",
       "      <td>...</td>\n",
       "    </tr>\n",
       "    <tr>\n",
       "      <th>621027</th>\n",
       "      <td>0.265400</td>\n",
       "      <td>0.080200</td>\n",
       "      <td>0.205000</td>\n",
       "      <td>1.190100</td>\n",
       "      <td>2.280600</td>\n",
       "      <td>0.569900</td>\n",
       "      <td>0.082400</td>\n",
       "      <td>0.144500</td>\n",
       "      <td>2</td>\n",
       "    </tr>\n",
       "    <tr>\n",
       "      <th>621028</th>\n",
       "      <td>0.549700</td>\n",
       "      <td>0.062200</td>\n",
       "      <td>0.140600</td>\n",
       "      <td>1.832100</td>\n",
       "      <td>2.615500</td>\n",
       "      <td>0.303300</td>\n",
       "      <td>0.049700</td>\n",
       "      <td>0.164100</td>\n",
       "      <td>2</td>\n",
       "    </tr>\n",
       "    <tr>\n",
       "      <th>621029</th>\n",
       "      <td>0.127641</td>\n",
       "      <td>0.045261</td>\n",
       "      <td>0.043149</td>\n",
       "      <td>0.716546</td>\n",
       "      <td>2.243597</td>\n",
       "      <td>0.520874</td>\n",
       "      <td>0.013702</td>\n",
       "      <td>0.027610</td>\n",
       "      <td>1</td>\n",
       "    </tr>\n",
       "    <tr>\n",
       "      <th>621030</th>\n",
       "      <td>-0.027800</td>\n",
       "      <td>0.216200</td>\n",
       "      <td>0.598200</td>\n",
       "      <td>1.808800</td>\n",
       "      <td>1.951300</td>\n",
       "      <td>0.385200</td>\n",
       "      <td>0.188400</td>\n",
       "      <td>0.489000</td>\n",
       "      <td>2</td>\n",
       "    </tr>\n",
       "    <tr>\n",
       "      <th>621031</th>\n",
       "      <td>-0.086800</td>\n",
       "      <td>0.016400</td>\n",
       "      <td>0.020500</td>\n",
       "      <td>0.637700</td>\n",
       "      <td>1.017000</td>\n",
       "      <td>0.283300</td>\n",
       "      <td>0.010700</td>\n",
       "      <td>0.037900</td>\n",
       "      <td>2</td>\n",
       "    </tr>\n",
       "  </tbody>\n",
       "</table>\n",
       "<p>621032 rows × 9 columns</p>\n",
       "</div>"
      ],
      "text/plain": [
       "        Coef1_Springate  Coef2_Springate  Coef3_Springate  Coef4_Springate  \\\n",
       "0              0.033857         0.005717        -0.415464         0.245682   \n",
       "1              0.593800         0.002800        -0.049100         2.051700   \n",
       "2              0.436200         0.135000         0.361900         2.504800   \n",
       "3              0.055439         0.022579         0.021515         0.710773   \n",
       "4              0.506600         0.071000         0.158000         0.693100   \n",
       "...                 ...              ...              ...              ...   \n",
       "621027         0.265400         0.080200         0.205000         1.190100   \n",
       "621028         0.549700         0.062200         0.140600         1.832100   \n",
       "621029         0.127641         0.045261         0.043149         0.716546   \n",
       "621030        -0.027800         0.216200         0.598200         1.808800   \n",
       "621031        -0.086800         0.016400         0.020500         0.637700   \n",
       "\n",
       "        Coef1_Amat  Coef2_Amat  Coef3_Amat  Coef4_Amat  Resultado  \n",
       "0         0.332314    0.265841   -0.089677   -0.341928          1  \n",
       "1         2.305900    0.136100   -0.020900   -0.153900          2  \n",
       "2         2.082800    0.404400    0.212800    0.526300          2  \n",
       "3         1.405784    0.151975    0.007902    0.061273          1  \n",
       "4         1.934100    0.451600    0.044300    0.098200          2  \n",
       "...            ...         ...         ...         ...        ...  \n",
       "621027    2.280600    0.569900    0.082400    0.144500          2  \n",
       "621028    2.615500    0.303300    0.049700    0.164100          2  \n",
       "621029    2.243597    0.520874    0.013702    0.027610          1  \n",
       "621030    1.951300    0.385200    0.188400    0.489000          2  \n",
       "621031    1.017000    0.283300    0.010700    0.037900          2  \n",
       "\n",
       "[621032 rows x 9 columns]"
      ]
     },
     "execution_count": 14,
     "metadata": {},
     "output_type": "execute_result"
    }
   ],
   "source": [
    "sm=SMOTE(random_state=42)\n",
    "X_SMOTE,Y_SMOTE=sm.fit_resample(X_train,Y_train)\n",
    "df3_train_SMOTE=pd.concat([X_SMOTE, Y_SMOTE],axis=1)\n",
    "df3_train_SMOTE = df3_train_SMOTE.sample(frac=1).reset_index(drop=True)\n",
    "df3_train_SMOTE"
   ]
  },
  {
   "cell_type": "code",
   "execution_count": 15,
   "id": "3216b621",
   "metadata": {},
   "outputs": [],
   "source": [
    "df3_test=pd.concat([df1_test, df2_test])\n",
    "X_test=df3_test.drop(columns=[\"Resultado\",\"ID\"])\n",
    "Y_test=df3_test.drop(columns=[\"ID\",\"Coef1_Amat\",\"Coef2_Amat\",\"Coef3_Amat\",\"Coef4_Amat\",\"Coef1_Springate\",\"Coef2_Springate\",\"Coef3_Springate\",\"Coef4_Springate\"])"
   ]
  },
  {
   "cell_type": "code",
   "execution_count": 16,
   "id": "6be3d28a",
   "metadata": {},
   "outputs": [],
   "source": [
    "df3_test_SMOTE=pd.concat([X_test, Y_test],axis=1)"
   ]
  },
  {
   "cell_type": "code",
   "execution_count": 17,
   "id": "ec11f8f7",
   "metadata": {},
   "outputs": [
    {
     "data": {
      "text/html": [
       "<div>\n",
       "<style scoped>\n",
       "    .dataframe tbody tr th:only-of-type {\n",
       "        vertical-align: middle;\n",
       "    }\n",
       "\n",
       "    .dataframe tbody tr th {\n",
       "        vertical-align: top;\n",
       "    }\n",
       "\n",
       "    .dataframe thead th {\n",
       "        text-align: right;\n",
       "    }\n",
       "</style>\n",
       "<table border=\"1\" class=\"dataframe\">\n",
       "  <thead>\n",
       "    <tr style=\"text-align: right;\">\n",
       "      <th></th>\n",
       "      <th>Coef1_Springate</th>\n",
       "      <th>Coef2_Springate</th>\n",
       "      <th>Coef3_Springate</th>\n",
       "      <th>Coef4_Springate</th>\n",
       "      <th>Coef1_Amat</th>\n",
       "      <th>Coef2_Amat</th>\n",
       "      <th>Coef3_Amat</th>\n",
       "      <th>Coef4_Amat</th>\n",
       "      <th>Resultado</th>\n",
       "    </tr>\n",
       "  </thead>\n",
       "  <tbody>\n",
       "    <tr>\n",
       "      <th>0</th>\n",
       "      <td>0.033857</td>\n",
       "      <td>0.005717</td>\n",
       "      <td>-0.415464</td>\n",
       "      <td>0.245682</td>\n",
       "      <td>0.332314</td>\n",
       "      <td>0.265841</td>\n",
       "      <td>-0.089677</td>\n",
       "      <td>-0.341928</td>\n",
       "      <td>1</td>\n",
       "    </tr>\n",
       "    <tr>\n",
       "      <th>1</th>\n",
       "      <td>0.593800</td>\n",
       "      <td>0.002800</td>\n",
       "      <td>-0.049100</td>\n",
       "      <td>2.051700</td>\n",
       "      <td>2.305900</td>\n",
       "      <td>0.136100</td>\n",
       "      <td>-0.020900</td>\n",
       "      <td>-0.153900</td>\n",
       "      <td>2</td>\n",
       "    </tr>\n",
       "    <tr>\n",
       "      <th>2</th>\n",
       "      <td>0.436200</td>\n",
       "      <td>0.135000</td>\n",
       "      <td>0.361900</td>\n",
       "      <td>2.504800</td>\n",
       "      <td>2.082800</td>\n",
       "      <td>0.404400</td>\n",
       "      <td>0.212800</td>\n",
       "      <td>0.526300</td>\n",
       "      <td>2</td>\n",
       "    </tr>\n",
       "    <tr>\n",
       "      <th>3</th>\n",
       "      <td>0.055439</td>\n",
       "      <td>0.022579</td>\n",
       "      <td>0.021515</td>\n",
       "      <td>0.710773</td>\n",
       "      <td>1.405784</td>\n",
       "      <td>0.151975</td>\n",
       "      <td>0.007902</td>\n",
       "      <td>0.061273</td>\n",
       "      <td>1</td>\n",
       "    </tr>\n",
       "    <tr>\n",
       "      <th>4</th>\n",
       "      <td>0.506600</td>\n",
       "      <td>0.071000</td>\n",
       "      <td>0.158000</td>\n",
       "      <td>0.693100</td>\n",
       "      <td>1.934100</td>\n",
       "      <td>0.451600</td>\n",
       "      <td>0.044300</td>\n",
       "      <td>0.098200</td>\n",
       "      <td>2</td>\n",
       "    </tr>\n",
       "    <tr>\n",
       "      <th>...</th>\n",
       "      <td>...</td>\n",
       "      <td>...</td>\n",
       "      <td>...</td>\n",
       "      <td>...</td>\n",
       "      <td>...</td>\n",
       "      <td>...</td>\n",
       "      <td>...</td>\n",
       "      <td>...</td>\n",
       "      <td>...</td>\n",
       "    </tr>\n",
       "    <tr>\n",
       "      <th>388140</th>\n",
       "      <td>0.011100</td>\n",
       "      <td>-0.007600</td>\n",
       "      <td>-0.006900</td>\n",
       "      <td>0.000000</td>\n",
       "      <td>0.959600</td>\n",
       "      <td>-0.042100</td>\n",
       "      <td>-0.007200</td>\n",
       "      <td>0.171400</td>\n",
       "      <td>2</td>\n",
       "    </tr>\n",
       "    <tr>\n",
       "      <th>388141</th>\n",
       "      <td>0.898600</td>\n",
       "      <td>-0.036700</td>\n",
       "      <td>-0.217600</td>\n",
       "      <td>0.000000</td>\n",
       "      <td>3.720700</td>\n",
       "      <td>-0.115300</td>\n",
       "      <td>-0.058500</td>\n",
       "      <td>0.507100</td>\n",
       "      <td>2</td>\n",
       "    </tr>\n",
       "    <tr>\n",
       "      <th>388142</th>\n",
       "      <td>0.005100</td>\n",
       "      <td>-0.013000</td>\n",
       "      <td>-0.020300</td>\n",
       "      <td>0.000000</td>\n",
       "      <td>0.018900</td>\n",
       "      <td>0.360100</td>\n",
       "      <td>-0.013000</td>\n",
       "      <td>-0.036000</td>\n",
       "      <td>2</td>\n",
       "    </tr>\n",
       "    <tr>\n",
       "      <th>388143</th>\n",
       "      <td>-0.092700</td>\n",
       "      <td>0.000000</td>\n",
       "      <td>0.020800</td>\n",
       "      <td>0.000000</td>\n",
       "      <td>1.061500</td>\n",
       "      <td>0.436700</td>\n",
       "      <td>0.011700</td>\n",
       "      <td>0.026900</td>\n",
       "      <td>2</td>\n",
       "    </tr>\n",
       "    <tr>\n",
       "      <th>388144</th>\n",
       "      <td>0.681300</td>\n",
       "      <td>-0.006400</td>\n",
       "      <td>-0.024000</td>\n",
       "      <td>0.000000</td>\n",
       "      <td>3.688900</td>\n",
       "      <td>0.732000</td>\n",
       "      <td>0.002500</td>\n",
       "      <td>0.003400</td>\n",
       "      <td>2</td>\n",
       "    </tr>\n",
       "  </tbody>\n",
       "</table>\n",
       "<p>698829 rows × 9 columns</p>\n",
       "</div>"
      ],
      "text/plain": [
       "        Coef1_Springate  Coef2_Springate  Coef3_Springate  Coef4_Springate  \\\n",
       "0              0.033857         0.005717        -0.415464         0.245682   \n",
       "1              0.593800         0.002800        -0.049100         2.051700   \n",
       "2              0.436200         0.135000         0.361900         2.504800   \n",
       "3              0.055439         0.022579         0.021515         0.710773   \n",
       "4              0.506600         0.071000         0.158000         0.693100   \n",
       "...                 ...              ...              ...              ...   \n",
       "388140         0.011100        -0.007600        -0.006900         0.000000   \n",
       "388141         0.898600        -0.036700        -0.217600         0.000000   \n",
       "388142         0.005100        -0.013000        -0.020300         0.000000   \n",
       "388143        -0.092700         0.000000         0.020800         0.000000   \n",
       "388144         0.681300        -0.006400        -0.024000         0.000000   \n",
       "\n",
       "        Coef1_Amat  Coef2_Amat  Coef3_Amat  Coef4_Amat  Resultado  \n",
       "0         0.332314    0.265841   -0.089677   -0.341928          1  \n",
       "1         2.305900    0.136100   -0.020900   -0.153900          2  \n",
       "2         2.082800    0.404400    0.212800    0.526300          2  \n",
       "3         1.405784    0.151975    0.007902    0.061273          1  \n",
       "4         1.934100    0.451600    0.044300    0.098200          2  \n",
       "...            ...         ...         ...         ...        ...  \n",
       "388140    0.959600   -0.042100   -0.007200    0.171400          2  \n",
       "388141    3.720700   -0.115300   -0.058500    0.507100          2  \n",
       "388142    0.018900    0.360100   -0.013000   -0.036000          2  \n",
       "388143    1.061500    0.436700    0.011700    0.026900          2  \n",
       "388144    3.688900    0.732000    0.002500    0.003400          2  \n",
       "\n",
       "[698829 rows x 9 columns]"
      ]
     },
     "execution_count": 17,
     "metadata": {},
     "output_type": "execute_result"
    }
   ],
   "source": [
    "df3_total_SMOTE=pd.concat([df3_train_SMOTE, df3_test_SMOTE])\n",
    "df3_total_SMOTE"
   ]
  },
  {
   "cell_type": "code",
   "execution_count": 18,
   "id": "925a9d07",
   "metadata": {},
   "outputs": [],
   "source": [
    "X_train_SMOTE=df3_train_SMOTE.drop(columns=[\"Resultado\"])\n",
    "Y_train_SMOTE=df3_train_SMOTE.drop(columns=[\"Coef1_Amat\",\"Coef2_Amat\",\"Coef3_Amat\",\"Coef4_Amat\",\"Coef1_Springate\",\"Coef2_Springate\",\"Coef3_Springate\",\"Coef4_Springate\"])\n",
    "X_test_SMOTE=df3_test_SMOTE.drop(columns=[\"Resultado\"])\n",
    "Y_test_SMOTE=df3_test_SMOTE.drop(columns=[\"Coef1_Amat\",\"Coef2_Amat\",\"Coef3_Amat\",\"Coef4_Amat\",\"Coef1_Springate\",\"Coef2_Springate\",\"Coef3_Springate\",\"Coef4_Springate\"])"
   ]
  },
  {
   "cell_type": "markdown",
   "id": "e7ab296a",
   "metadata": {},
   "source": [
    "### 3.1) Valores Test de Springate"
   ]
  },
  {
   "cell_type": "markdown",
   "id": "1cfa5362",
   "metadata": {},
   "source": [
    "Calculamos si está comprometida la situación de la empresa según Amat.\n",
    "\n",
    "Su formula es:\n",
    "\n",
    "Z = - 0.862 + 1.03 x Coef1 + 3.07 x Coef2 + 0.66 x Coef3 + 0.4 x Coef4\n",
    "\n",
    "Z positivo empresa bien, Z negativo empresa mal.\n",
    "\n",
    "Cogemos otro Dataframe, y multiplicamos primero y luego sumamos."
   ]
  },
  {
   "cell_type": "code",
   "execution_count": 19,
   "id": "276e53ce",
   "metadata": {},
   "outputs": [
    {
     "name": "stdout",
     "output_type": "stream",
     "text": [
      "Accuracy: 0.3064899674794658\n",
      "F1 score: 0.005199594357886974\n",
      "Kappa: 0.0008979061931188026\n",
      "Confusion matrix:\n"
     ]
    },
    {
     "data": {
      "text/plain": [
       "array([[  141,    27],\n",
       "       [53926, 23703]], dtype=int64)"
      ]
     },
     "execution_count": 19,
     "metadata": {},
     "output_type": "execute_result"
    }
   ],
   "source": [
    "formula_Spr=X_test_SMOTE\n",
    "formula_Spr=formula_Spr.drop(columns=[\"Coef1_Amat\",\"Coef2_Amat\",\"Coef3_Amat\",\"Coef4_Amat\"])\n",
    "formula_Spr.loc[:,'Coef1_Springate'] *= 1.03\n",
    "formula_Spr.loc[:,'Coef2_Springate'] *= 3.07\n",
    "formula_Spr.loc[:,'Coef3_Springate'] *= 0.66\n",
    "formula_Spr.loc[:,'Coef4_Springate'] *= 0.4\n",
    "formula_Spr[\"constant\"]=-0.862\n",
    "formula_Spr[\"Z\"] = formula_Spr.sum(axis=1)\n",
    "\n",
    "formula_Spr[\"Y_pred_Springate\"] = 2\n",
    "formula_Spr.loc[formula_Spr[\"Z\"] <= 0, \"Y_pred_Springate\"] = 1\n",
    "Y_pred_formula_Spr=formula_Spr[\"Y_pred_Springate\"]\n",
    "print(\"Accuracy: \"+str(accuracy_score(Y_test_SMOTE, Y_pred_formula_Spr)))\n",
    "print(\"F1 score: \"+str(f1_score(Y_test_SMOTE, Y_pred_formula_Spr)))\n",
    "print(\"Kappa: \"+str(cohen_kappa_score(Y_test_SMOTE, Y_pred_formula_Spr)))\n",
    "print(\"Confusion matrix:\")\n",
    "confusion_matrix(Y_test_SMOTE, Y_pred_formula_Spr)"
   ]
  },
  {
   "cell_type": "markdown",
   "id": "b1b05652",
   "metadata": {},
   "source": [
    "### 3.2) Valores Test de Grover"
   ]
  },
  {
   "cell_type": "markdown",
   "id": "ed7262e4",
   "metadata": {},
   "source": [
    "Su formula es:\n",
    "\n",
    "Z = + 0.057 + 0.02 + 1.650 x Coef1 + 3.404 x Coef2 - 0.016 x Coef3\n",
    "\n",
    "Z positivo empresa bien, Z negativo empresa mal.\n",
    "\n",
    "Cogemos otro Dataframe, y multiplicamos primero y luego sumamos."
   ]
  },
  {
   "cell_type": "code",
   "execution_count": 20,
   "id": "32feb8ad",
   "metadata": {},
   "outputs": [
    {
     "name": "stdout",
     "output_type": "stream",
     "text": [
      "Accuracy: 0.902721184621515\n",
      "F1 score: 0.01867219917012448\n",
      "Kappa: 0.01450864802718177\n",
      "Confusion matrix:\n"
     ]
    },
    {
     "data": {
      "text/plain": [
       "array([[   72,    96],\n",
       "       [ 7472, 70157]], dtype=int64)"
      ]
     },
     "execution_count": 20,
     "metadata": {},
     "output_type": "execute_result"
    }
   ],
   "source": [
    "formula_Gro=X_test_SMOTE\n",
    "formula_Gro=formula_Gro.drop(columns=[\"Coef1_Amat\",\"Coef2_Amat\",\"Coef3_Springate\",\"Coef4_Springate\",\"Coef4_Amat\"])\n",
    "formula_Gro.loc[:,'Coef1_Springate'] *= 1.65\n",
    "formula_Gro.loc[:,'Coef2_Springate'] *= 3.404\n",
    "formula_Gro.loc[:,'Coef3_Amat'] *= -0.016\n",
    "formula_Gro[\"constant\"]=0.077\n",
    "formula_Gro[\"Z\"] = formula_Gro.sum(axis=1)\n",
    "\n",
    "formula_Gro[\"Y_pred_Grover\"] = 2\n",
    "formula_Gro.loc[formula_Gro[\"Z\"] <= 0, \"Y_pred_Grover\"] = 1\n",
    "Y_pred_formula_Gro=formula_Gro[\"Y_pred_Grover\"]\n",
    "print(\"Accuracy: \"+str(accuracy_score(Y_test_SMOTE, Y_pred_formula_Gro)))\n",
    "print(\"F1 score: \"+str(f1_score(Y_test_SMOTE, Y_pred_formula_Gro)))\n",
    "print(\"Kappa: \"+str(cohen_kappa_score(Y_test_SMOTE, Y_pred_formula_Gro)))\n",
    "print(\"Confusion matrix:\")\n",
    "confusion_matrix(Y_test_SMOTE, Y_pred_formula_Gro)"
   ]
  },
  {
   "cell_type": "markdown",
   "id": "1dba8b44",
   "metadata": {},
   "source": [
    "### 3.3) Valores Test de Amat"
   ]
  },
  {
   "cell_type": "markdown",
   "id": "f1692aa8",
   "metadata": {},
   "source": [
    "Calculamos si está comprometida la situación de la empresa según Amat.\n",
    "\n",
    "Su formula es:\n",
    "\n",
    "Z = - 3.9 + 1.28 x Coef1 + 6.1 x Coef2 + 6.5 x Coef3 + 4.8 x Coef4\n",
    "\n",
    "Z positivo empresa bien, Z negativo empresa mal.\n",
    "\n",
    "Cogemos otro Dataframe, y multiplicamos primero y luego sumamos."
   ]
  },
  {
   "cell_type": "code",
   "execution_count": 21,
   "id": "c0293c1c",
   "metadata": {},
   "outputs": [
    {
     "name": "stdout",
     "output_type": "stream",
     "text": [
      "Accuracy: 0.6004087561217013\n",
      "F1 score: 0.007787813986147905\n",
      "Kappa: 0.0035071056677364876\n",
      "Confusion matrix:\n"
     ]
    },
    {
     "data": {
      "text/plain": [
       "array([[  122,    46],\n",
       "       [31041, 46588]], dtype=int64)"
      ]
     },
     "execution_count": 21,
     "metadata": {},
     "output_type": "execute_result"
    }
   ],
   "source": [
    "formula_Ama=X_test_SMOTE\n",
    "formula_Ama=formula_Ama.drop(columns=[\"Coef1_Springate\",\"Coef2_Springate\",\"Coef3_Springate\",\"Coef4_Springate\"])\n",
    "formula_Ama.loc[:,'Coef1_Amat'] *= 1.28\n",
    "formula_Ama.loc[:,'Coef2_Amat'] *= 6.1\n",
    "formula_Ama.loc[:,'Coef3_Amat'] *= 6.5\n",
    "formula_Ama.loc[:,'Coef4_Amat'] *= 4.8\n",
    "formula_Ama[\"constant\"]=-3.9\n",
    "formula_Ama[\"Z\"] = formula_Ama.sum(axis=1)\n",
    "\n",
    "formula_Ama[\"Y_pred_Amat\"] = 2\n",
    "formula_Ama.loc[formula_Ama[\"Z\"] <= 0, \"Y_pred_Amat\"] = 1\n",
    "Y_pred_formula_Ama=formula_Ama[\"Y_pred_Amat\"]\n",
    "print(\"Accuracy: \"+str(accuracy_score(Y_test_SMOTE, Y_pred_formula_Ama)))\n",
    "print(\"F1 score: \"+str(f1_score(Y_test_SMOTE, Y_pred_formula_Ama)))\n",
    "print(\"Kappa: \"+str(cohen_kappa_score(Y_test_SMOTE, Y_pred_formula_Ama)))\n",
    "print(\"Confusion matrix:\")\n",
    "confusion_matrix(Y_test_SMOTE, Y_pred_formula_Ama)"
   ]
  },
  {
   "cell_type": "markdown",
   "id": "e6176ccf",
   "metadata": {},
   "source": [
    "### 3.4) Combinado"
   ]
  },
  {
   "cell_type": "code",
   "execution_count": 22,
   "id": "2b14830d",
   "metadata": {},
   "outputs": [
    {
     "name": "stderr",
     "output_type": "stream",
     "text": [
      "IOPub data rate exceeded.\n",
      "The notebook server will temporarily stop sending output\n",
      "to the client in order to avoid crashing it.\n",
      "To change this limit, set the config variable\n",
      "`--NotebookApp.iopub_data_rate_limit`.\n",
      "\n",
      "Current values:\n",
      "NotebookApp.iopub_data_rate_limit=1000000.0 (bytes/sec)\n",
      "NotebookApp.rate_limit_window=3.0 (secs)\n",
      "\n"
     ]
    }
   ],
   "source": [
    "labels_total=pd.concat([Y_test_SMOTE,Y_pred_formula_Spr, Y_pred_formula_Gro,Y_pred_formula_Ama], axis=1)\n",
    "print(labels_total.to_string())"
   ]
  },
  {
   "cell_type": "code",
   "execution_count": 23,
   "id": "d3c8373a",
   "metadata": {},
   "outputs": [],
   "source": [
    "bancarrota=labels_total.loc[(labels_total['Resultado']==1)]"
   ]
  },
  {
   "cell_type": "code",
   "execution_count": 24,
   "id": "173b0328",
   "metadata": {},
   "outputs": [
    {
     "name": "stdout",
     "output_type": "stream",
     "text": [
      "153\n",
      "65\n"
     ]
    }
   ],
   "source": [
    "at_least_1_bancarrota=sum(bancarrota.sum(axis=1)<7)\n",
    "print(at_least_1_bancarrota)\n",
    "all_match_bancarrota=sum(bancarrota.sum(axis=1)==4)\n",
    "print(all_match_bancarrota)"
   ]
  },
  {
   "cell_type": "markdown",
   "id": "50190b9c",
   "metadata": {},
   "source": [
    "### 4) Modelos ML"
   ]
  },
  {
   "cell_type": "markdown",
   "id": "e76e3d7e",
   "metadata": {},
   "source": [
    "### 4.1) Estudio con Springate"
   ]
  },
  {
   "cell_type": "code",
   "execution_count": 25,
   "id": "715e6cfd",
   "metadata": {},
   "outputs": [
    {
     "data": {
      "text/html": [
       "<div>\n",
       "<style scoped>\n",
       "    .dataframe tbody tr th:only-of-type {\n",
       "        vertical-align: middle;\n",
       "    }\n",
       "\n",
       "    .dataframe tbody tr th {\n",
       "        vertical-align: top;\n",
       "    }\n",
       "\n",
       "    .dataframe thead th {\n",
       "        text-align: right;\n",
       "    }\n",
       "</style>\n",
       "<table border=\"1\" class=\"dataframe\">\n",
       "  <thead>\n",
       "    <tr style=\"text-align: right;\">\n",
       "      <th></th>\n",
       "      <th>Coef1_Springate</th>\n",
       "      <th>Coef2_Springate</th>\n",
       "      <th>Coef3_Springate</th>\n",
       "      <th>Coef4_Springate</th>\n",
       "    </tr>\n",
       "  </thead>\n",
       "  <tbody>\n",
       "    <tr>\n",
       "      <th>0</th>\n",
       "      <td>0.033857</td>\n",
       "      <td>0.005717</td>\n",
       "      <td>-0.415464</td>\n",
       "      <td>0.245682</td>\n",
       "    </tr>\n",
       "    <tr>\n",
       "      <th>1</th>\n",
       "      <td>0.593800</td>\n",
       "      <td>0.002800</td>\n",
       "      <td>-0.049100</td>\n",
       "      <td>2.051700</td>\n",
       "    </tr>\n",
       "    <tr>\n",
       "      <th>2</th>\n",
       "      <td>0.436200</td>\n",
       "      <td>0.135000</td>\n",
       "      <td>0.361900</td>\n",
       "      <td>2.504800</td>\n",
       "    </tr>\n",
       "    <tr>\n",
       "      <th>3</th>\n",
       "      <td>0.055439</td>\n",
       "      <td>0.022579</td>\n",
       "      <td>0.021515</td>\n",
       "      <td>0.710773</td>\n",
       "    </tr>\n",
       "    <tr>\n",
       "      <th>4</th>\n",
       "      <td>0.506600</td>\n",
       "      <td>0.071000</td>\n",
       "      <td>0.158000</td>\n",
       "      <td>0.693100</td>\n",
       "    </tr>\n",
       "    <tr>\n",
       "      <th>...</th>\n",
       "      <td>...</td>\n",
       "      <td>...</td>\n",
       "      <td>...</td>\n",
       "      <td>...</td>\n",
       "    </tr>\n",
       "    <tr>\n",
       "      <th>621027</th>\n",
       "      <td>0.265400</td>\n",
       "      <td>0.080200</td>\n",
       "      <td>0.205000</td>\n",
       "      <td>1.190100</td>\n",
       "    </tr>\n",
       "    <tr>\n",
       "      <th>621028</th>\n",
       "      <td>0.549700</td>\n",
       "      <td>0.062200</td>\n",
       "      <td>0.140600</td>\n",
       "      <td>1.832100</td>\n",
       "    </tr>\n",
       "    <tr>\n",
       "      <th>621029</th>\n",
       "      <td>0.127641</td>\n",
       "      <td>0.045261</td>\n",
       "      <td>0.043149</td>\n",
       "      <td>0.716546</td>\n",
       "    </tr>\n",
       "    <tr>\n",
       "      <th>621030</th>\n",
       "      <td>-0.027800</td>\n",
       "      <td>0.216200</td>\n",
       "      <td>0.598200</td>\n",
       "      <td>1.808800</td>\n",
       "    </tr>\n",
       "    <tr>\n",
       "      <th>621031</th>\n",
       "      <td>-0.086800</td>\n",
       "      <td>0.016400</td>\n",
       "      <td>0.020500</td>\n",
       "      <td>0.637700</td>\n",
       "    </tr>\n",
       "  </tbody>\n",
       "</table>\n",
       "<p>621032 rows × 4 columns</p>\n",
       "</div>"
      ],
      "text/plain": [
       "        Coef1_Springate  Coef2_Springate  Coef3_Springate  Coef4_Springate\n",
       "0              0.033857         0.005717        -0.415464         0.245682\n",
       "1              0.593800         0.002800        -0.049100         2.051700\n",
       "2              0.436200         0.135000         0.361900         2.504800\n",
       "3              0.055439         0.022579         0.021515         0.710773\n",
       "4              0.506600         0.071000         0.158000         0.693100\n",
       "...                 ...              ...              ...              ...\n",
       "621027         0.265400         0.080200         0.205000         1.190100\n",
       "621028         0.549700         0.062200         0.140600         1.832100\n",
       "621029         0.127641         0.045261         0.043149         0.716546\n",
       "621030        -0.027800         0.216200         0.598200         1.808800\n",
       "621031        -0.086800         0.016400         0.020500         0.637700\n",
       "\n",
       "[621032 rows x 4 columns]"
      ]
     },
     "execution_count": 25,
     "metadata": {},
     "output_type": "execute_result"
    }
   ],
   "source": [
    "X_train_SMOTE_Springate=X_train_SMOTE.drop(columns=[\"Coef1_Amat\",\"Coef2_Amat\",\"Coef3_Amat\",\"Coef4_Amat\"])\n",
    "X_train_SMOTE_Springate"
   ]
  },
  {
   "cell_type": "code",
   "execution_count": 26,
   "id": "dc53e9f2",
   "metadata": {},
   "outputs": [
    {
     "data": {
      "text/html": [
       "<div>\n",
       "<style scoped>\n",
       "    .dataframe tbody tr th:only-of-type {\n",
       "        vertical-align: middle;\n",
       "    }\n",
       "\n",
       "    .dataframe tbody tr th {\n",
       "        vertical-align: top;\n",
       "    }\n",
       "\n",
       "    .dataframe thead th {\n",
       "        text-align: right;\n",
       "    }\n",
       "</style>\n",
       "<table border=\"1\" class=\"dataframe\">\n",
       "  <thead>\n",
       "    <tr style=\"text-align: right;\">\n",
       "      <th></th>\n",
       "      <th>Coef1_Springate</th>\n",
       "      <th>Coef2_Springate</th>\n",
       "      <th>Coef3_Springate</th>\n",
       "      <th>Coef4_Springate</th>\n",
       "    </tr>\n",
       "  </thead>\n",
       "  <tbody>\n",
       "    <tr>\n",
       "      <th>674</th>\n",
       "      <td>0.6084</td>\n",
       "      <td>-0.3628</td>\n",
       "      <td>-0.2173</td>\n",
       "      <td>0.5857</td>\n",
       "    </tr>\n",
       "    <tr>\n",
       "      <th>675</th>\n",
       "      <td>0.1225</td>\n",
       "      <td>0.0733</td>\n",
       "      <td>0.1669</td>\n",
       "      <td>2.6911</td>\n",
       "    </tr>\n",
       "    <tr>\n",
       "      <th>676</th>\n",
       "      <td>0.0473</td>\n",
       "      <td>-0.0602</td>\n",
       "      <td>-0.1312</td>\n",
       "      <td>0.0743</td>\n",
       "    </tr>\n",
       "    <tr>\n",
       "      <th>677</th>\n",
       "      <td>-0.0577</td>\n",
       "      <td>-0.1091</td>\n",
       "      <td>-0.3469</td>\n",
       "      <td>0.6132</td>\n",
       "    </tr>\n",
       "    <tr>\n",
       "      <th>678</th>\n",
       "      <td>0.0582</td>\n",
       "      <td>0.0702</td>\n",
       "      <td>0.0354</td>\n",
       "      <td>0.7831</td>\n",
       "    </tr>\n",
       "    <tr>\n",
       "      <th>...</th>\n",
       "      <td>...</td>\n",
       "      <td>...</td>\n",
       "      <td>...</td>\n",
       "      <td>...</td>\n",
       "    </tr>\n",
       "    <tr>\n",
       "      <th>388140</th>\n",
       "      <td>0.0111</td>\n",
       "      <td>-0.0076</td>\n",
       "      <td>-0.0069</td>\n",
       "      <td>0.0000</td>\n",
       "    </tr>\n",
       "    <tr>\n",
       "      <th>388141</th>\n",
       "      <td>0.8986</td>\n",
       "      <td>-0.0367</td>\n",
       "      <td>-0.2176</td>\n",
       "      <td>0.0000</td>\n",
       "    </tr>\n",
       "    <tr>\n",
       "      <th>388142</th>\n",
       "      <td>0.0051</td>\n",
       "      <td>-0.0130</td>\n",
       "      <td>-0.0203</td>\n",
       "      <td>0.0000</td>\n",
       "    </tr>\n",
       "    <tr>\n",
       "      <th>388143</th>\n",
       "      <td>-0.0927</td>\n",
       "      <td>0.0000</td>\n",
       "      <td>0.0208</td>\n",
       "      <td>0.0000</td>\n",
       "    </tr>\n",
       "    <tr>\n",
       "      <th>388144</th>\n",
       "      <td>0.6813</td>\n",
       "      <td>-0.0064</td>\n",
       "      <td>-0.0240</td>\n",
       "      <td>0.0000</td>\n",
       "    </tr>\n",
       "  </tbody>\n",
       "</table>\n",
       "<p>77797 rows × 4 columns</p>\n",
       "</div>"
      ],
      "text/plain": [
       "        Coef1_Springate  Coef2_Springate  Coef3_Springate  Coef4_Springate\n",
       "674              0.6084          -0.3628          -0.2173           0.5857\n",
       "675              0.1225           0.0733           0.1669           2.6911\n",
       "676              0.0473          -0.0602          -0.1312           0.0743\n",
       "677             -0.0577          -0.1091          -0.3469           0.6132\n",
       "678              0.0582           0.0702           0.0354           0.7831\n",
       "...                 ...              ...              ...              ...\n",
       "388140           0.0111          -0.0076          -0.0069           0.0000\n",
       "388141           0.8986          -0.0367          -0.2176           0.0000\n",
       "388142           0.0051          -0.0130          -0.0203           0.0000\n",
       "388143          -0.0927           0.0000           0.0208           0.0000\n",
       "388144           0.6813          -0.0064          -0.0240           0.0000\n",
       "\n",
       "[77797 rows x 4 columns]"
      ]
     },
     "execution_count": 26,
     "metadata": {},
     "output_type": "execute_result"
    }
   ],
   "source": [
    "X_test_SMOTE_Springate=X_test_SMOTE.drop(columns=[\"Coef1_Amat\",\"Coef2_Amat\",\"Coef3_Amat\",\"Coef4_Amat\"])\n",
    "X_test_SMOTE_Springate"
   ]
  },
  {
   "cell_type": "markdown",
   "id": "6b21768c",
   "metadata": {},
   "source": [
    "K Nearest Neighbours"
   ]
  },
  {
   "cell_type": "code",
   "execution_count": 27,
   "id": "1f98489c",
   "metadata": {},
   "outputs": [
    {
     "name": "stderr",
     "output_type": "stream",
     "text": [
      "C:\\Users\\inima\\anaconda3\\envs\\lamda_ssl\\lib\\site-packages\\sklearn\\neighbors\\_classification.py:198: DataConversionWarning: A column-vector y was passed when a 1d array was expected. Please change the shape of y to (n_samples,), for example using ravel().\n",
      "  return self._fit(X, y)\n"
     ]
    }
   ],
   "source": [
    "knn = KNeighborsClassifier()\n",
    "knn.fit(X_train_SMOTE_Springate, Y_train_SMOTE)\n",
    "y_pred = knn.predict(X_test_SMOTE_Springate)"
   ]
  },
  {
   "cell_type": "code",
   "execution_count": 28,
   "id": "3696b8b9",
   "metadata": {},
   "outputs": [
    {
     "name": "stdout",
     "output_type": "stream",
     "text": [
      "Accuracy: 0.8886075298533362\n",
      "F1 score: 0.016568315932818885\n",
      "Kappa: 0.01238419016165393\n",
      "Confusion matrix:\n"
     ]
    },
    {
     "data": {
      "text/plain": [
       "array([[   73,    95],\n",
       "       [ 8571, 69058]], dtype=int64)"
      ]
     },
     "execution_count": 28,
     "metadata": {},
     "output_type": "execute_result"
    }
   ],
   "source": [
    "print(\"Accuracy: \"+str(accuracy_score(Y_test_SMOTE, y_pred)))\n",
    "print(\"F1 score: \"+str(f1_score(Y_test_SMOTE, y_pred)))\n",
    "print(\"Kappa: \"+str(cohen_kappa_score(Y_test_SMOTE, y_pred)))\n",
    "print(\"Confusion matrix:\")\n",
    "confusion_matrix(Y_test_SMOTE, y_pred)"
   ]
  },
  {
   "cell_type": "markdown",
   "id": "5c38fe11",
   "metadata": {},
   "source": [
    "Random Forest"
   ]
  },
  {
   "cell_type": "code",
   "execution_count": 29,
   "id": "4b48a0b8",
   "metadata": {},
   "outputs": [
    {
     "name": "stderr",
     "output_type": "stream",
     "text": [
      "C:\\Users\\inima\\anaconda3\\envs\\lamda_ssl\\lib\\site-packages\\ipykernel_launcher.py:2: DataConversionWarning: A column-vector y was passed when a 1d array was expected. Please change the shape of y to (n_samples,), for example using ravel().\n",
      "  \n"
     ]
    }
   ],
   "source": [
    "rf = RandomForestClassifier()\n",
    "rf.fit(X_train_SMOTE_Springate, Y_train_SMOTE)\n",
    "y_pred = rf.predict(X_test_SMOTE_Springate)"
   ]
  },
  {
   "cell_type": "code",
   "execution_count": 30,
   "id": "9ebe953f",
   "metadata": {},
   "outputs": [
    {
     "name": "stdout",
     "output_type": "stream",
     "text": [
      "Accuracy: 0.9622993174544006\n",
      "F1 score: 0.044936502767828075\n",
      "Kappa: 0.04102131494704364\n",
      "Confusion matrix:\n"
     ]
    },
    {
     "data": {
      "text/plain": [
       "array([[   69,    99],\n",
       "       [ 2834, 74795]], dtype=int64)"
      ]
     },
     "execution_count": 30,
     "metadata": {},
     "output_type": "execute_result"
    }
   ],
   "source": [
    "print(\"Accuracy: \"+str(accuracy_score(Y_test_SMOTE, y_pred)))\n",
    "print(\"F1 score: \"+str(f1_score(Y_test_SMOTE, y_pred)))\n",
    "print(\"Kappa: \"+str(cohen_kappa_score(Y_test_SMOTE, y_pred)))\n",
    "print(\"Confusion matrix:\")\n",
    "confusion_matrix(Y_test_SMOTE, y_pred)"
   ]
  },
  {
   "cell_type": "markdown",
   "id": "164c8f0b",
   "metadata": {},
   "source": [
    "Decision Forest"
   ]
  },
  {
   "cell_type": "code",
   "execution_count": 31,
   "id": "d38034f0",
   "metadata": {},
   "outputs": [],
   "source": [
    "clf = tree.DecisionTreeClassifier()\n",
    "clf.fit(X_train_SMOTE_Springate, Y_train_SMOTE)\n",
    "y_pred = clf.predict(X_test_SMOTE_Springate)"
   ]
  },
  {
   "cell_type": "code",
   "execution_count": 32,
   "id": "03b2aa2d",
   "metadata": {},
   "outputs": [
    {
     "name": "stdout",
     "output_type": "stream",
     "text": [
      "Accuracy: 0.9430055143514532\n",
      "F1 score: 0.03018372703412073\n",
      "Kappa: 0.02613221141671107\n",
      "Confusion matrix:\n"
     ]
    },
    {
     "data": {
      "text/plain": [
       "array([[   69,    99],\n",
       "       [ 4335, 73294]], dtype=int64)"
      ]
     },
     "execution_count": 32,
     "metadata": {},
     "output_type": "execute_result"
    }
   ],
   "source": [
    "print(\"Accuracy: \"+str(accuracy_score(Y_test_SMOTE, y_pred)))\n",
    "print(\"F1 score: \"+str(f1_score(Y_test_SMOTE, y_pred)))\n",
    "print(\"Kappa: \"+str(cohen_kappa_score(Y_test_SMOTE, y_pred)))\n",
    "print(\"Confusion matrix:\")\n",
    "confusion_matrix(Y_test_SMOTE, y_pred)"
   ]
  },
  {
   "cell_type": "markdown",
   "id": "9ebda1f8",
   "metadata": {},
   "source": [
    "Naive Bayes"
   ]
  },
  {
   "cell_type": "code",
   "execution_count": 33,
   "id": "bc47e524",
   "metadata": {},
   "outputs": [
    {
     "name": "stderr",
     "output_type": "stream",
     "text": [
      "C:\\Users\\inima\\anaconda3\\envs\\lamda_ssl\\lib\\site-packages\\sklearn\\utils\\validation.py:993: DataConversionWarning: A column-vector y was passed when a 1d array was expected. Please change the shape of y to (n_samples, ), for example using ravel().\n",
      "  y = column_or_1d(y, warn=True)\n"
     ]
    }
   ],
   "source": [
    "gnb = GaussianNB()\n",
    "gnb.fit(X_train_SMOTE_Springate, Y_train_SMOTE)\n",
    "y_pred = gnb.predict(X_test_SMOTE_Springate)"
   ]
  },
  {
   "cell_type": "code",
   "execution_count": 34,
   "id": "0eec5634",
   "metadata": {},
   "outputs": [
    {
     "name": "stdout",
     "output_type": "stream",
     "text": [
      "Accuracy: 0.8289137113256295\n",
      "F1 score: 0.014949674363528715\n",
      "Kappa: 0.01073020758348342\n",
      "Confusion matrix:\n"
     ]
    },
    {
     "data": {
      "text/plain": [
       "array([[  101,    67],\n",
       "       [13243, 64386]], dtype=int64)"
      ]
     },
     "execution_count": 34,
     "metadata": {},
     "output_type": "execute_result"
    }
   ],
   "source": [
    "print(\"Accuracy: \"+str(accuracy_score(Y_test_SMOTE, y_pred)))\n",
    "print(\"F1 score: \"+str(f1_score(Y_test_SMOTE, y_pred)))\n",
    "print(\"Kappa: \"+str(cohen_kappa_score(Y_test_SMOTE, y_pred)))\n",
    "print(\"Confusion matrix:\")\n",
    "confusion_matrix(Y_test_SMOTE, y_pred)"
   ]
  },
  {
   "cell_type": "markdown",
   "id": "aa980ebe",
   "metadata": {},
   "source": [
    "Multi-layer Perceptron Classifier Neural newtork"
   ]
  },
  {
   "cell_type": "code",
   "execution_count": 35,
   "id": "ed689d8e",
   "metadata": {},
   "outputs": [
    {
     "name": "stderr",
     "output_type": "stream",
     "text": [
      "C:\\Users\\inima\\anaconda3\\envs\\lamda_ssl\\lib\\site-packages\\sklearn\\neural_network\\_multilayer_perceptron.py:1109: DataConversionWarning: A column-vector y was passed when a 1d array was expected. Please change the shape of y to (n_samples, ), for example using ravel().\n",
      "  y = column_or_1d(y, warn=True)\n",
      "C:\\Users\\inima\\anaconda3\\envs\\lamda_ssl\\lib\\site-packages\\sklearn\\neural_network\\_multilayer_perceptron.py:696: ConvergenceWarning: Stochastic Optimizer: Maximum iterations (200) reached and the optimization hasn't converged yet.\n",
      "  ConvergenceWarning,\n"
     ]
    }
   ],
   "source": [
    "mlp = MLPClassifier()\n",
    "mlp.fit(X_train_SMOTE_Springate, Y_train_SMOTE)\n",
    "y_pred = mlp.predict(X_test_SMOTE_Springate)"
   ]
  },
  {
   "cell_type": "code",
   "execution_count": 36,
   "id": "f64b829a",
   "metadata": {},
   "outputs": [
    {
     "name": "stdout",
     "output_type": "stream",
     "text": [
      "Accuracy: 0.6585986606167333\n",
      "F1 score: 0.009324878776575906\n",
      "Kappa: 0.005054704104210939\n",
      "Confusion matrix:\n"
     ]
    },
    {
     "data": {
      "text/plain": [
       "array([[  125,    43],\n",
       "       [26517, 51112]], dtype=int64)"
      ]
     },
     "execution_count": 36,
     "metadata": {},
     "output_type": "execute_result"
    }
   ],
   "source": [
    "print(\"Accuracy: \"+str(accuracy_score(Y_test_SMOTE, y_pred)))\n",
    "print(\"F1 score: \"+str(f1_score(Y_test_SMOTE, y_pred)))\n",
    "print(\"Kappa: \"+str(cohen_kappa_score(Y_test_SMOTE, y_pred)))\n",
    "print(\"Confusion matrix:\")\n",
    "confusion_matrix(Y_test_SMOTE, y_pred)"
   ]
  },
  {
   "cell_type": "markdown",
   "id": "f2f9a5ef",
   "metadata": {},
   "source": [
    "Linear Discriminant Analysis"
   ]
  },
  {
   "cell_type": "code",
   "execution_count": 37,
   "id": "919ccbf1",
   "metadata": {},
   "outputs": [
    {
     "name": "stderr",
     "output_type": "stream",
     "text": [
      "C:\\Users\\inima\\anaconda3\\envs\\lamda_ssl\\lib\\site-packages\\sklearn\\utils\\validation.py:993: DataConversionWarning: A column-vector y was passed when a 1d array was expected. Please change the shape of y to (n_samples, ), for example using ravel().\n",
      "  y = column_or_1d(y, warn=True)\n"
     ]
    }
   ],
   "source": [
    "lda = LinearDiscriminantAnalysis()\n",
    "lda.fit(X_train_SMOTE_Springate, Y_train_SMOTE)\n",
    "y_pred = lda.predict(X_test_SMOTE_Springate)"
   ]
  },
  {
   "cell_type": "code",
   "execution_count": 38,
   "id": "be094f2c",
   "metadata": {},
   "outputs": [
    {
     "name": "stdout",
     "output_type": "stream",
     "text": [
      "Accuracy: 0.6345231821278455\n",
      "F1 score: 0.008439407149084569\n",
      "Kappa: 0.004163655331926863\n",
      "Confusion matrix:\n"
     ]
    },
    {
     "data": {
      "text/plain": [
       "array([[  121,    47],\n",
       "       [28386, 49243]], dtype=int64)"
      ]
     },
     "execution_count": 38,
     "metadata": {},
     "output_type": "execute_result"
    }
   ],
   "source": [
    "print(\"Accuracy: \"+str(accuracy_score(Y_test_SMOTE, y_pred)))\n",
    "print(\"F1 score: \"+str(f1_score(Y_test_SMOTE, y_pred)))\n",
    "print(\"Kappa: \"+str(cohen_kappa_score(Y_test_SMOTE, y_pred)))\n",
    "print(\"Confusion matrix:\")\n",
    "confusion_matrix(Y_test_SMOTE, y_pred)"
   ]
  },
  {
   "cell_type": "markdown",
   "id": "5c76a1b5",
   "metadata": {},
   "source": [
    "## 4.2) Estudio con Grover"
   ]
  },
  {
   "cell_type": "code",
   "execution_count": 39,
   "id": "d858fdae",
   "metadata": {},
   "outputs": [
    {
     "data": {
      "text/html": [
       "<div>\n",
       "<style scoped>\n",
       "    .dataframe tbody tr th:only-of-type {\n",
       "        vertical-align: middle;\n",
       "    }\n",
       "\n",
       "    .dataframe tbody tr th {\n",
       "        vertical-align: top;\n",
       "    }\n",
       "\n",
       "    .dataframe thead th {\n",
       "        text-align: right;\n",
       "    }\n",
       "</style>\n",
       "<table border=\"1\" class=\"dataframe\">\n",
       "  <thead>\n",
       "    <tr style=\"text-align: right;\">\n",
       "      <th></th>\n",
       "      <th>Coef1_Springate</th>\n",
       "      <th>Coef2_Springate</th>\n",
       "      <th>Coef3_Amat</th>\n",
       "    </tr>\n",
       "  </thead>\n",
       "  <tbody>\n",
       "    <tr>\n",
       "      <th>0</th>\n",
       "      <td>0.033857</td>\n",
       "      <td>0.005717</td>\n",
       "      <td>-0.089677</td>\n",
       "    </tr>\n",
       "    <tr>\n",
       "      <th>1</th>\n",
       "      <td>0.593800</td>\n",
       "      <td>0.002800</td>\n",
       "      <td>-0.020900</td>\n",
       "    </tr>\n",
       "    <tr>\n",
       "      <th>2</th>\n",
       "      <td>0.436200</td>\n",
       "      <td>0.135000</td>\n",
       "      <td>0.212800</td>\n",
       "    </tr>\n",
       "    <tr>\n",
       "      <th>3</th>\n",
       "      <td>0.055439</td>\n",
       "      <td>0.022579</td>\n",
       "      <td>0.007902</td>\n",
       "    </tr>\n",
       "    <tr>\n",
       "      <th>4</th>\n",
       "      <td>0.506600</td>\n",
       "      <td>0.071000</td>\n",
       "      <td>0.044300</td>\n",
       "    </tr>\n",
       "    <tr>\n",
       "      <th>...</th>\n",
       "      <td>...</td>\n",
       "      <td>...</td>\n",
       "      <td>...</td>\n",
       "    </tr>\n",
       "    <tr>\n",
       "      <th>621027</th>\n",
       "      <td>0.265400</td>\n",
       "      <td>0.080200</td>\n",
       "      <td>0.082400</td>\n",
       "    </tr>\n",
       "    <tr>\n",
       "      <th>621028</th>\n",
       "      <td>0.549700</td>\n",
       "      <td>0.062200</td>\n",
       "      <td>0.049700</td>\n",
       "    </tr>\n",
       "    <tr>\n",
       "      <th>621029</th>\n",
       "      <td>0.127641</td>\n",
       "      <td>0.045261</td>\n",
       "      <td>0.013702</td>\n",
       "    </tr>\n",
       "    <tr>\n",
       "      <th>621030</th>\n",
       "      <td>-0.027800</td>\n",
       "      <td>0.216200</td>\n",
       "      <td>0.188400</td>\n",
       "    </tr>\n",
       "    <tr>\n",
       "      <th>621031</th>\n",
       "      <td>-0.086800</td>\n",
       "      <td>0.016400</td>\n",
       "      <td>0.010700</td>\n",
       "    </tr>\n",
       "  </tbody>\n",
       "</table>\n",
       "<p>621032 rows × 3 columns</p>\n",
       "</div>"
      ],
      "text/plain": [
       "        Coef1_Springate  Coef2_Springate  Coef3_Amat\n",
       "0              0.033857         0.005717   -0.089677\n",
       "1              0.593800         0.002800   -0.020900\n",
       "2              0.436200         0.135000    0.212800\n",
       "3              0.055439         0.022579    0.007902\n",
       "4              0.506600         0.071000    0.044300\n",
       "...                 ...              ...         ...\n",
       "621027         0.265400         0.080200    0.082400\n",
       "621028         0.549700         0.062200    0.049700\n",
       "621029         0.127641         0.045261    0.013702\n",
       "621030        -0.027800         0.216200    0.188400\n",
       "621031        -0.086800         0.016400    0.010700\n",
       "\n",
       "[621032 rows x 3 columns]"
      ]
     },
     "execution_count": 39,
     "metadata": {},
     "output_type": "execute_result"
    }
   ],
   "source": [
    "X_train_SMOTE_Grover=X_train_SMOTE.drop(columns=[\"Coef1_Amat\",\"Coef2_Amat\",\"Coef3_Springate\",\"Coef4_Springate\",\"Coef4_Amat\"])\n",
    "X_train_SMOTE_Grover"
   ]
  },
  {
   "cell_type": "code",
   "execution_count": 40,
   "id": "048edad3",
   "metadata": {},
   "outputs": [
    {
     "data": {
      "text/html": [
       "<div>\n",
       "<style scoped>\n",
       "    .dataframe tbody tr th:only-of-type {\n",
       "        vertical-align: middle;\n",
       "    }\n",
       "\n",
       "    .dataframe tbody tr th {\n",
       "        vertical-align: top;\n",
       "    }\n",
       "\n",
       "    .dataframe thead th {\n",
       "        text-align: right;\n",
       "    }\n",
       "</style>\n",
       "<table border=\"1\" class=\"dataframe\">\n",
       "  <thead>\n",
       "    <tr style=\"text-align: right;\">\n",
       "      <th></th>\n",
       "      <th>Coef1_Springate</th>\n",
       "      <th>Coef2_Springate</th>\n",
       "      <th>Coef3_Amat</th>\n",
       "    </tr>\n",
       "  </thead>\n",
       "  <tbody>\n",
       "    <tr>\n",
       "      <th>674</th>\n",
       "      <td>0.6084</td>\n",
       "      <td>-0.3628</td>\n",
       "      <td>-0.2731</td>\n",
       "    </tr>\n",
       "    <tr>\n",
       "      <th>675</th>\n",
       "      <td>0.1225</td>\n",
       "      <td>0.0733</td>\n",
       "      <td>0.0469</td>\n",
       "    </tr>\n",
       "    <tr>\n",
       "      <th>676</th>\n",
       "      <td>0.0473</td>\n",
       "      <td>-0.0602</td>\n",
       "      <td>-0.0751</td>\n",
       "    </tr>\n",
       "    <tr>\n",
       "      <th>677</th>\n",
       "      <td>-0.0577</td>\n",
       "      <td>-0.1091</td>\n",
       "      <td>-0.1095</td>\n",
       "    </tr>\n",
       "    <tr>\n",
       "      <th>678</th>\n",
       "      <td>0.0582</td>\n",
       "      <td>0.0702</td>\n",
       "      <td>0.0156</td>\n",
       "    </tr>\n",
       "    <tr>\n",
       "      <th>...</th>\n",
       "      <td>...</td>\n",
       "      <td>...</td>\n",
       "      <td>...</td>\n",
       "    </tr>\n",
       "    <tr>\n",
       "      <th>388140</th>\n",
       "      <td>0.0111</td>\n",
       "      <td>-0.0076</td>\n",
       "      <td>-0.0072</td>\n",
       "    </tr>\n",
       "    <tr>\n",
       "      <th>388141</th>\n",
       "      <td>0.8986</td>\n",
       "      <td>-0.0367</td>\n",
       "      <td>-0.0585</td>\n",
       "    </tr>\n",
       "    <tr>\n",
       "      <th>388142</th>\n",
       "      <td>0.0051</td>\n",
       "      <td>-0.0130</td>\n",
       "      <td>-0.0130</td>\n",
       "    </tr>\n",
       "    <tr>\n",
       "      <th>388143</th>\n",
       "      <td>-0.0927</td>\n",
       "      <td>0.0000</td>\n",
       "      <td>0.0117</td>\n",
       "    </tr>\n",
       "    <tr>\n",
       "      <th>388144</th>\n",
       "      <td>0.6813</td>\n",
       "      <td>-0.0064</td>\n",
       "      <td>0.0025</td>\n",
       "    </tr>\n",
       "  </tbody>\n",
       "</table>\n",
       "<p>77797 rows × 3 columns</p>\n",
       "</div>"
      ],
      "text/plain": [
       "        Coef1_Springate  Coef2_Springate  Coef3_Amat\n",
       "674              0.6084          -0.3628     -0.2731\n",
       "675              0.1225           0.0733      0.0469\n",
       "676              0.0473          -0.0602     -0.0751\n",
       "677             -0.0577          -0.1091     -0.1095\n",
       "678              0.0582           0.0702      0.0156\n",
       "...                 ...              ...         ...\n",
       "388140           0.0111          -0.0076     -0.0072\n",
       "388141           0.8986          -0.0367     -0.0585\n",
       "388142           0.0051          -0.0130     -0.0130\n",
       "388143          -0.0927           0.0000      0.0117\n",
       "388144           0.6813          -0.0064      0.0025\n",
       "\n",
       "[77797 rows x 3 columns]"
      ]
     },
     "execution_count": 40,
     "metadata": {},
     "output_type": "execute_result"
    }
   ],
   "source": [
    "X_test_SMOTE_Grover=X_test_SMOTE.drop(columns=[\"Coef1_Amat\",\"Coef2_Amat\",\"Coef3_Springate\",\"Coef4_Springate\",\"Coef4_Amat\"])\n",
    "X_test_SMOTE_Grover"
   ]
  },
  {
   "cell_type": "markdown",
   "id": "ba8f25b3",
   "metadata": {},
   "source": [
    "K Nearest Neighbours"
   ]
  },
  {
   "cell_type": "code",
   "execution_count": 41,
   "id": "6f26a11c",
   "metadata": {},
   "outputs": [
    {
     "name": "stderr",
     "output_type": "stream",
     "text": [
      "C:\\Users\\inima\\anaconda3\\envs\\lamda_ssl\\lib\\site-packages\\sklearn\\neighbors\\_classification.py:198: DataConversionWarning: A column-vector y was passed when a 1d array was expected. Please change the shape of y to (n_samples,), for example using ravel().\n",
      "  return self._fit(X, y)\n"
     ]
    }
   ],
   "source": [
    "knn = KNeighborsClassifier()\n",
    "knn.fit(X_train_SMOTE_Grover, Y_train_SMOTE)\n",
    "y_pred = knn.predict(X_test_SMOTE_Grover)"
   ]
  },
  {
   "cell_type": "code",
   "execution_count": 42,
   "id": "6d9f38ef",
   "metadata": {},
   "outputs": [
    {
     "name": "stdout",
     "output_type": "stream",
     "text": [
      "Accuracy: 0.8058151342596758\n",
      "F1 score: 0.012291598561621445\n",
      "Kappa: 0.00805450981822764\n",
      "Confusion matrix:\n"
     ]
    },
    {
     "data": {
      "text/plain": [
       "array([[   94,    74],\n",
       "       [15033, 62596]], dtype=int64)"
      ]
     },
     "execution_count": 42,
     "metadata": {},
     "output_type": "execute_result"
    }
   ],
   "source": [
    "print(\"Accuracy: \"+str(accuracy_score(Y_test_SMOTE, y_pred)))\n",
    "print(\"F1 score: \"+str(f1_score(Y_test_SMOTE, y_pred)))\n",
    "print(\"Kappa: \"+str(cohen_kappa_score(Y_test_SMOTE, y_pred)))\n",
    "print(\"Confusion matrix:\")\n",
    "confusion_matrix(Y_test_SMOTE, y_pred)"
   ]
  },
  {
   "cell_type": "markdown",
   "id": "0a08f6ad",
   "metadata": {},
   "source": [
    "Random Forest"
   ]
  },
  {
   "cell_type": "code",
   "execution_count": 43,
   "id": "818cebec",
   "metadata": {},
   "outputs": [
    {
     "name": "stderr",
     "output_type": "stream",
     "text": [
      "C:\\Users\\inima\\anaconda3\\envs\\lamda_ssl\\lib\\site-packages\\ipykernel_launcher.py:2: DataConversionWarning: A column-vector y was passed when a 1d array was expected. Please change the shape of y to (n_samples,), for example using ravel().\n",
      "  \n"
     ]
    }
   ],
   "source": [
    "rf = RandomForestClassifier()\n",
    "rf.fit(X_train_SMOTE_Grover, Y_train_SMOTE)\n",
    "y_pred = rf.predict(X_test_SMOTE_Grover)"
   ]
  },
  {
   "cell_type": "code",
   "execution_count": 44,
   "id": "cb419c78",
   "metadata": {},
   "outputs": [
    {
     "name": "stdout",
     "output_type": "stream",
     "text": [
      "Accuracy: 0.902129902181318\n",
      "F1 score: 0.023846153846153847\n",
      "Kappa: 0.01970350965082379\n",
      "Confusion matrix:\n"
     ]
    },
    {
     "data": {
      "text/plain": [
       "array([[   93,    75],\n",
       "       [ 7539, 70090]], dtype=int64)"
      ]
     },
     "execution_count": 44,
     "metadata": {},
     "output_type": "execute_result"
    }
   ],
   "source": [
    "print(\"Accuracy: \"+str(accuracy_score(Y_test_SMOTE, y_pred)))\n",
    "print(\"F1 score: \"+str(f1_score(Y_test_SMOTE, y_pred)))\n",
    "print(\"Kappa: \"+str(cohen_kappa_score(Y_test_SMOTE, y_pred)))\n",
    "print(\"Confusion matrix:\")\n",
    "confusion_matrix(Y_test_SMOTE, y_pred)"
   ]
  },
  {
   "cell_type": "markdown",
   "id": "c191a3e4",
   "metadata": {},
   "source": [
    "Decision Forest"
   ]
  },
  {
   "cell_type": "code",
   "execution_count": 45,
   "id": "08bc5ec0",
   "metadata": {},
   "outputs": [],
   "source": [
    "clf = tree.DecisionTreeClassifier()\n",
    "clf.fit(X_train_SMOTE_Grover, Y_train_SMOTE)\n",
    "y_pred = clf.predict(X_test_SMOTE_Grover)"
   ]
  },
  {
   "cell_type": "code",
   "execution_count": 46,
   "id": "76701cbc",
   "metadata": {},
   "outputs": [
    {
     "name": "stdout",
     "output_type": "stream",
     "text": [
      "Accuracy: 0.8648019846523645\n",
      "F1 score: 0.01627384960718294\n",
      "Kappa: 0.012074106897530634\n",
      "Confusion matrix:\n"
     ]
    },
    {
     "data": {
      "text/plain": [
       "array([[   87,    81],\n",
       "       [10437, 67192]], dtype=int64)"
      ]
     },
     "execution_count": 46,
     "metadata": {},
     "output_type": "execute_result"
    }
   ],
   "source": [
    "print(\"Accuracy: \"+str(accuracy_score(Y_test_SMOTE, y_pred)))\n",
    "print(\"F1 score: \"+str(f1_score(Y_test_SMOTE, y_pred)))\n",
    "print(\"Kappa: \"+str(cohen_kappa_score(Y_test_SMOTE, y_pred)))\n",
    "print(\"Confusion matrix:\")\n",
    "confusion_matrix(Y_test_SMOTE, y_pred)"
   ]
  },
  {
   "cell_type": "markdown",
   "id": "2f4e6396",
   "metadata": {},
   "source": [
    "Naive Bayes"
   ]
  },
  {
   "cell_type": "code",
   "execution_count": 47,
   "id": "fc53c487",
   "metadata": {},
   "outputs": [
    {
     "name": "stderr",
     "output_type": "stream",
     "text": [
      "C:\\Users\\inima\\anaconda3\\envs\\lamda_ssl\\lib\\site-packages\\sklearn\\utils\\validation.py:993: DataConversionWarning: A column-vector y was passed when a 1d array was expected. Please change the shape of y to (n_samples, ), for example using ravel().\n",
      "  y = column_or_1d(y, warn=True)\n"
     ]
    }
   ],
   "source": [
    "gnb = GaussianNB()\n",
    "gnb.fit(X_train_SMOTE_Grover, Y_train_SMOTE)\n",
    "y_pred = gnb.predict(X_test_SMOTE_Grover)"
   ]
  },
  {
   "cell_type": "code",
   "execution_count": 48,
   "id": "39815c0b",
   "metadata": {},
   "outputs": [
    {
     "name": "stdout",
     "output_type": "stream",
     "text": [
      "Accuracy: 0.8786971219969921\n",
      "F1 score: 0.019736158720265917\n",
      "Kappa: 0.01555861944383008\n",
      "Confusion matrix:\n"
     ]
    },
    {
     "data": {
      "text/plain": [
       "array([[   95,    73],\n",
       "       [ 9364, 68265]], dtype=int64)"
      ]
     },
     "execution_count": 48,
     "metadata": {},
     "output_type": "execute_result"
    }
   ],
   "source": [
    "print(\"Accuracy: \"+str(accuracy_score(Y_test_SMOTE, y_pred)))\n",
    "print(\"F1 score: \"+str(f1_score(Y_test_SMOTE, y_pred)))\n",
    "print(\"Kappa: \"+str(cohen_kappa_score(Y_test_SMOTE, y_pred)))\n",
    "print(\"Confusion matrix:\")\n",
    "confusion_matrix(Y_test_SMOTE, y_pred)"
   ]
  },
  {
   "cell_type": "markdown",
   "id": "ea37d6f6",
   "metadata": {},
   "source": [
    "Multi-layer Perceptron Classifier Neural newtork"
   ]
  },
  {
   "cell_type": "code",
   "execution_count": 49,
   "id": "c5426e8a",
   "metadata": {},
   "outputs": [
    {
     "name": "stderr",
     "output_type": "stream",
     "text": [
      "C:\\Users\\inima\\anaconda3\\envs\\lamda_ssl\\lib\\site-packages\\sklearn\\neural_network\\_multilayer_perceptron.py:1109: DataConversionWarning: A column-vector y was passed when a 1d array was expected. Please change the shape of y to (n_samples, ), for example using ravel().\n",
      "  y = column_or_1d(y, warn=True)\n"
     ]
    }
   ],
   "source": [
    "mlp = MLPClassifier()\n",
    "mlp.fit(X_train_SMOTE_Grover, Y_train_SMOTE)\n",
    "y_pred = mlp.predict(X_test_SMOTE_Grover)"
   ]
  },
  {
   "cell_type": "code",
   "execution_count": 50,
   "id": "e7630e2a",
   "metadata": {},
   "outputs": [
    {
     "name": "stdout",
     "output_type": "stream",
     "text": [
      "Accuracy: 0.7381775646875843\n",
      "F1 score: 0.01183719012273808\n",
      "Kappa: 0.007585953862180861\n",
      "Confusion matrix:\n"
     ]
    },
    {
     "data": {
      "text/plain": [
       "array([[  122,    46],\n",
       "       [20323, 57306]], dtype=int64)"
      ]
     },
     "execution_count": 50,
     "metadata": {},
     "output_type": "execute_result"
    }
   ],
   "source": [
    "print(\"Accuracy: \"+str(accuracy_score(Y_test_SMOTE, y_pred)))\n",
    "print(\"F1 score: \"+str(f1_score(Y_test_SMOTE, y_pred)))\n",
    "print(\"Kappa: \"+str(cohen_kappa_score(Y_test_SMOTE, y_pred)))\n",
    "print(\"Confusion matrix:\")\n",
    "confusion_matrix(Y_test_SMOTE, y_pred)"
   ]
  },
  {
   "cell_type": "markdown",
   "id": "e74398d7",
   "metadata": {},
   "source": [
    "Linear Discriminant Analysis"
   ]
  },
  {
   "cell_type": "code",
   "execution_count": 51,
   "id": "2b52e0a6",
   "metadata": {},
   "outputs": [
    {
     "name": "stderr",
     "output_type": "stream",
     "text": [
      "C:\\Users\\inima\\anaconda3\\envs\\lamda_ssl\\lib\\site-packages\\sklearn\\utils\\validation.py:993: DataConversionWarning: A column-vector y was passed when a 1d array was expected. Please change the shape of y to (n_samples, ), for example using ravel().\n",
      "  y = column_or_1d(y, warn=True)\n"
     ]
    }
   ],
   "source": [
    "lda = LinearDiscriminantAnalysis()\n",
    "lda.fit(X_train_SMOTE_Grover, Y_train_SMOTE)\n",
    "y_pred = lda.predict(X_test_SMOTE_Grover)"
   ]
  },
  {
   "cell_type": "code",
   "execution_count": 52,
   "id": "d5c72106",
   "metadata": {},
   "outputs": [
    {
     "name": "stdout",
     "output_type": "stream",
     "text": [
      "Accuracy: 0.8041569726339062\n",
      "F1 score: 0.013851132686084141\n",
      "Kappa: 0.009620260689928717\n",
      "Confusion matrix:\n"
     ]
    },
    {
     "data": {
      "text/plain": [
       "array([[  107,    61],\n",
       "       [15175, 62454]], dtype=int64)"
      ]
     },
     "execution_count": 52,
     "metadata": {},
     "output_type": "execute_result"
    }
   ],
   "source": [
    "print(\"Accuracy: \"+str(accuracy_score(Y_test_SMOTE, y_pred)))\n",
    "print(\"F1 score: \"+str(f1_score(Y_test_SMOTE, y_pred)))\n",
    "print(\"Kappa: \"+str(cohen_kappa_score(Y_test_SMOTE, y_pred)))\n",
    "print(\"Confusion matrix:\")\n",
    "confusion_matrix(Y_test_SMOTE, y_pred)"
   ]
  },
  {
   "cell_type": "markdown",
   "id": "ca407c08",
   "metadata": {},
   "source": [
    "## 4.3) Estudio con Amat"
   ]
  },
  {
   "cell_type": "code",
   "execution_count": 53,
   "id": "46026906",
   "metadata": {},
   "outputs": [
    {
     "data": {
      "text/html": [
       "<div>\n",
       "<style scoped>\n",
       "    .dataframe tbody tr th:only-of-type {\n",
       "        vertical-align: middle;\n",
       "    }\n",
       "\n",
       "    .dataframe tbody tr th {\n",
       "        vertical-align: top;\n",
       "    }\n",
       "\n",
       "    .dataframe thead th {\n",
       "        text-align: right;\n",
       "    }\n",
       "</style>\n",
       "<table border=\"1\" class=\"dataframe\">\n",
       "  <thead>\n",
       "    <tr style=\"text-align: right;\">\n",
       "      <th></th>\n",
       "      <th>Coef1_Amat</th>\n",
       "      <th>Coef2_Amat</th>\n",
       "      <th>Coef3_Amat</th>\n",
       "      <th>Coef4_Amat</th>\n",
       "    </tr>\n",
       "  </thead>\n",
       "  <tbody>\n",
       "    <tr>\n",
       "      <th>0</th>\n",
       "      <td>0.332314</td>\n",
       "      <td>0.265841</td>\n",
       "      <td>-0.089677</td>\n",
       "      <td>-0.341928</td>\n",
       "    </tr>\n",
       "    <tr>\n",
       "      <th>1</th>\n",
       "      <td>2.305900</td>\n",
       "      <td>0.136100</td>\n",
       "      <td>-0.020900</td>\n",
       "      <td>-0.153900</td>\n",
       "    </tr>\n",
       "    <tr>\n",
       "      <th>2</th>\n",
       "      <td>2.082800</td>\n",
       "      <td>0.404400</td>\n",
       "      <td>0.212800</td>\n",
       "      <td>0.526300</td>\n",
       "    </tr>\n",
       "    <tr>\n",
       "      <th>3</th>\n",
       "      <td>1.405784</td>\n",
       "      <td>0.151975</td>\n",
       "      <td>0.007902</td>\n",
       "      <td>0.061273</td>\n",
       "    </tr>\n",
       "    <tr>\n",
       "      <th>4</th>\n",
       "      <td>1.934100</td>\n",
       "      <td>0.451600</td>\n",
       "      <td>0.044300</td>\n",
       "      <td>0.098200</td>\n",
       "    </tr>\n",
       "    <tr>\n",
       "      <th>...</th>\n",
       "      <td>...</td>\n",
       "      <td>...</td>\n",
       "      <td>...</td>\n",
       "      <td>...</td>\n",
       "    </tr>\n",
       "    <tr>\n",
       "      <th>621027</th>\n",
       "      <td>2.280600</td>\n",
       "      <td>0.569900</td>\n",
       "      <td>0.082400</td>\n",
       "      <td>0.144500</td>\n",
       "    </tr>\n",
       "    <tr>\n",
       "      <th>621028</th>\n",
       "      <td>2.615500</td>\n",
       "      <td>0.303300</td>\n",
       "      <td>0.049700</td>\n",
       "      <td>0.164100</td>\n",
       "    </tr>\n",
       "    <tr>\n",
       "      <th>621029</th>\n",
       "      <td>2.243597</td>\n",
       "      <td>0.520874</td>\n",
       "      <td>0.013702</td>\n",
       "      <td>0.027610</td>\n",
       "    </tr>\n",
       "    <tr>\n",
       "      <th>621030</th>\n",
       "      <td>1.951300</td>\n",
       "      <td>0.385200</td>\n",
       "      <td>0.188400</td>\n",
       "      <td>0.489000</td>\n",
       "    </tr>\n",
       "    <tr>\n",
       "      <th>621031</th>\n",
       "      <td>1.017000</td>\n",
       "      <td>0.283300</td>\n",
       "      <td>0.010700</td>\n",
       "      <td>0.037900</td>\n",
       "    </tr>\n",
       "  </tbody>\n",
       "</table>\n",
       "<p>621032 rows × 4 columns</p>\n",
       "</div>"
      ],
      "text/plain": [
       "        Coef1_Amat  Coef2_Amat  Coef3_Amat  Coef4_Amat\n",
       "0         0.332314    0.265841   -0.089677   -0.341928\n",
       "1         2.305900    0.136100   -0.020900   -0.153900\n",
       "2         2.082800    0.404400    0.212800    0.526300\n",
       "3         1.405784    0.151975    0.007902    0.061273\n",
       "4         1.934100    0.451600    0.044300    0.098200\n",
       "...            ...         ...         ...         ...\n",
       "621027    2.280600    0.569900    0.082400    0.144500\n",
       "621028    2.615500    0.303300    0.049700    0.164100\n",
       "621029    2.243597    0.520874    0.013702    0.027610\n",
       "621030    1.951300    0.385200    0.188400    0.489000\n",
       "621031    1.017000    0.283300    0.010700    0.037900\n",
       "\n",
       "[621032 rows x 4 columns]"
      ]
     },
     "execution_count": 53,
     "metadata": {},
     "output_type": "execute_result"
    }
   ],
   "source": [
    "X_train_SMOTE_Amat=X_train_SMOTE.drop(columns=[\"Coef1_Springate\",\"Coef2_Springate\",\"Coef3_Springate\",\"Coef4_Springate\"])\n",
    "X_train_SMOTE_Amat"
   ]
  },
  {
   "cell_type": "code",
   "execution_count": 54,
   "id": "45271b04",
   "metadata": {},
   "outputs": [
    {
     "data": {
      "text/html": [
       "<div>\n",
       "<style scoped>\n",
       "    .dataframe tbody tr th:only-of-type {\n",
       "        vertical-align: middle;\n",
       "    }\n",
       "\n",
       "    .dataframe tbody tr th {\n",
       "        vertical-align: top;\n",
       "    }\n",
       "\n",
       "    .dataframe thead th {\n",
       "        text-align: right;\n",
       "    }\n",
       "</style>\n",
       "<table border=\"1\" class=\"dataframe\">\n",
       "  <thead>\n",
       "    <tr style=\"text-align: right;\">\n",
       "      <th></th>\n",
       "      <th>Coef1_Amat</th>\n",
       "      <th>Coef2_Amat</th>\n",
       "      <th>Coef3_Amat</th>\n",
       "      <th>Coef4_Amat</th>\n",
       "    </tr>\n",
       "  </thead>\n",
       "  <tbody>\n",
       "    <tr>\n",
       "      <th>674</th>\n",
       "      <td>0.4065</td>\n",
       "      <td>-0.6763</td>\n",
       "      <td>-0.2731</td>\n",
       "      <td>0.4039</td>\n",
       "    </tr>\n",
       "    <tr>\n",
       "      <th>675</th>\n",
       "      <td>1.1318</td>\n",
       "      <td>0.5834</td>\n",
       "      <td>0.0469</td>\n",
       "      <td>0.0804</td>\n",
       "    </tr>\n",
       "    <tr>\n",
       "      <th>676</th>\n",
       "      <td>0.2080</td>\n",
       "      <td>0.1653</td>\n",
       "      <td>-0.0751</td>\n",
       "      <td>-0.4541</td>\n",
       "    </tr>\n",
       "    <tr>\n",
       "      <th>677</th>\n",
       "      <td>2.3731</td>\n",
       "      <td>0.2095</td>\n",
       "      <td>-0.1095</td>\n",
       "      <td>-0.5226</td>\n",
       "    </tr>\n",
       "    <tr>\n",
       "      <th>678</th>\n",
       "      <td>0.6438</td>\n",
       "      <td>0.5311</td>\n",
       "      <td>0.0156</td>\n",
       "      <td>0.0293</td>\n",
       "    </tr>\n",
       "    <tr>\n",
       "      <th>...</th>\n",
       "      <td>...</td>\n",
       "      <td>...</td>\n",
       "      <td>...</td>\n",
       "      <td>...</td>\n",
       "    </tr>\n",
       "    <tr>\n",
       "      <th>388140</th>\n",
       "      <td>0.9596</td>\n",
       "      <td>-0.0421</td>\n",
       "      <td>-0.0072</td>\n",
       "      <td>0.1714</td>\n",
       "    </tr>\n",
       "    <tr>\n",
       "      <th>388141</th>\n",
       "      <td>3.7207</td>\n",
       "      <td>-0.1153</td>\n",
       "      <td>-0.0585</td>\n",
       "      <td>0.5071</td>\n",
       "    </tr>\n",
       "    <tr>\n",
       "      <th>388142</th>\n",
       "      <td>0.0189</td>\n",
       "      <td>0.3601</td>\n",
       "      <td>-0.0130</td>\n",
       "      <td>-0.0360</td>\n",
       "    </tr>\n",
       "    <tr>\n",
       "      <th>388143</th>\n",
       "      <td>1.0615</td>\n",
       "      <td>0.4367</td>\n",
       "      <td>0.0117</td>\n",
       "      <td>0.0269</td>\n",
       "    </tr>\n",
       "    <tr>\n",
       "      <th>388144</th>\n",
       "      <td>3.6889</td>\n",
       "      <td>0.7320</td>\n",
       "      <td>0.0025</td>\n",
       "      <td>0.0034</td>\n",
       "    </tr>\n",
       "  </tbody>\n",
       "</table>\n",
       "<p>77797 rows × 4 columns</p>\n",
       "</div>"
      ],
      "text/plain": [
       "        Coef1_Amat  Coef2_Amat  Coef3_Amat  Coef4_Amat\n",
       "674         0.4065     -0.6763     -0.2731      0.4039\n",
       "675         1.1318      0.5834      0.0469      0.0804\n",
       "676         0.2080      0.1653     -0.0751     -0.4541\n",
       "677         2.3731      0.2095     -0.1095     -0.5226\n",
       "678         0.6438      0.5311      0.0156      0.0293\n",
       "...            ...         ...         ...         ...\n",
       "388140      0.9596     -0.0421     -0.0072      0.1714\n",
       "388141      3.7207     -0.1153     -0.0585      0.5071\n",
       "388142      0.0189      0.3601     -0.0130     -0.0360\n",
       "388143      1.0615      0.4367      0.0117      0.0269\n",
       "388144      3.6889      0.7320      0.0025      0.0034\n",
       "\n",
       "[77797 rows x 4 columns]"
      ]
     },
     "execution_count": 54,
     "metadata": {},
     "output_type": "execute_result"
    }
   ],
   "source": [
    "X_test_SMOTE_Amat=X_test_SMOTE.drop(columns=[\"Coef1_Springate\",\"Coef2_Springate\",\"Coef3_Springate\",\"Coef4_Springate\"])\n",
    "X_test_SMOTE_Amat"
   ]
  },
  {
   "cell_type": "markdown",
   "id": "bb05dd21",
   "metadata": {},
   "source": [
    "K Nearest Neighbours"
   ]
  },
  {
   "cell_type": "code",
   "execution_count": 55,
   "id": "72284753",
   "metadata": {},
   "outputs": [
    {
     "name": "stderr",
     "output_type": "stream",
     "text": [
      "C:\\Users\\inima\\anaconda3\\envs\\lamda_ssl\\lib\\site-packages\\sklearn\\neighbors\\_classification.py:198: DataConversionWarning: A column-vector y was passed when a 1d array was expected. Please change the shape of y to (n_samples,), for example using ravel().\n",
      "  return self._fit(X, y)\n"
     ]
    }
   ],
   "source": [
    "knn = KNeighborsClassifier()\n",
    "knn.fit(X_train_SMOTE_Amat, Y_train_SMOTE)\n",
    "y_pred = knn.predict(X_test_SMOTE_Amat)"
   ]
  },
  {
   "cell_type": "code",
   "execution_count": 56,
   "id": "720c6c1d",
   "metadata": {},
   "outputs": [
    {
     "name": "stdout",
     "output_type": "stream",
     "text": [
      "Accuracy: 0.8958057508644293\n",
      "F1 score: 0.022666988184229565\n",
      "Kappa: 0.01851387872907806\n",
      "Confusion matrix:\n"
     ]
    },
    {
     "data": {
      "text/plain": [
       "array([[   94,    74],\n",
       "       [ 8032, 69597]], dtype=int64)"
      ]
     },
     "execution_count": 56,
     "metadata": {},
     "output_type": "execute_result"
    }
   ],
   "source": [
    "print(\"Accuracy: \"+str(accuracy_score(Y_test_SMOTE, y_pred)))\n",
    "print(\"F1 score: \"+str(f1_score(Y_test_SMOTE, y_pred)))\n",
    "print(\"Kappa: \"+str(cohen_kappa_score(Y_test_SMOTE, y_pred)))\n",
    "print(\"Confusion matrix:\")\n",
    "confusion_matrix(Y_test_SMOTE, y_pred)"
   ]
  },
  {
   "cell_type": "markdown",
   "id": "e9bfa25c",
   "metadata": {},
   "source": [
    "Random Forest"
   ]
  },
  {
   "cell_type": "code",
   "execution_count": 57,
   "id": "fd63d5b9",
   "metadata": {},
   "outputs": [
    {
     "name": "stderr",
     "output_type": "stream",
     "text": [
      "C:\\Users\\inima\\anaconda3\\envs\\lamda_ssl\\lib\\site-packages\\ipykernel_launcher.py:2: DataConversionWarning: A column-vector y was passed when a 1d array was expected. Please change the shape of y to (n_samples,), for example using ravel().\n",
      "  \n"
     ]
    }
   ],
   "source": [
    "rf = RandomForestClassifier()\n",
    "rf.fit(X_train_SMOTE_Amat, Y_train_SMOTE)\n",
    "y_pred = rf.predict(X_test_SMOTE_Amat)"
   ]
  },
  {
   "cell_type": "code",
   "execution_count": 58,
   "id": "178425b2",
   "metadata": {},
   "outputs": [
    {
     "name": "stdout",
     "output_type": "stream",
     "text": [
      "Accuracy: 0.9651400439605641\n",
      "F1 score: 0.06288873531444367\n",
      "Kappa: 0.05906079359677696\n",
      "Confusion matrix:\n"
     ]
    },
    {
     "data": {
      "text/plain": [
       "array([[   91,    77],\n",
       "       [ 2635, 74994]], dtype=int64)"
      ]
     },
     "execution_count": 58,
     "metadata": {},
     "output_type": "execute_result"
    }
   ],
   "source": [
    "print(\"Accuracy: \"+str(accuracy_score(Y_test_SMOTE, y_pred)))\n",
    "print(\"F1 score: \"+str(f1_score(Y_test_SMOTE, y_pred)))\n",
    "print(\"Kappa: \"+str(cohen_kappa_score(Y_test_SMOTE, y_pred)))\n",
    "print(\"Confusion matrix:\")\n",
    "confusion_matrix(Y_test_SMOTE, y_pred)"
   ]
  },
  {
   "cell_type": "markdown",
   "id": "5d270be1",
   "metadata": {},
   "source": [
    "Decision Forest"
   ]
  },
  {
   "cell_type": "code",
   "execution_count": 59,
   "id": "f76d176c",
   "metadata": {},
   "outputs": [],
   "source": [
    "clf = tree.DecisionTreeClassifier()\n",
    "clf.fit(X_train_SMOTE_Amat, Y_train_SMOTE)\n",
    "y_pred = clf.predict(X_test_SMOTE_Amat)"
   ]
  },
  {
   "cell_type": "code",
   "execution_count": 60,
   "id": "15bba9fb",
   "metadata": {},
   "outputs": [
    {
     "name": "stdout",
     "output_type": "stream",
     "text": [
      "Accuracy: 0.9505636464131008\n",
      "F1 score: 0.045657568238213396\n",
      "Kappa: 0.041691235810944915\n",
      "Confusion matrix:\n"
     ]
    },
    {
     "data": {
      "text/plain": [
       "array([[   92,    76],\n",
       "       [ 3770, 73859]], dtype=int64)"
      ]
     },
     "execution_count": 60,
     "metadata": {},
     "output_type": "execute_result"
    }
   ],
   "source": [
    "print(\"Accuracy: \"+str(accuracy_score(Y_test_SMOTE, y_pred)))\n",
    "print(\"F1 score: \"+str(f1_score(Y_test_SMOTE, y_pred)))\n",
    "print(\"Kappa: \"+str(cohen_kappa_score(Y_test_SMOTE, y_pred)))\n",
    "print(\"Confusion matrix:\")\n",
    "confusion_matrix(Y_test_SMOTE, y_pred)"
   ]
  },
  {
   "cell_type": "markdown",
   "id": "30cc1488",
   "metadata": {},
   "source": [
    "Naive Bayes"
   ]
  },
  {
   "cell_type": "code",
   "execution_count": 61,
   "id": "92f50757",
   "metadata": {},
   "outputs": [
    {
     "name": "stderr",
     "output_type": "stream",
     "text": [
      "C:\\Users\\inima\\anaconda3\\envs\\lamda_ssl\\lib\\site-packages\\sklearn\\utils\\validation.py:993: DataConversionWarning: A column-vector y was passed when a 1d array was expected. Please change the shape of y to (n_samples, ), for example using ravel().\n",
      "  y = column_or_1d(y, warn=True)\n"
     ]
    }
   ],
   "source": [
    "gnb = GaussianNB()\n",
    "gnb.fit(X_train_SMOTE_Amat, Y_train_SMOTE)\n",
    "y_pred = gnb.predict(X_test_SMOTE_Amat)"
   ]
  },
  {
   "cell_type": "code",
   "execution_count": 62,
   "id": "2946a35c",
   "metadata": {},
   "outputs": [
    {
     "name": "stdout",
     "output_type": "stream",
     "text": [
      "Accuracy: 0.8149285962183632\n",
      "F1 score: 0.016395682470282825\n",
      "Kappa: 0.012178311806791853\n",
      "Confusion matrix:\n"
     ]
    },
    {
     "data": {
      "text/plain": [
       "array([[  120,    48],\n",
       "       [14350, 63279]], dtype=int64)"
      ]
     },
     "execution_count": 62,
     "metadata": {},
     "output_type": "execute_result"
    }
   ],
   "source": [
    "print(\"Accuracy: \"+str(accuracy_score(Y_test_SMOTE, y_pred)))\n",
    "print(\"F1 score: \"+str(f1_score(Y_test_SMOTE, y_pred)))\n",
    "print(\"Kappa: \"+str(cohen_kappa_score(Y_test_SMOTE, y_pred)))\n",
    "print(\"Confusion matrix:\")\n",
    "confusion_matrix(Y_test_SMOTE, y_pred)"
   ]
  },
  {
   "cell_type": "markdown",
   "id": "cfbbb56e",
   "metadata": {},
   "source": [
    "Multi-layer Perceptron Classifier Neural newtork"
   ]
  },
  {
   "cell_type": "code",
   "execution_count": 63,
   "id": "664a5857",
   "metadata": {},
   "outputs": [
    {
     "name": "stderr",
     "output_type": "stream",
     "text": [
      "C:\\Users\\inima\\anaconda3\\envs\\lamda_ssl\\lib\\site-packages\\sklearn\\neural_network\\_multilayer_perceptron.py:1109: DataConversionWarning: A column-vector y was passed when a 1d array was expected. Please change the shape of y to (n_samples, ), for example using ravel().\n",
      "  y = column_or_1d(y, warn=True)\n",
      "C:\\Users\\inima\\anaconda3\\envs\\lamda_ssl\\lib\\site-packages\\sklearn\\neural_network\\_multilayer_perceptron.py:696: ConvergenceWarning: Stochastic Optimizer: Maximum iterations (200) reached and the optimization hasn't converged yet.\n",
      "  ConvergenceWarning,\n"
     ]
    }
   ],
   "source": [
    "mlp = MLPClassifier()\n",
    "mlp.fit(X_train_SMOTE_Amat, Y_train_SMOTE)\n",
    "y_pred = mlp.predict(X_test_SMOTE_Amat)"
   ]
  },
  {
   "cell_type": "code",
   "execution_count": 64,
   "id": "0fa67950",
   "metadata": {},
   "outputs": [
    {
     "name": "stdout",
     "output_type": "stream",
     "text": [
      "Accuracy: 0.7840533696672108\n",
      "F1 score: 0.014431538190777896\n",
      "Kappa: 0.010198785366565932\n",
      "Confusion matrix:\n"
     ]
    },
    {
     "data": {
      "text/plain": [
       "array([[  123,    45],\n",
       "       [16755, 60874]], dtype=int64)"
      ]
     },
     "execution_count": 64,
     "metadata": {},
     "output_type": "execute_result"
    }
   ],
   "source": [
    "print(\"Accuracy: \"+str(accuracy_score(Y_test_SMOTE, y_pred)))\n",
    "print(\"F1 score: \"+str(f1_score(Y_test_SMOTE, y_pred)))\n",
    "print(\"Kappa: \"+str(cohen_kappa_score(Y_test_SMOTE, y_pred)))\n",
    "print(\"Confusion matrix:\")\n",
    "confusion_matrix(Y_test_SMOTE, y_pred)"
   ]
  },
  {
   "cell_type": "markdown",
   "id": "ead5d522",
   "metadata": {},
   "source": [
    "Linear Discriminant Analysis"
   ]
  },
  {
   "cell_type": "code",
   "execution_count": 65,
   "id": "8115211b",
   "metadata": {},
   "outputs": [
    {
     "name": "stderr",
     "output_type": "stream",
     "text": [
      "C:\\Users\\inima\\anaconda3\\envs\\lamda_ssl\\lib\\site-packages\\sklearn\\utils\\validation.py:993: DataConversionWarning: A column-vector y was passed when a 1d array was expected. Please change the shape of y to (n_samples, ), for example using ravel().\n",
      "  y = column_or_1d(y, warn=True)\n"
     ]
    }
   ],
   "source": [
    "lda = LinearDiscriminantAnalysis()\n",
    "lda.fit(X_train_SMOTE_Amat, Y_train_SMOTE)\n",
    "y_pred = lda.predict(X_test_SMOTE_Amat)"
   ]
  },
  {
   "cell_type": "code",
   "execution_count": 66,
   "id": "d820b684",
   "metadata": {},
   "outputs": [
    {
     "name": "stdout",
     "output_type": "stream",
     "text": [
      "Accuracy: 0.673252181960744\n",
      "F1 score: 0.009507481296758106\n",
      "Kappa: 0.005239301065588342\n",
      "Confusion matrix:\n"
     ]
    },
    {
     "data": {
      "text/plain": [
       "array([[  122,    46],\n",
       "       [25374, 52255]], dtype=int64)"
      ]
     },
     "execution_count": 66,
     "metadata": {},
     "output_type": "execute_result"
    }
   ],
   "source": [
    "print(\"Accuracy: \"+str(accuracy_score(Y_test_SMOTE, y_pred)))\n",
    "print(\"F1 score: \"+str(f1_score(Y_test_SMOTE, y_pred)))\n",
    "print(\"Kappa: \"+str(cohen_kappa_score(Y_test_SMOTE, y_pred)))\n",
    "print(\"Confusion matrix:\")\n",
    "confusion_matrix(Y_test_SMOTE, y_pred)"
   ]
  },
  {
   "cell_type": "markdown",
   "id": "d8a2cf42",
   "metadata": {},
   "source": [
    "## 4.4) Estudio con todo"
   ]
  },
  {
   "cell_type": "markdown",
   "id": "cadfa881",
   "metadata": {},
   "source": [
    "K Nearest Neighbours"
   ]
  },
  {
   "cell_type": "code",
   "execution_count": 67,
   "id": "d8e82a19",
   "metadata": {},
   "outputs": [
    {
     "name": "stderr",
     "output_type": "stream",
     "text": [
      "C:\\Users\\inima\\anaconda3\\envs\\lamda_ssl\\lib\\site-packages\\sklearn\\neighbors\\_classification.py:198: DataConversionWarning: A column-vector y was passed when a 1d array was expected. Please change the shape of y to (n_samples,), for example using ravel().\n",
      "  return self._fit(X, y)\n"
     ]
    }
   ],
   "source": [
    "knn = KNeighborsClassifier()\n",
    "knn.fit(X_train_SMOTE, Y_train_SMOTE)\n",
    "y_pred = knn.predict(X_test_SMOTE)"
   ]
  },
  {
   "cell_type": "code",
   "execution_count": 68,
   "id": "ae741088",
   "metadata": {},
   "outputs": [
    {
     "name": "stdout",
     "output_type": "stream",
     "text": [
      "Accuracy: 0.9653199994858414\n",
      "F1 score: 0.04731638418079096\n",
      "Kappa: 0.04343010399861447\n",
      "Confusion matrix:\n"
     ]
    },
    {
     "data": {
      "text/plain": [
       "array([[   67,   101],\n",
       "       [ 2597, 75032]], dtype=int64)"
      ]
     },
     "execution_count": 68,
     "metadata": {},
     "output_type": "execute_result"
    }
   ],
   "source": [
    "print(\"Accuracy: \"+str(accuracy_score(Y_test_SMOTE, y_pred)))\n",
    "print(\"F1 score: \"+str(f1_score(Y_test_SMOTE, y_pred)))\n",
    "print(\"Kappa: \"+str(cohen_kappa_score(Y_test_SMOTE, y_pred)))\n",
    "print(\"Confusion matrix:\")\n",
    "confusion_matrix(Y_test_SMOTE, y_pred)"
   ]
  },
  {
   "cell_type": "markdown",
   "id": "75ed6c0c",
   "metadata": {},
   "source": [
    "Random Forest"
   ]
  },
  {
   "cell_type": "code",
   "execution_count": 69,
   "id": "57a0ac11",
   "metadata": {},
   "outputs": [
    {
     "name": "stderr",
     "output_type": "stream",
     "text": [
      "C:\\Users\\inima\\anaconda3\\envs\\lamda_ssl\\lib\\site-packages\\ipykernel_launcher.py:2: DataConversionWarning: A column-vector y was passed when a 1d array was expected. Please change the shape of y to (n_samples,), for example using ravel().\n",
      "  \n"
     ]
    }
   ],
   "source": [
    "rf = RandomForestClassifier()\n",
    "rf.fit(X_train_SMOTE, Y_train_SMOTE)\n",
    "y_pred = rf.predict(X_test_SMOTE)"
   ]
  },
  {
   "cell_type": "code",
   "execution_count": 70,
   "id": "f8c7b411",
   "metadata": {},
   "outputs": [
    {
     "name": "stdout",
     "output_type": "stream",
     "text": [
      "Accuracy: 0.9958481689525303\n",
      "F1 score: 0.3394683026584867\n",
      "Kappa: 0.3375902866378083\n",
      "Confusion matrix:\n"
     ]
    },
    {
     "data": {
      "text/plain": [
       "array([[   83,    85],\n",
       "       [  238, 77391]], dtype=int64)"
      ]
     },
     "execution_count": 70,
     "metadata": {},
     "output_type": "execute_result"
    }
   ],
   "source": [
    "print(\"Accuracy: \"+str(accuracy_score(Y_test_SMOTE, y_pred)))\n",
    "print(\"F1 score: \"+str(f1_score(Y_test_SMOTE, y_pred)))\n",
    "print(\"Kappa: \"+str(cohen_kappa_score(Y_test_SMOTE, y_pred)))\n",
    "print(\"Confusion matrix:\")\n",
    "confusion_matrix(Y_test_SMOTE, y_pred)"
   ]
  },
  {
   "cell_type": "markdown",
   "id": "9da16070",
   "metadata": {},
   "source": [
    "Decision Forest"
   ]
  },
  {
   "cell_type": "code",
   "execution_count": 71,
   "id": "6f959baa",
   "metadata": {},
   "outputs": [],
   "source": [
    "clf = tree.DecisionTreeClassifier()\n",
    "clf.fit(X_train_SMOTE, Y_train_SMOTE)\n",
    "y_pred = clf.predict(X_test_SMOTE)"
   ]
  },
  {
   "cell_type": "code",
   "execution_count": 72,
   "id": "454c8894",
   "metadata": {},
   "outputs": [
    {
     "name": "stdout",
     "output_type": "stream",
     "text": [
      "Accuracy: 0.9797421494402098\n",
      "F1 score: 0.09942857142857144\n",
      "Kappa: 0.09589867499474503\n",
      "Confusion matrix:\n"
     ]
    },
    {
     "data": {
      "text/plain": [
       "array([[   87,    81],\n",
       "       [ 1495, 76134]], dtype=int64)"
      ]
     },
     "execution_count": 72,
     "metadata": {},
     "output_type": "execute_result"
    }
   ],
   "source": [
    "print(\"Accuracy: \"+str(accuracy_score(Y_test_SMOTE, y_pred)))\n",
    "print(\"F1 score: \"+str(f1_score(Y_test_SMOTE, y_pred)))\n",
    "print(\"Kappa: \"+str(cohen_kappa_score(Y_test_SMOTE, y_pred)))\n",
    "print(\"Confusion matrix:\")\n",
    "confusion_matrix(Y_test_SMOTE, y_pred)"
   ]
  },
  {
   "cell_type": "markdown",
   "id": "40e90eab",
   "metadata": {},
   "source": [
    "Naive Bayes"
   ]
  },
  {
   "cell_type": "code",
   "execution_count": 73,
   "id": "e66d4fe1",
   "metadata": {},
   "outputs": [
    {
     "name": "stderr",
     "output_type": "stream",
     "text": [
      "C:\\Users\\inima\\anaconda3\\envs\\lamda_ssl\\lib\\site-packages\\sklearn\\utils\\validation.py:993: DataConversionWarning: A column-vector y was passed when a 1d array was expected. Please change the shape of y to (n_samples, ), for example using ravel().\n",
      "  y = column_or_1d(y, warn=True)\n"
     ]
    }
   ],
   "source": [
    "gnb = GaussianNB()\n",
    "gnb.fit(X_train_SMOTE, Y_train_SMOTE)\n",
    "y_pred = gnb.predict(X_test_SMOTE)"
   ]
  },
  {
   "cell_type": "code",
   "execution_count": 74,
   "id": "60e0454b",
   "metadata": {},
   "outputs": [
    {
     "name": "stdout",
     "output_type": "stream",
     "text": [
      "Accuracy: 0.834029589829942\n",
      "F1 score: 0.01794949802251293\n",
      "Kappa: 0.013744353492608274\n",
      "Confusion matrix:\n"
     ]
    },
    {
     "data": {
      "text/plain": [
       "array([[  118,    50],\n",
       "       [12862, 64767]], dtype=int64)"
      ]
     },
     "execution_count": 74,
     "metadata": {},
     "output_type": "execute_result"
    }
   ],
   "source": [
    "print(\"Accuracy: \"+str(accuracy_score(Y_test_SMOTE, y_pred)))\n",
    "print(\"F1 score: \"+str(f1_score(Y_test_SMOTE, y_pred)))\n",
    "print(\"Kappa: \"+str(cohen_kappa_score(Y_test_SMOTE, y_pred)))\n",
    "print(\"Confusion matrix:\")\n",
    "confusion_matrix(Y_test_SMOTE, y_pred)"
   ]
  },
  {
   "cell_type": "markdown",
   "id": "fcd76a6a",
   "metadata": {},
   "source": [
    "Multi-layer Perceptron Classifier Neural newtork"
   ]
  },
  {
   "cell_type": "code",
   "execution_count": 75,
   "id": "e7f14cdb",
   "metadata": {},
   "outputs": [
    {
     "name": "stderr",
     "output_type": "stream",
     "text": [
      "C:\\Users\\inima\\anaconda3\\envs\\lamda_ssl\\lib\\site-packages\\sklearn\\neural_network\\_multilayer_perceptron.py:1109: DataConversionWarning: A column-vector y was passed when a 1d array was expected. Please change the shape of y to (n_samples, ), for example using ravel().\n",
      "  y = column_or_1d(y, warn=True)\n",
      "C:\\Users\\inima\\anaconda3\\envs\\lamda_ssl\\lib\\site-packages\\sklearn\\neural_network\\_multilayer_perceptron.py:696: ConvergenceWarning: Stochastic Optimizer: Maximum iterations (200) reached and the optimization hasn't converged yet.\n",
      "  ConvergenceWarning,\n"
     ]
    }
   ],
   "source": [
    "mlp = MLPClassifier()\n",
    "mlp.fit(X_train_SMOTE, Y_train_SMOTE)\n",
    "y_pred = mlp.predict(X_test_SMOTE)"
   ]
  },
  {
   "cell_type": "code",
   "execution_count": 76,
   "id": "59ad89a2",
   "metadata": {},
   "outputs": [
    {
     "name": "stdout",
     "output_type": "stream",
     "text": [
      "Accuracy: 0.8846356543311439\n",
      "F1 score: 0.02201155061566961\n",
      "Kappa: 0.01784735355072764\n",
      "Confusion matrix:\n"
     ]
    },
    {
     "data": {
      "text/plain": [
       "array([[  101,    67],\n",
       "       [ 8908, 68721]], dtype=int64)"
      ]
     },
     "execution_count": 76,
     "metadata": {},
     "output_type": "execute_result"
    }
   ],
   "source": [
    "print(\"Accuracy: \"+str(accuracy_score(Y_test_SMOTE, y_pred)))\n",
    "print(\"F1 score: \"+str(f1_score(Y_test_SMOTE, y_pred)))\n",
    "print(\"Kappa: \"+str(cohen_kappa_score(Y_test_SMOTE, y_pred)))\n",
    "print(\"Confusion matrix:\")\n",
    "confusion_matrix(Y_test_SMOTE, y_pred)"
   ]
  },
  {
   "cell_type": "markdown",
   "id": "9ee43331",
   "metadata": {},
   "source": [
    "Linear Discriminant Analysis"
   ]
  },
  {
   "cell_type": "code",
   "execution_count": 77,
   "id": "442008db",
   "metadata": {},
   "outputs": [
    {
     "name": "stderr",
     "output_type": "stream",
     "text": [
      "C:\\Users\\inima\\anaconda3\\envs\\lamda_ssl\\lib\\site-packages\\sklearn\\utils\\validation.py:993: DataConversionWarning: A column-vector y was passed when a 1d array was expected. Please change the shape of y to (n_samples, ), for example using ravel().\n",
      "  y = column_or_1d(y, warn=True)\n"
     ]
    }
   ],
   "source": [
    "lda = LinearDiscriminantAnalysis()\n",
    "lda.fit(X_train_SMOTE, Y_train_SMOTE)\n",
    "y_pred = lda.predict(X_test_SMOTE)"
   ]
  },
  {
   "cell_type": "code",
   "execution_count": 78,
   "id": "308d71c5",
   "metadata": {},
   "outputs": [
    {
     "name": "stdout",
     "output_type": "stream",
     "text": [
      "Accuracy: 0.6362841754823451\n",
      "F1 score: 0.009382439434252907\n",
      "Kappa: 0.005110852357214202\n",
      "Confusion matrix:\n"
     ]
    },
    {
     "data": {
      "text/plain": [
       "array([[  134,    34],\n",
       "       [28262, 49367]], dtype=int64)"
      ]
     },
     "execution_count": 78,
     "metadata": {},
     "output_type": "execute_result"
    }
   ],
   "source": [
    "print(\"Accuracy: \"+str(accuracy_score(Y_test_SMOTE, y_pred)))\n",
    "print(\"F1 score: \"+str(f1_score(Y_test_SMOTE, y_pred)))\n",
    "print(\"Kappa: \"+str(cohen_kappa_score(Y_test_SMOTE, y_pred)))\n",
    "print(\"Confusion matrix:\")\n",
    "confusion_matrix(Y_test_SMOTE, y_pred)"
   ]
  }
 ],
 "metadata": {
  "kernelspec": {
   "display_name": "Python [conda env:lamda_ssl]",
   "language": "python",
   "name": "conda-env-lamda_ssl-py"
  },
  "language_info": {
   "codemirror_mode": {
    "name": "ipython",
    "version": 3
   },
   "file_extension": ".py",
   "mimetype": "text/x-python",
   "name": "python",
   "nbconvert_exporter": "python",
   "pygments_lexer": "ipython3",
   "version": "3.7.13"
  }
 },
 "nbformat": 4,
 "nbformat_minor": 5
}
